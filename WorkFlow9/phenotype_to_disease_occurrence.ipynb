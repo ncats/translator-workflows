{
 "cells": [
  {
   "cell_type": "markdown",
   "metadata": {},
   "source": [
    "# Workflow 9: Phenotype to Disease with BiCluster"
   ]
  },
  {
   "cell_type": "code",
   "execution_count": 1,
   "metadata": {},
   "outputs": [],
   "source": [
    "import bicluster_phenotype_to_disease, importlib, asyncio"
   ]
  },
  {
   "cell_type": "code",
   "execution_count": 2,
   "metadata": {},
   "outputs": [
    {
     "data": {
      "text/plain": [
       "<module 'bicluster_phenotype_to_disease' from '/Users/colincurtis/Documents/renci/translator-workflows/WorkFlow9/bicluster_phenotype_to_disease.py'>"
      ]
     },
     "execution_count": 2,
     "metadata": {},
     "output_type": "execute_result"
    }
   ],
   "source": [
    "importlib.reload(bicluster_phenotype_to_disease) #this is a nice thing or locale module development"
   ]
  },
  {
   "cell_type": "code",
   "execution_count": 3,
   "metadata": {},
   "outputs": [],
   "source": [
    "phenotype_to_disease_object = bicluster_phenotype_to_disease.phenotype_to_disease()"
   ]
  },
  {
   "cell_type": "code",
   "execution_count": 4,
   "metadata": {},
   "outputs": [],
   "source": [
    "diabetes_phenotypic_IDs = ['HP:0000819', 'HP:0000873', 'HP:0005978', 'HP:0100651']"
   ]
  },
  {
   "cell_type": "code",
   "execution_count": 5,
   "metadata": {},
   "outputs": [
    {
     "data": {
      "text/plain": [
       "['HP:0000819', 'HP:0000873', 'HP:0005978', 'HP:0100651']"
      ]
     },
     "execution_count": 5,
     "metadata": {},
     "output_type": "execute_result"
    }
   ],
   "source": [
    "diabetes_phenotypic_IDs"
   ]
  },
  {
   "cell_type": "code",
   "execution_count": 6,
   "metadata": {},
   "outputs": [],
   "source": [
    "loop = asyncio.get_event_loop()"
   ]
  },
  {
   "cell_type": "code",
   "execution_count": 7,
   "metadata": {},
   "outputs": [],
   "source": [
    "counted_disease_ids = loop.run_until_complete(phenotype_to_disease_object.phenotype_to_disease_biclusters_async(diabetes_phenotypic_IDs))"
   ]
  },
  {
   "cell_type": "code",
   "execution_count": 8,
   "metadata": {},
   "outputs": [
    {
     "data": {
      "text/plain": [
       "[('MONDO.0007030', 52),\n",
       " ('MONDO.0024521', 52),\n",
       " ('MONDO.0007032', 52),\n",
       " ('MONDO.0007033', 52),\n",
       " ('MONDO.0024506', 49),\n",
       " ('MONDO.0043003', 44),\n",
       " ('MONDO.0007036', 34),\n",
       " ('MONDO.0007037', 34),\n",
       " ('MONDO.0007038', 34),\n",
       " ('MONDO.0007039', 34),\n",
       " ('MONDO.0007040', 34),\n",
       " ('MONDO.0007041', 34),\n",
       " ('MONDO.0007042', 33),\n",
       " ('MONDO.0007043', 29),\n",
       " ('MONDO.0007044', 25),\n",
       " ('MONDO.0007045', 23),\n",
       " ('MONDO.0007046', 13),\n",
       " ('MONDO.0007047', 10),\n",
       " ('MONDO.0007048', 8),\n",
       " ('MONDO.0007049', 6),\n",
       " ('MONDO.0007050', 6),\n",
       " ('MONDO.0007051', 5),\n",
       " ('MONDO.0007052', 4),\n",
       " ('MONDO.0007053', 3),\n",
       " ('MONDO.0007054', 2),\n",
       " ('MONDO.0007055', 2)]"
      ]
     },
     "execution_count": 8,
     "metadata": {},
     "output_type": "execute_result"
    }
   ],
   "source": [
    "counted_disease_ids"
   ]
  },
  {
   "cell_type": "code",
   "execution_count": null,
   "metadata": {},
   "outputs": [],
   "source": []
  }
 ],
 "metadata": {
  "kernelspec": {
   "display_name": "Python 3",
   "language": "python",
   "name": "python3"
  },
  "language_info": {
   "codemirror_mode": {
    "name": "ipython",
    "version": 3
   },
   "file_extension": ".py",
   "mimetype": "text/x-python",
   "name": "python",
   "nbconvert_exporter": "python",
   "pygments_lexer": "ipython3",
   "version": "3.7.0"
  }
 },
 "nbformat": 4,
 "nbformat_minor": 2
}
