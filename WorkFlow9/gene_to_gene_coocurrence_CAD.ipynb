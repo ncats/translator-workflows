{
 "cells": [
  {
   "cell_type": "markdown",
   "metadata": {},
   "source": [
    "# Workflow 9: Using MAK (biclusters) to Expand on an Input Monogenic Disease Gene List"
   ]
  },
  {
   "cell_type": "code",
   "execution_count": 1,
   "metadata": {},
   "outputs": [],
   "source": [
    "import bicluster_gene_to_gene, importlib, asyncio"
   ]
  },
  {
   "cell_type": "code",
   "execution_count": 3,
   "metadata": {},
   "outputs": [],
   "source": [
    "### insert a blurb about the coocurrence algorithm"
   ]
  },
  {
   "cell_type": "code",
   "execution_count": 4,
   "metadata": {},
   "outputs": [],
   "source": [
    "### insert a blurb about the MAK algorithm"
   ]
  },
  {
   "cell_type": "code",
   "execution_count": 3,
   "metadata": {},
   "outputs": [],
   "source": [
    "GeneCoocurrenceByBiclusterObject = bicluster_gene_to_gene.CoocurrenceByBicluster()"
   ]
  },
  {
   "cell_type": "code",
   "execution_count": 4,
   "metadata": {},
   "outputs": [
    {
     "ename": "URLError",
     "evalue": "<urlopen error [SSL: CERTIFICATE_VERIFY_FAILED] certificate verify failed: unable to get local issuer certificate (_ssl.c:1049)>",
     "output_type": "error",
     "traceback": [
      "\u001b[0;31m---------------------------------------------------------------------------\u001b[0m",
      "\u001b[0;31mSSLCertVerificationError\u001b[0m                  Traceback (most recent call last)",
      "\u001b[0;32m/Library/Frameworks/Python.framework/Versions/3.7/lib/python3.7/urllib/request.py\u001b[0m in \u001b[0;36mdo_open\u001b[0;34m(self, http_class, req, **http_conn_args)\u001b[0m\n\u001b[1;32m   1316\u001b[0m                 h.request(req.get_method(), req.selector, req.data, headers,\n\u001b[0;32m-> 1317\u001b[0;31m                           encode_chunked=req.has_header('Transfer-encoding'))\n\u001b[0m\u001b[1;32m   1318\u001b[0m             \u001b[0;32mexcept\u001b[0m \u001b[0mOSError\u001b[0m \u001b[0;32mas\u001b[0m \u001b[0merr\u001b[0m\u001b[0;34m:\u001b[0m \u001b[0;31m# timeout error\u001b[0m\u001b[0;34m\u001b[0m\u001b[0m\n",
      "\u001b[0;32m/Library/Frameworks/Python.framework/Versions/3.7/lib/python3.7/http/client.py\u001b[0m in \u001b[0;36mrequest\u001b[0;34m(self, method, url, body, headers, encode_chunked)\u001b[0m\n\u001b[1;32m   1228\u001b[0m         \u001b[0;34m\"\"\"Send a complete request to the server.\"\"\"\u001b[0m\u001b[0;34m\u001b[0m\u001b[0m\n\u001b[0;32m-> 1229\u001b[0;31m         \u001b[0mself\u001b[0m\u001b[0;34m.\u001b[0m\u001b[0m_send_request\u001b[0m\u001b[0;34m(\u001b[0m\u001b[0mmethod\u001b[0m\u001b[0;34m,\u001b[0m \u001b[0murl\u001b[0m\u001b[0;34m,\u001b[0m \u001b[0mbody\u001b[0m\u001b[0;34m,\u001b[0m \u001b[0mheaders\u001b[0m\u001b[0;34m,\u001b[0m \u001b[0mencode_chunked\u001b[0m\u001b[0;34m)\u001b[0m\u001b[0;34m\u001b[0m\u001b[0m\n\u001b[0m\u001b[1;32m   1230\u001b[0m \u001b[0;34m\u001b[0m\u001b[0m\n",
      "\u001b[0;32m/Library/Frameworks/Python.framework/Versions/3.7/lib/python3.7/http/client.py\u001b[0m in \u001b[0;36m_send_request\u001b[0;34m(self, method, url, body, headers, encode_chunked)\u001b[0m\n\u001b[1;32m   1274\u001b[0m             \u001b[0mbody\u001b[0m \u001b[0;34m=\u001b[0m \u001b[0m_encode\u001b[0m\u001b[0;34m(\u001b[0m\u001b[0mbody\u001b[0m\u001b[0;34m,\u001b[0m \u001b[0;34m'body'\u001b[0m\u001b[0;34m)\u001b[0m\u001b[0;34m\u001b[0m\u001b[0m\n\u001b[0;32m-> 1275\u001b[0;31m         \u001b[0mself\u001b[0m\u001b[0;34m.\u001b[0m\u001b[0mendheaders\u001b[0m\u001b[0;34m(\u001b[0m\u001b[0mbody\u001b[0m\u001b[0;34m,\u001b[0m \u001b[0mencode_chunked\u001b[0m\u001b[0;34m=\u001b[0m\u001b[0mencode_chunked\u001b[0m\u001b[0;34m)\u001b[0m\u001b[0;34m\u001b[0m\u001b[0m\n\u001b[0m\u001b[1;32m   1276\u001b[0m \u001b[0;34m\u001b[0m\u001b[0m\n",
      "\u001b[0;32m/Library/Frameworks/Python.framework/Versions/3.7/lib/python3.7/http/client.py\u001b[0m in \u001b[0;36mendheaders\u001b[0;34m(self, message_body, encode_chunked)\u001b[0m\n\u001b[1;32m   1223\u001b[0m             \u001b[0;32mraise\u001b[0m \u001b[0mCannotSendHeader\u001b[0m\u001b[0;34m(\u001b[0m\u001b[0;34m)\u001b[0m\u001b[0;34m\u001b[0m\u001b[0m\n\u001b[0;32m-> 1224\u001b[0;31m         \u001b[0mself\u001b[0m\u001b[0;34m.\u001b[0m\u001b[0m_send_output\u001b[0m\u001b[0;34m(\u001b[0m\u001b[0mmessage_body\u001b[0m\u001b[0;34m,\u001b[0m \u001b[0mencode_chunked\u001b[0m\u001b[0;34m=\u001b[0m\u001b[0mencode_chunked\u001b[0m\u001b[0;34m)\u001b[0m\u001b[0;34m\u001b[0m\u001b[0m\n\u001b[0m\u001b[1;32m   1225\u001b[0m \u001b[0;34m\u001b[0m\u001b[0m\n",
      "\u001b[0;32m/Library/Frameworks/Python.framework/Versions/3.7/lib/python3.7/http/client.py\u001b[0m in \u001b[0;36m_send_output\u001b[0;34m(self, message_body, encode_chunked)\u001b[0m\n\u001b[1;32m   1015\u001b[0m         \u001b[0;32mdel\u001b[0m \u001b[0mself\u001b[0m\u001b[0;34m.\u001b[0m\u001b[0m_buffer\u001b[0m\u001b[0;34m[\u001b[0m\u001b[0;34m:\u001b[0m\u001b[0;34m]\u001b[0m\u001b[0;34m\u001b[0m\u001b[0m\n\u001b[0;32m-> 1016\u001b[0;31m         \u001b[0mself\u001b[0m\u001b[0;34m.\u001b[0m\u001b[0msend\u001b[0m\u001b[0;34m(\u001b[0m\u001b[0mmsg\u001b[0m\u001b[0;34m)\u001b[0m\u001b[0;34m\u001b[0m\u001b[0m\n\u001b[0m\u001b[1;32m   1017\u001b[0m \u001b[0;34m\u001b[0m\u001b[0m\n",
      "\u001b[0;32m/Library/Frameworks/Python.framework/Versions/3.7/lib/python3.7/http/client.py\u001b[0m in \u001b[0;36msend\u001b[0;34m(self, data)\u001b[0m\n\u001b[1;32m    955\u001b[0m             \u001b[0;32mif\u001b[0m \u001b[0mself\u001b[0m\u001b[0;34m.\u001b[0m\u001b[0mauto_open\u001b[0m\u001b[0;34m:\u001b[0m\u001b[0;34m\u001b[0m\u001b[0m\n\u001b[0;32m--> 956\u001b[0;31m                 \u001b[0mself\u001b[0m\u001b[0;34m.\u001b[0m\u001b[0mconnect\u001b[0m\u001b[0;34m(\u001b[0m\u001b[0;34m)\u001b[0m\u001b[0;34m\u001b[0m\u001b[0m\n\u001b[0m\u001b[1;32m    957\u001b[0m             \u001b[0;32melse\u001b[0m\u001b[0;34m:\u001b[0m\u001b[0;34m\u001b[0m\u001b[0m\n",
      "\u001b[0;32m/Library/Frameworks/Python.framework/Versions/3.7/lib/python3.7/http/client.py\u001b[0m in \u001b[0;36mconnect\u001b[0;34m(self)\u001b[0m\n\u001b[1;32m   1391\u001b[0m             self.sock = self._context.wrap_socket(self.sock,\n\u001b[0;32m-> 1392\u001b[0;31m                                                   server_hostname=server_hostname)\n\u001b[0m\u001b[1;32m   1393\u001b[0m \u001b[0;34m\u001b[0m\u001b[0m\n",
      "\u001b[0;32m/Library/Frameworks/Python.framework/Versions/3.7/lib/python3.7/ssl.py\u001b[0m in \u001b[0;36mwrap_socket\u001b[0;34m(self, sock, server_side, do_handshake_on_connect, suppress_ragged_eofs, server_hostname, session)\u001b[0m\n\u001b[1;32m    411\u001b[0m             \u001b[0mcontext\u001b[0m\u001b[0;34m=\u001b[0m\u001b[0mself\u001b[0m\u001b[0;34m,\u001b[0m\u001b[0;34m\u001b[0m\u001b[0m\n\u001b[0;32m--> 412\u001b[0;31m             \u001b[0msession\u001b[0m\u001b[0;34m=\u001b[0m\u001b[0msession\u001b[0m\u001b[0;34m\u001b[0m\u001b[0m\n\u001b[0m\u001b[1;32m    413\u001b[0m         )\n",
      "\u001b[0;32m/Library/Frameworks/Python.framework/Versions/3.7/lib/python3.7/ssl.py\u001b[0m in \u001b[0;36m_create\u001b[0;34m(cls, sock, server_side, do_handshake_on_connect, suppress_ragged_eofs, server_hostname, context, session)\u001b[0m\n\u001b[1;32m    849\u001b[0m                         \u001b[0;32mraise\u001b[0m \u001b[0mValueError\u001b[0m\u001b[0;34m(\u001b[0m\u001b[0;34m\"do_handshake_on_connect should not be specified for non-blocking sockets\"\u001b[0m\u001b[0;34m)\u001b[0m\u001b[0;34m\u001b[0m\u001b[0m\n\u001b[0;32m--> 850\u001b[0;31m                     \u001b[0mself\u001b[0m\u001b[0;34m.\u001b[0m\u001b[0mdo_handshake\u001b[0m\u001b[0;34m(\u001b[0m\u001b[0;34m)\u001b[0m\u001b[0;34m\u001b[0m\u001b[0m\n\u001b[0m\u001b[1;32m    851\u001b[0m             \u001b[0;32mexcept\u001b[0m \u001b[0;34m(\u001b[0m\u001b[0mOSError\u001b[0m\u001b[0;34m,\u001b[0m \u001b[0mValueError\u001b[0m\u001b[0;34m)\u001b[0m\u001b[0;34m:\u001b[0m\u001b[0;34m\u001b[0m\u001b[0m\n",
      "\u001b[0;32m/Library/Frameworks/Python.framework/Versions/3.7/lib/python3.7/ssl.py\u001b[0m in \u001b[0;36mdo_handshake\u001b[0;34m(self, block)\u001b[0m\n\u001b[1;32m   1107\u001b[0m                 \u001b[0mself\u001b[0m\u001b[0;34m.\u001b[0m\u001b[0msettimeout\u001b[0m\u001b[0;34m(\u001b[0m\u001b[0;32mNone\u001b[0m\u001b[0;34m)\u001b[0m\u001b[0;34m\u001b[0m\u001b[0m\n\u001b[0;32m-> 1108\u001b[0;31m             \u001b[0mself\u001b[0m\u001b[0;34m.\u001b[0m\u001b[0m_sslobj\u001b[0m\u001b[0;34m.\u001b[0m\u001b[0mdo_handshake\u001b[0m\u001b[0;34m(\u001b[0m\u001b[0;34m)\u001b[0m\u001b[0;34m\u001b[0m\u001b[0m\n\u001b[0m\u001b[1;32m   1109\u001b[0m         \u001b[0;32mfinally\u001b[0m\u001b[0;34m:\u001b[0m\u001b[0;34m\u001b[0m\u001b[0m\n",
      "\u001b[0;31mSSLCertVerificationError\u001b[0m: [SSL: CERTIFICATE_VERIFY_FAILED] certificate verify failed: unable to get local issuer certificate (_ssl.c:1049)",
      "\nDuring handling of the above exception, another exception occurred:\n",
      "\u001b[0;31mURLError\u001b[0m                                  Traceback (most recent call last)",
      "\u001b[0;32m<ipython-input-4-efeb15a117e7>\u001b[0m in \u001b[0;36m<module>\u001b[0;34m\u001b[0m\n\u001b[0;32m----> 1\u001b[0;31m \u001b[0mmonogenic_diabetes_sensu_strictiore_geneset\u001b[0m \u001b[0;34m=\u001b[0m \u001b[0mGeneCoocurrenceByBiclusterObject\u001b[0m\u001b[0;34m.\u001b[0m\u001b[0mrun_getinput\u001b[0m\u001b[0;34m(\u001b[0m\u001b[0;34m'https://raw.githubusercontent.com/ncats/translator-workflows/master/WorkFlow9/CAD_genes.txt'\u001b[0m\u001b[0;34m)\u001b[0m\u001b[0;34m\u001b[0m\u001b[0m\n\u001b[0m",
      "\u001b[0;32m~/Documents/VIMSS/ontology/NCATS/workflow9/translator-workflows/WorkFlow9/bicluster_gene_to_gene.py\u001b[0m in \u001b[0;36mrun_getinput\u001b[0;34m(self, ID_list_url)\u001b[0m\n\u001b[1;32m     32\u001b[0m \u001b[0;34m\u001b[0m\u001b[0m\n\u001b[1;32m     33\u001b[0m     \u001b[0;32mdef\u001b[0m \u001b[0mrun_getinput\u001b[0m\u001b[0;34m(\u001b[0m\u001b[0mself\u001b[0m\u001b[0;34m,\u001b[0m \u001b[0mID_list_url\u001b[0m\u001b[0;34m)\u001b[0m\u001b[0;34m:\u001b[0m\u001b[0;34m\u001b[0m\u001b[0m\n\u001b[0;32m---> 34\u001b[0;31m         \u001b[0mID_list\u001b[0m \u001b[0;34m=\u001b[0m \u001b[0mself\u001b[0m\u001b[0;34m.\u001b[0m\u001b[0mget_ID_list\u001b[0m\u001b[0;34m(\u001b[0m\u001b[0mID_list_url\u001b[0m\u001b[0;34m)\u001b[0m\u001b[0;34m\u001b[0m\u001b[0m\n\u001b[0m\u001b[1;32m     35\u001b[0m         \u001b[0mcurated_ID_list\u001b[0m \u001b[0;34m=\u001b[0m \u001b[0mself\u001b[0m\u001b[0;34m.\u001b[0m\u001b[0mcurated_ID_list\u001b[0m\u001b[0;34m(\u001b[0m\u001b[0mID_list\u001b[0m\u001b[0;34m)\u001b[0m\u001b[0;34m\u001b[0m\u001b[0m\n\u001b[1;32m     36\u001b[0m         \u001b[0;32mreturn\u001b[0m \u001b[0mcurated_ID_list\u001b[0m\u001b[0;34m\u001b[0m\u001b[0m\n",
      "\u001b[0;32m~/Documents/VIMSS/ontology/NCATS/workflow9/translator-workflows/WorkFlow9/bicluster_gene_to_gene.py\u001b[0m in \u001b[0;36mget_ID_list\u001b[0;34m(self, ID_list_url)\u001b[0m\n\u001b[1;32m     16\u001b[0m \u001b[0;34m\u001b[0m\u001b[0m\n\u001b[1;32m     17\u001b[0m     \u001b[0;32mdef\u001b[0m \u001b[0mget_ID_list\u001b[0m\u001b[0;34m(\u001b[0m\u001b[0mself\u001b[0m\u001b[0;34m,\u001b[0m \u001b[0mID_list_url\u001b[0m\u001b[0;34m)\u001b[0m\u001b[0;34m:\u001b[0m\u001b[0;34m\u001b[0m\u001b[0m\n\u001b[0;32m---> 18\u001b[0;31m         \u001b[0;32mwith\u001b[0m \u001b[0murllib\u001b[0m\u001b[0;34m.\u001b[0m\u001b[0mrequest\u001b[0m\u001b[0;34m.\u001b[0m\u001b[0murlopen\u001b[0m\u001b[0;34m(\u001b[0m\u001b[0mID_list_url\u001b[0m\u001b[0;34m)\u001b[0m \u001b[0;32mas\u001b[0m \u001b[0murl\u001b[0m\u001b[0;34m:\u001b[0m\u001b[0;34m\u001b[0m\u001b[0m\n\u001b[0m\u001b[1;32m     19\u001b[0m             \u001b[0mID_list\u001b[0m \u001b[0;34m=\u001b[0m \u001b[0murl\u001b[0m\u001b[0;34m.\u001b[0m\u001b[0mread\u001b[0m\u001b[0;34m(\u001b[0m\u001b[0;34m)\u001b[0m\u001b[0;34m.\u001b[0m\u001b[0mdecode\u001b[0m\u001b[0;34m(\u001b[0m\u001b[0;34m)\u001b[0m\u001b[0;34m.\u001b[0m\u001b[0msplit\u001b[0m\u001b[0;34m(\u001b[0m\u001b[0;34m'\\n'\u001b[0m\u001b[0;34m)\u001b[0m\u001b[0;34m\u001b[0m\u001b[0m\n\u001b[1;32m     20\u001b[0m         \u001b[0;32mreturn\u001b[0m \u001b[0mID_list\u001b[0m\u001b[0;34m\u001b[0m\u001b[0m\n",
      "\u001b[0;32m/Library/Frameworks/Python.framework/Versions/3.7/lib/python3.7/urllib/request.py\u001b[0m in \u001b[0;36murlopen\u001b[0;34m(url, data, timeout, cafile, capath, cadefault, context)\u001b[0m\n\u001b[1;32m    220\u001b[0m     \u001b[0;32melse\u001b[0m\u001b[0;34m:\u001b[0m\u001b[0;34m\u001b[0m\u001b[0m\n\u001b[1;32m    221\u001b[0m         \u001b[0mopener\u001b[0m \u001b[0;34m=\u001b[0m \u001b[0m_opener\u001b[0m\u001b[0;34m\u001b[0m\u001b[0m\n\u001b[0;32m--> 222\u001b[0;31m     \u001b[0;32mreturn\u001b[0m \u001b[0mopener\u001b[0m\u001b[0;34m.\u001b[0m\u001b[0mopen\u001b[0m\u001b[0;34m(\u001b[0m\u001b[0murl\u001b[0m\u001b[0;34m,\u001b[0m \u001b[0mdata\u001b[0m\u001b[0;34m,\u001b[0m \u001b[0mtimeout\u001b[0m\u001b[0;34m)\u001b[0m\u001b[0;34m\u001b[0m\u001b[0m\n\u001b[0m\u001b[1;32m    223\u001b[0m \u001b[0;34m\u001b[0m\u001b[0m\n\u001b[1;32m    224\u001b[0m \u001b[0;32mdef\u001b[0m \u001b[0minstall_opener\u001b[0m\u001b[0;34m(\u001b[0m\u001b[0mopener\u001b[0m\u001b[0;34m)\u001b[0m\u001b[0;34m:\u001b[0m\u001b[0;34m\u001b[0m\u001b[0m\n",
      "\u001b[0;32m/Library/Frameworks/Python.framework/Versions/3.7/lib/python3.7/urllib/request.py\u001b[0m in \u001b[0;36mopen\u001b[0;34m(self, fullurl, data, timeout)\u001b[0m\n\u001b[1;32m    523\u001b[0m             \u001b[0mreq\u001b[0m \u001b[0;34m=\u001b[0m \u001b[0mmeth\u001b[0m\u001b[0;34m(\u001b[0m\u001b[0mreq\u001b[0m\u001b[0;34m)\u001b[0m\u001b[0;34m\u001b[0m\u001b[0m\n\u001b[1;32m    524\u001b[0m \u001b[0;34m\u001b[0m\u001b[0m\n\u001b[0;32m--> 525\u001b[0;31m         \u001b[0mresponse\u001b[0m \u001b[0;34m=\u001b[0m \u001b[0mself\u001b[0m\u001b[0;34m.\u001b[0m\u001b[0m_open\u001b[0m\u001b[0;34m(\u001b[0m\u001b[0mreq\u001b[0m\u001b[0;34m,\u001b[0m \u001b[0mdata\u001b[0m\u001b[0;34m)\u001b[0m\u001b[0;34m\u001b[0m\u001b[0m\n\u001b[0m\u001b[1;32m    526\u001b[0m \u001b[0;34m\u001b[0m\u001b[0m\n\u001b[1;32m    527\u001b[0m         \u001b[0;31m# post-process response\u001b[0m\u001b[0;34m\u001b[0m\u001b[0;34m\u001b[0m\u001b[0m\n",
      "\u001b[0;32m/Library/Frameworks/Python.framework/Versions/3.7/lib/python3.7/urllib/request.py\u001b[0m in \u001b[0;36m_open\u001b[0;34m(self, req, data)\u001b[0m\n\u001b[1;32m    541\u001b[0m         \u001b[0mprotocol\u001b[0m \u001b[0;34m=\u001b[0m \u001b[0mreq\u001b[0m\u001b[0;34m.\u001b[0m\u001b[0mtype\u001b[0m\u001b[0;34m\u001b[0m\u001b[0m\n\u001b[1;32m    542\u001b[0m         result = self._call_chain(self.handle_open, protocol, protocol +\n\u001b[0;32m--> 543\u001b[0;31m                                   '_open', req)\n\u001b[0m\u001b[1;32m    544\u001b[0m         \u001b[0;32mif\u001b[0m \u001b[0mresult\u001b[0m\u001b[0;34m:\u001b[0m\u001b[0;34m\u001b[0m\u001b[0m\n\u001b[1;32m    545\u001b[0m             \u001b[0;32mreturn\u001b[0m \u001b[0mresult\u001b[0m\u001b[0;34m\u001b[0m\u001b[0m\n",
      "\u001b[0;32m/Library/Frameworks/Python.framework/Versions/3.7/lib/python3.7/urllib/request.py\u001b[0m in \u001b[0;36m_call_chain\u001b[0;34m(self, chain, kind, meth_name, *args)\u001b[0m\n\u001b[1;32m    501\u001b[0m         \u001b[0;32mfor\u001b[0m \u001b[0mhandler\u001b[0m \u001b[0;32min\u001b[0m \u001b[0mhandlers\u001b[0m\u001b[0;34m:\u001b[0m\u001b[0;34m\u001b[0m\u001b[0m\n\u001b[1;32m    502\u001b[0m             \u001b[0mfunc\u001b[0m \u001b[0;34m=\u001b[0m \u001b[0mgetattr\u001b[0m\u001b[0;34m(\u001b[0m\u001b[0mhandler\u001b[0m\u001b[0;34m,\u001b[0m \u001b[0mmeth_name\u001b[0m\u001b[0;34m)\u001b[0m\u001b[0;34m\u001b[0m\u001b[0m\n\u001b[0;32m--> 503\u001b[0;31m             \u001b[0mresult\u001b[0m \u001b[0;34m=\u001b[0m \u001b[0mfunc\u001b[0m\u001b[0;34m(\u001b[0m\u001b[0;34m*\u001b[0m\u001b[0margs\u001b[0m\u001b[0;34m)\u001b[0m\u001b[0;34m\u001b[0m\u001b[0m\n\u001b[0m\u001b[1;32m    504\u001b[0m             \u001b[0;32mif\u001b[0m \u001b[0mresult\u001b[0m \u001b[0;32mis\u001b[0m \u001b[0;32mnot\u001b[0m \u001b[0;32mNone\u001b[0m\u001b[0;34m:\u001b[0m\u001b[0;34m\u001b[0m\u001b[0m\n\u001b[1;32m    505\u001b[0m                 \u001b[0;32mreturn\u001b[0m \u001b[0mresult\u001b[0m\u001b[0;34m\u001b[0m\u001b[0m\n",
      "\u001b[0;32m/Library/Frameworks/Python.framework/Versions/3.7/lib/python3.7/urllib/request.py\u001b[0m in \u001b[0;36mhttps_open\u001b[0;34m(self, req)\u001b[0m\n\u001b[1;32m   1358\u001b[0m         \u001b[0;32mdef\u001b[0m \u001b[0mhttps_open\u001b[0m\u001b[0;34m(\u001b[0m\u001b[0mself\u001b[0m\u001b[0;34m,\u001b[0m \u001b[0mreq\u001b[0m\u001b[0;34m)\u001b[0m\u001b[0;34m:\u001b[0m\u001b[0;34m\u001b[0m\u001b[0m\n\u001b[1;32m   1359\u001b[0m             return self.do_open(http.client.HTTPSConnection, req,\n\u001b[0;32m-> 1360\u001b[0;31m                 context=self._context, check_hostname=self._check_hostname)\n\u001b[0m\u001b[1;32m   1361\u001b[0m \u001b[0;34m\u001b[0m\u001b[0m\n\u001b[1;32m   1362\u001b[0m         \u001b[0mhttps_request\u001b[0m \u001b[0;34m=\u001b[0m \u001b[0mAbstractHTTPHandler\u001b[0m\u001b[0;34m.\u001b[0m\u001b[0mdo_request_\u001b[0m\u001b[0;34m\u001b[0m\u001b[0m\n",
      "\u001b[0;32m/Library/Frameworks/Python.framework/Versions/3.7/lib/python3.7/urllib/request.py\u001b[0m in \u001b[0;36mdo_open\u001b[0;34m(self, http_class, req, **http_conn_args)\u001b[0m\n\u001b[1;32m   1317\u001b[0m                           encode_chunked=req.has_header('Transfer-encoding'))\n\u001b[1;32m   1318\u001b[0m             \u001b[0;32mexcept\u001b[0m \u001b[0mOSError\u001b[0m \u001b[0;32mas\u001b[0m \u001b[0merr\u001b[0m\u001b[0;34m:\u001b[0m \u001b[0;31m# timeout error\u001b[0m\u001b[0;34m\u001b[0m\u001b[0m\n\u001b[0;32m-> 1319\u001b[0;31m                 \u001b[0;32mraise\u001b[0m \u001b[0mURLError\u001b[0m\u001b[0;34m(\u001b[0m\u001b[0merr\u001b[0m\u001b[0;34m)\u001b[0m\u001b[0;34m\u001b[0m\u001b[0m\n\u001b[0m\u001b[1;32m   1320\u001b[0m             \u001b[0mr\u001b[0m \u001b[0;34m=\u001b[0m \u001b[0mh\u001b[0m\u001b[0;34m.\u001b[0m\u001b[0mgetresponse\u001b[0m\u001b[0;34m(\u001b[0m\u001b[0;34m)\u001b[0m\u001b[0;34m\u001b[0m\u001b[0m\n\u001b[1;32m   1321\u001b[0m         \u001b[0;32mexcept\u001b[0m\u001b[0;34m:\u001b[0m\u001b[0;34m\u001b[0m\u001b[0m\n",
      "\u001b[0;31mURLError\u001b[0m: <urlopen error [SSL: CERTIFICATE_VERIFY_FAILED] certificate verify failed: unable to get local issuer certificate (_ssl.c:1049)>"
     ]
    }
   ],
   "source": [
    "monogenic_diabetes_sensu_strictiore_geneset = GeneCoocurrenceByBiclusterObject.run_getinput('https://raw.githubusercontent.com/ncats/translator-workflows/master/WorkFlow9/CAD_genes.txt')"
   ]
  },
  {
   "cell_type": "markdown",
   "metadata": {},
   "source": [
    "## Below is the input monogenic diabetes (sensu strictiore) disease gene set"
   ]
  },
  {
   "cell_type": "code",
   "execution_count": 5,
   "metadata": {},
   "outputs": [],
   "source": [
    "CAD_geneset = {'ENSG00000121410',\n",
    "'ENSG00000268895',\n",
    "'ENSG00000148584',\n",
    "'ENSG00000070018',\n",
    "'ENSG00000175899',\n",
    "'ENSG00000245105',\n",
    "'ENSG00000166535',\n",
    "'ENSG00000256661',\n",
    "'ENSG00000256904',\n",
    "'ENSG00000256069',\n",
    "'ENSG00000234906',\n",
    "'ENSG00000068305',\n",
    "'ENSG00000070018'\n",
    "}"
   ]
  },
  {
   "cell_type": "code",
   "execution_count": 6,
   "metadata": {},
   "outputs": [
    {
     "name": "stdout",
     "output_type": "stream",
     "text": [
      "12\n"
     ]
    }
   ],
   "source": [
    "print(len(monogenic_diabetes_sensu_strictiore_geneset))"
   ]
  },
  {
   "cell_type": "code",
   "execution_count": 7,
   "metadata": {},
   "outputs": [],
   "source": [
    "loop = asyncio.get_event_loop()"
   ]
  },
  {
   "cell_type": "code",
   "execution_count": 8,
   "metadata": {},
   "outputs": [],
   "source": [
    "related_biclusters_and_genes_for_each_input_gene = loop.run_until_complete(GeneCoocurrenceByBiclusterObject.gene_to_gene_biclusters_async(CAD_geneset))"
   ]
  },
  {
   "cell_type": "code",
   "execution_count": 9,
   "metadata": {},
   "outputs": [],
   "source": [
    "bicluster_occurences_dict = GeneCoocurrenceByBiclusterObject.bicluster_occurences_dict(related_biclusters_and_genes_for_each_input_gene)"
   ]
  },
  {
   "cell_type": "code",
   "execution_count": 10,
   "metadata": {},
   "outputs": [],
   "source": [
    "unique_biclusters = GeneCoocurrenceByBiclusterObject.unique_biclusters(bicluster_occurences_dict)"
   ]
  },
  {
   "cell_type": "code",
   "execution_count": 11,
   "metadata": {},
   "outputs": [
    {
     "data": {
      "text/plain": [
       "55"
      ]
     },
     "execution_count": 11,
     "metadata": {},
     "output_type": "execute_result"
    }
   ],
   "source": [
    "len(unique_biclusters)"
   ]
  },
  {
   "cell_type": "code",
   "execution_count": 12,
   "metadata": {},
   "outputs": [],
   "source": [
    "genes_in_unique_biclusters = GeneCoocurrenceByBiclusterObject.genes_in_unique_biclusters(unique_biclusters, related_biclusters_and_genes_for_each_input_gene)"
   ]
  },
  {
   "cell_type": "code",
   "execution_count": 13,
   "metadata": {},
   "outputs": [],
   "source": [
    "dict_of_genes_in_unique_biclusters_not_in_inputs = GeneCoocurrenceByBiclusterObject.genes_in_unique_biclusters_not_in_input_gene_list(monogenic_diabetes_sensu_strictiore_geneset, genes_in_unique_biclusters)"
   ]
  },
  {
   "cell_type": "code",
   "execution_count": 14,
   "metadata": {},
   "outputs": [],
   "source": [
    "sorted_list_of_output_genes = GeneCoocurrenceByBiclusterObject.sorted_list_of_output_genes(dict_of_genes_in_unique_biclusters_not_in_inputs)"
   ]
  },
  {
   "cell_type": "code",
   "execution_count": 15,
   "metadata": {},
   "outputs": [
    {
     "data": {
      "text/plain": [
       "4355"
      ]
     },
     "execution_count": 15,
     "metadata": {},
     "output_type": "execute_result"
    }
   ],
   "source": [
    "len(sorted_list_of_output_genes) #This is how many genes co-occurred with the input set."
   ]
  },
  {
   "cell_type": "markdown",
   "metadata": {},
   "source": [
    "## Below is a list of genes found to co-occur with (at least one of) the genes in the input list. They are listed in descending order of bicluster co-occurrence frequency."
   ]
  },
  {
   "cell_type": "code",
   "execution_count": 16,
   "metadata": {},
   "outputs": [],
   "source": [
    "shorter_output_genes = sorted_list_of_output_genes[:200]"
   ]
  },
  {
   "cell_type": "code",
   "execution_count": 17,
   "metadata": {},
   "outputs": [
    {
     "data": {
      "text/plain": [
       "200"
      ]
     },
     "execution_count": 17,
     "metadata": {},
     "output_type": "execute_result"
    }
   ],
   "source": [
    "len(shorter_output_genes) #before filtering out the input set, including other versions"
   ]
  },
  {
   "cell_type": "code",
   "execution_count": 18,
   "metadata": {},
   "outputs": [],
   "source": [
    "for index, value in enumerate(shorter_output_genes): #filtering out other versions of the input genes\n",
    "    for x in monogenic_diabetes_sensu_strictiore_geneset:\n",
    "        if x.upper() in value[1]:\n",
    "            del shorter_output_genes[index]"
   ]
  },
  {
   "cell_type": "code",
   "execution_count": 19,
   "metadata": {},
   "outputs": [
    {
     "data": {
      "text/plain": [
       "196"
      ]
     },
     "execution_count": 19,
     "metadata": {},
     "output_type": "execute_result"
    }
   ],
   "source": [
    "len(shorter_output_genes)"
   ]
  },
  {
   "cell_type": "code",
   "execution_count": 20,
   "metadata": {},
   "outputs": [
    {
     "data": {
      "text/plain": [
       "[(12, 'ENSG00000070018.4'),\n",
       " (10, 'ENSG00000182150.11'),\n",
       " (10, 'ENSG00000116539.6'),\n",
       " (9, 'ENSG00000118058.16'),\n",
       " (8, 'ENSG00000131023.8'),\n",
       " (8, 'ENSG00000085224.16'),\n",
       " (8, 'ENSG00000031081.6'),\n",
       " (8, 'ENSG00000011405.9'),\n",
       " (7, 'ENSG00000204116.7'),\n",
       " (7, 'ENSG00000169375.11'),\n",
       " (7, 'ENSG00000163939.14'),\n",
       " (7, 'ENSG00000137770.9'),\n",
       " (7, 'ENSG00000136451.4'),\n",
       " (7, 'ENSG00000115825.5'),\n",
       " (7, 'ENSG00000114439.14'),\n",
       " (7, 'ENSG00000112531.12'),\n",
       " (7, 'ENSG00000102908.16'),\n",
       " (6, 'ENSG00000196712.12'),\n",
       " (6, 'ENSG00000187079.10'),\n",
       " (6, 'ENSG00000173875.9'),\n",
       " (6, 'ENSG00000166398.8'),\n",
       " (6, 'ENSG00000165219.17'),\n",
       " (6, 'ENSG00000160551.5'),\n",
       " (6, 'ENSG00000156650.8'),\n",
       " (6, 'ENSG00000147133.11'),\n",
       " (6, 'ENSG00000137075.13'),\n",
       " (6, 'ENSG00000107771.11'),\n",
       " (6, 'ENSG00000083312.13'),\n",
       " (6, 'ENSG00000083168.5'),\n",
       " (6, 'ENSG00000033800.9'),\n",
       " (6, 'ENSG00000023516.7'),\n",
       " (5, 'ENSG00000254535.2'),\n",
       " (5, 'ENSG00000213625.4'),\n",
       " (5, 'ENSG00000204217.8'),\n",
       " (5, 'ENSG00000197121.10'),\n",
       " (5, 'ENSG00000196628.9'),\n",
       " (5, 'ENSG00000186566.7'),\n",
       " (5, 'ENSG00000177463.11'),\n",
       " (5, 'ENSG00000175395.11'),\n",
       " (5, 'ENSG00000173889.11'),\n",
       " (5, 'ENSG00000169018.5'),\n",
       " (5, 'ENSG00000166181.8'),\n",
       " (5, 'ENSG00000163960.7'),\n",
       " (5, 'ENSG00000163848.14'),\n",
       " (5, 'ENSG00000162733.12'),\n",
       " (5, 'ENSG00000152601.13'),\n",
       " (5, 'ENSG00000151718.11'),\n",
       " (5, 'ENSG00000148516.17'),\n",
       " (5, 'ENSG00000146247.13'),\n",
       " (5, 'ENSG00000143079.10'),\n",
       " (5, 'ENSG00000140262.13'),\n",
       " (5, 'ENSG00000134313.10'),\n",
       " (5, 'ENSG00000129315.5'),\n",
       " (5, 'ENSG00000123200.12'),\n",
       " (5, 'ENSG00000118946.7'),\n",
       " (5, 'ENSG00000114698.10'),\n",
       " (5, 'ENSG00000114062.13'),\n",
       " (5, 'ENSG00000113441.11'),\n",
       " (5, 'ENSG00000110367.7'),\n",
       " (5, 'ENSG00000106723.12'),\n",
       " (5, 'ENSG00000101752.7'),\n",
       " (5, 'ENSG00000100320.18'),\n",
       " (5, 'ENSG00000100154.10'),\n",
       " (5, 'ENSG00000080345.13'),\n",
       " (5, 'ENSG00000074657.9'),\n",
       " (5, 'ENSG00000067900.6'),\n",
       " (5, 'ENSG00000066933.11'),\n",
       " (5, 'ENSG00000038219.8'),\n",
       " (5, 'ENSG00000031003.6'),\n",
       " (5, 'ENSG00000015171.14'),\n",
       " (5, 'ENSG00000005483.15'),\n",
       " (4, 'ENSG00000256223.1'),\n",
       " (4, 'ENSG00000204524.5'),\n",
       " (4, 'ENSG00000198961.5'),\n",
       " (4, 'ENSG00000198825.7'),\n",
       " (4, 'ENSG00000196646.7'),\n",
       " (4, 'ENSG00000188786.9'),\n",
       " (4, 'ENSG00000185591.5'),\n",
       " (4, 'ENSG00000183808.7'),\n",
       " (4, 'ENSG00000183354.7'),\n",
       " (4, 'ENSG00000180357.5'),\n",
       " (4, 'ENSG00000179454.9'),\n",
       " (4, 'ENSG00000174989.8'),\n",
       " (4, 'ENSG00000174483.15'),\n",
       " (4, 'ENSG00000173068.13'),\n",
       " (4, 'ENSG00000169756.12'),\n",
       " (4, 'ENSG00000168300.9'),\n",
       " (4, 'ENSG00000166860.2'),\n",
       " (4, 'ENSG00000164164.11'),\n",
       " (4, 'ENSG00000164151.7'),\n",
       " (4, 'ENSG00000164091.7'),\n",
       " (4, 'ENSG00000163539.11'),\n",
       " (4, 'ENSG00000162378.8'),\n",
       " (4, 'ENSG00000157540.15'),\n",
       " (4, 'ENSG00000154727.6'),\n",
       " (4, 'ENSG00000152404.11'),\n",
       " (4, 'ENSG00000152022.7'),\n",
       " (4, 'ENSG00000151702.12'),\n",
       " (4, 'ENSG00000151422.8'),\n",
       " (4, 'ENSG00000146414.11'),\n",
       " (4, 'ENSG00000142599.13'),\n",
       " (4, 'ENSG00000138593.4'),\n",
       " (4, 'ENSG00000138443.11'),\n",
       " (4, 'ENSG00000138185.12'),\n",
       " (4, 'ENSG00000137478.10'),\n",
       " (4, 'ENSG00000137145.16'),\n",
       " (4, 'ENSG00000135338.9'),\n",
       " (4, 'ENSG00000135272.5'),\n",
       " (4, 'ENSG00000134987.7'),\n",
       " (4, 'ENSG00000132718.7'),\n",
       " (4, 'ENSG00000131634.9'),\n",
       " (4, 'ENSG00000128989.6'),\n",
       " (4, 'ENSG00000123066.3'),\n",
       " (4, 'ENSG00000121879.3'),\n",
       " (4, 'ENSG00000119682.12'),\n",
       " (4, 'ENSG00000115137.7'),\n",
       " (4, 'ENSG00000115020.12'),\n",
       " (4, 'ENSG00000114331.8'),\n",
       " (4, 'ENSG00000113658.12'),\n",
       " (4, 'ENSG00000112624.8'),\n",
       " (4, 'ENSG00000111817.12'),\n",
       " (4, 'ENSG00000109458.4'),\n",
       " (4, 'ENSG00000107669.13'),\n",
       " (4, 'ENSG00000106771.8'),\n",
       " (4, 'ENSG00000102189.12'),\n",
       " (4, 'ENSG00000101972.14'),\n",
       " (4, 'ENSG00000100934.10'),\n",
       " (4, 'ENSG00000100485.7'),\n",
       " (4, 'ENSG00000096070.15'),\n",
       " (4, 'ENSG00000091157.9'),\n",
       " (4, 'ENSG00000084093.11'),\n",
       " (4, 'ENSG00000080802.14'),\n",
       " (4, 'ENSG00000075539.9'),\n",
       " (4, 'ENSG00000075391.12'),\n",
       " (4, 'ENSG00000074603.14'),\n",
       " (4, 'ENSG00000070778.8'),\n",
       " (4, 'ENSG00000070367.11'),\n",
       " (4, 'ENSG00000065970.4'),\n",
       " (4, 'ENSG00000054965.6'),\n",
       " (4, 'ENSG00000049618.17'),\n",
       " (4, 'ENSG00000048649.9'),\n",
       " (4, 'ENSG00000032219.14'),\n",
       " (4, 'ENSG00000012983.7'),\n",
       " (4, 'ENSG00000011258.11'),\n",
       " (4, 'ENSG00000005339.8'),\n",
       " (4, 'ENSG00000004700.11'),\n",
       " (3, 'ENSG00000260916.1'),\n",
       " (3, 'ENSG00000255529.3'),\n",
       " (3, 'ENSG00000253485.1'),\n",
       " (3, 'ENSG00000250799.5'),\n",
       " (3, 'ENSG00000237289.5'),\n",
       " (3, 'ENSG00000227051.4'),\n",
       " (3, 'ENSG00000223572.5'),\n",
       " (3, 'ENSG00000215717.5'),\n",
       " (3, 'ENSG00000213079.5'),\n",
       " (3, 'ENSG00000205339.5'),\n",
       " (3, 'ENSG00000204186.3'),\n",
       " (3, 'ENSG00000198932.8'),\n",
       " (3, 'ENSG00000198586.9'),\n",
       " (3, 'ENSG00000198455.3'),\n",
       " (3, 'ENSG00000198265.7'),\n",
       " (3, 'ENSG00000197386.6'),\n",
       " (3, 'ENSG00000197323.6'),\n",
       " (3, 'ENSG00000197056.5'),\n",
       " (3, 'ENSG00000196911.5'),\n",
       " (3, 'ENSG00000196367.8'),\n",
       " (3, 'ENSG00000196110.3'),\n",
       " (3, 'ENSG00000186001.8'),\n",
       " (3, 'ENSG00000185963.9'),\n",
       " (3, 'ENSG00000185947.10'),\n",
       " (3, 'ENSG00000185483.7'),\n",
       " (3, 'ENSG00000184226.10'),\n",
       " (3, 'ENSG00000183853.13'),\n",
       " (3, 'ENSG00000183431.7'),\n",
       " (3, 'ENSG00000181827.10'),\n",
       " (3, 'ENSG00000181513.10'),\n",
       " (3, 'ENSG00000178996.8'),\n",
       " (3, 'ENSG00000178502.5'),\n",
       " (3, 'ENSG00000178202.8'),\n",
       " (3, 'ENSG00000177034.10'),\n",
       " (3, 'ENSG00000176435.6'),\n",
       " (3, 'ENSG00000176390.10'),\n",
       " (3, 'ENSG00000176274.6'),\n",
       " (3, 'ENSG00000174197.12'),\n",
       " (3, 'ENSG00000174099.6'),\n",
       " (3, 'ENSG00000173706.8'),\n",
       " (3, 'ENSG00000173517.6'),\n",
       " (3, 'ENSG00000172888.7'),\n",
       " (3, 'ENSG00000172869.10'),\n",
       " (3, 'ENSG00000172845.9'),\n",
       " (3, 'ENSG00000172716.12'),\n",
       " (3, 'ENSG00000172482.4'),\n",
       " (3, 'ENSG00000172113.4'),\n",
       " (3, 'ENSG00000171310.6'),\n",
       " (3, 'ENSG00000171115.3'),\n",
       " (3, 'ENSG00000170653.14')]"
      ]
     },
     "execution_count": 20,
     "metadata": {},
     "output_type": "execute_result"
    }
   ],
   "source": [
    "shorter_output_genes # the filtered output"
   ]
  },
  {
   "cell_type": "code",
   "execution_count": null,
   "metadata": {},
   "outputs": [],
   "source": []
  }
 ],
 "metadata": {
  "kernelspec": {
   "display_name": "Python 3",
   "language": "python",
   "name": "python3"
  },
  "language_info": {
   "codemirror_mode": {
    "name": "ipython",
    "version": 3
   },
   "file_extension": ".py",
   "mimetype": "text/x-python",
   "name": "python",
   "nbconvert_exporter": "python",
   "pygments_lexer": "ipython3",
   "version": "3.7.0b4"
  }
 },
 "nbformat": 4,
 "nbformat_minor": 2
}
