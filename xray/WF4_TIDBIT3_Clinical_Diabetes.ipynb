{
 "cells": [
  {
   "cell_type": "code",
   "execution_count": 16,
   "metadata": {
    "collapsed": true
   },
   "outputs": [],
   "source": [
    "import requests\n",
    "import pandas as pd\n",
    "\n",
    "from IPython.display import display"
   ]
  },
  {
   "cell_type": "markdown",
   "metadata": {},
   "source": [
    "## Associated Artifacts\n",
    "\n",
    "- Doc & talk by Jared: [Which drug should I (not) give to my diabetes patient? - TIDBIT 3 - Clinical Diabetes - Jared](https://drive.google.com/open?id=18v_mg3yaAy22aGFyH7hkwRc1SBf046rm0-x1fWI-xOo)"
   ]
  },
  {
   "cell_type": "markdown",
   "metadata": {},
   "source": [
    "## Options"
   ]
  },
  {
   "cell_type": "code",
   "execution_count": 3,
   "metadata": {
    "collapsed": true
   },
   "outputs": [],
   "source": [
    "# COHD API server\n",
    "server = 'http://cohd.nsides.io/api'  \n",
    "\n",
    "# Pandas display options\n",
    "pd.options.display.max_colwidth = 255\n",
    "pd.options.display.max_rows = None"
   ]
  },
  {
   "cell_type": "markdown",
   "metadata": {},
   "source": [
    "## functions to perform REST API requests"
   ]
  },
  {
   "cell_type": "code",
   "execution_count": 4,
   "metadata": {
    "collapsed": true
   },
   "outputs": [],
   "source": [
    "# Utility functions\n",
    "\n",
    "def json_to_df(results):\n",
    "    # convert COHD's JSON response to Pandas dataframe\n",
    "    return pd.DataFrame(results['results'])"
   ]
  },
  {
   "cell_type": "code",
   "execution_count": 12,
   "metadata": {
    "collapsed": false
   },
   "outputs": [],
   "source": [
    "# COHD metadata functions\n",
    "\n",
    "def datasets():\n",
    "    global server\n",
    "    \n",
    "    url = '{server}/metadata/datasets'.format(server=server)\n",
    "    json = requests.get(url).json()\n",
    "    df = json_to_df(json)\n",
    "    \n",
    "    if len(df.columns) == 3:\n",
    "        # re-order the columns so that it displays in a more logical order\n",
    "        df = df[['dataset_id', 'dataset_name', 'dataset_description']]\n",
    "    return df\n",
    "\n",
    "def domain_counts(dataset_id=None):\n",
    "    global server\n",
    "    \n",
    "    url = '{server}/metadata/domainCounts'.format(server=server)\n",
    "    \n",
    "    # Optional params\n",
    "    params = {}\n",
    "    if dataset_id is not None:\n",
    "        params['dataset_id'] = dataset_id\n",
    "        \n",
    "    json = requests.get(url, params).json()\n",
    "    df = json_to_df(json)\n",
    "    if len(df.columns) == 3:\n",
    "        # re-order the columns so that it displays in a more logical order\n",
    "        df = df[['dataset_id', 'domain_id', 'count']]\n",
    "    return df"
   ]
  },
  {
   "cell_type": "code",
   "execution_count": 13,
   "metadata": {
    "collapsed": false
   },
   "outputs": [],
   "source": [
    "# COHD OMOP functions\n",
    "\n",
    "def find_concept(concept_name, dataset_id=None, domain=None, min_count=1):\n",
    "    global server\n",
    "    \n",
    "    url = '{server}/omop/findConceptIDs'.format(server=server)\n",
    "    \n",
    "    # Params\n",
    "    params = {\n",
    "        'q': concept_name,\n",
    "        'min_count': min_count\n",
    "    }\n",
    "    if dataset_id is not None:\n",
    "        params['dataset_id'] = dataset_id\n",
    "    if domain is not None:\n",
    "        params['domain'] = domain\n",
    "        \n",
    "    json = requests.get(url, params).json()\n",
    "    df = json_to_df(json)\n",
    "    if len(df.columns) == 7:\n",
    "        # re-order the columns so that it displays in a more logical order\n",
    "        df = df[['concept_id', 'concept_name', 'domain_id', 'concept_class_id', \n",
    "                 'vocabulary_id', 'concept_code', 'concept_count']]\n",
    "    return df"
   ]
  },
  {
   "cell_type": "code",
   "execution_count": 14,
   "metadata": {
    "collapsed": false
   },
   "outputs": [],
   "source": [
    "# COHD Clinical Frequency functions\n",
    "\n",
    "def associated_concept_domain_freq(concept_id, domain_id, dataset_id=None):\n",
    "    global server\n",
    "    \n",
    "    url = '{server}/frequencies/associatedConceptDomainFreq'.format(server=server)\n",
    "    \n",
    "    # Params\n",
    "    params = {\n",
    "        'concept_id': concept_id, \n",
    "        'domain': domain_id\n",
    "    }\n",
    "    if dataset_id is not None:\n",
    "        params['dataset_id'] = dataset_id\n",
    "        \n",
    "    json = requests.get(url, params).json()\n",
    "    df = json_to_df(json)\n",
    "    if len(df.columns) == 7:\n",
    "        df = df[['dataset_id', 'concept_id', 'associated_concept_id', 'associated_concept_name',\n",
    "                'associated_domain_id', 'concept_count', 'concept_frequency']]\n",
    "    return df"
   ]
  },
  {
   "cell_type": "markdown",
   "metadata": {},
   "source": [
    "## General Mappig via COHD\n",
    "\n",
    "Implementation:\n",
    "\n",
    "Name (string) => Concept ID (digital, of \"from_domain\") => Asscociated Concept (of \"to_domain\") "
   ]
  },
  {
   "cell_type": "markdown",
   "metadata": {},
   "source": [
    "### All available domains"
   ]
  },
  {
   "cell_type": "code",
   "execution_count": 17,
   "metadata": {
    "collapsed": false
   },
   "outputs": [
    {
     "data": {
      "text/html": [
       "<div>\n",
       "<style scoped>\n",
       "    .dataframe tbody tr th:only-of-type {\n",
       "        vertical-align: middle;\n",
       "    }\n",
       "\n",
       "    .dataframe tbody tr th {\n",
       "        vertical-align: top;\n",
       "    }\n",
       "\n",
       "    .dataframe thead th {\n",
       "        text-align: right;\n",
       "    }\n",
       "</style>\n",
       "<table border=\"1\" class=\"dataframe\">\n",
       "  <thead>\n",
       "    <tr style=\"text-align: right;\">\n",
       "      <th></th>\n",
       "      <th>dataset_id</th>\n",
       "      <th>domain_id</th>\n",
       "      <th>count</th>\n",
       "    </tr>\n",
       "  </thead>\n",
       "  <tbody>\n",
       "    <tr>\n",
       "      <th>0</th>\n",
       "      <td>1</td>\n",
       "      <td>Condition</td>\n",
       "      <td>10159</td>\n",
       "    </tr>\n",
       "    <tr>\n",
       "      <th>1</th>\n",
       "      <td>1</td>\n",
       "      <td>Device</td>\n",
       "      <td>170</td>\n",
       "    </tr>\n",
       "    <tr>\n",
       "      <th>2</th>\n",
       "      <td>1</td>\n",
       "      <td>Drug</td>\n",
       "      <td>10264</td>\n",
       "    </tr>\n",
       "    <tr>\n",
       "      <th>3</th>\n",
       "      <td>1</td>\n",
       "      <td>Ethnicity</td>\n",
       "      <td>2</td>\n",
       "    </tr>\n",
       "    <tr>\n",
       "      <th>4</th>\n",
       "      <td>1</td>\n",
       "      <td>Gender</td>\n",
       "      <td>4</td>\n",
       "    </tr>\n",
       "    <tr>\n",
       "      <th>5</th>\n",
       "      <td>1</td>\n",
       "      <td>Measurement</td>\n",
       "      <td>188</td>\n",
       "    </tr>\n",
       "    <tr>\n",
       "      <th>6</th>\n",
       "      <td>1</td>\n",
       "      <td>Observation</td>\n",
       "      <td>870</td>\n",
       "    </tr>\n",
       "    <tr>\n",
       "      <th>7</th>\n",
       "      <td>1</td>\n",
       "      <td>Procedure</td>\n",
       "      <td>8270</td>\n",
       "    </tr>\n",
       "    <tr>\n",
       "      <th>8</th>\n",
       "      <td>1</td>\n",
       "      <td>Race</td>\n",
       "      <td>32</td>\n",
       "    </tr>\n",
       "    <tr>\n",
       "      <th>9</th>\n",
       "      <td>1</td>\n",
       "      <td>Relationship</td>\n",
       "      <td>5</td>\n",
       "    </tr>\n",
       "  </tbody>\n",
       "</table>\n",
       "</div>"
      ],
      "text/plain": [
       "   dataset_id     domain_id  count\n",
       "0           1     Condition  10159\n",
       "1           1        Device    170\n",
       "2           1          Drug  10264\n",
       "3           1     Ethnicity      2\n",
       "4           1        Gender      4\n",
       "5           1   Measurement    188\n",
       "6           1   Observation    870\n",
       "7           1     Procedure   8270\n",
       "8           1          Race     32\n",
       "9           1  Relationship      5"
      ]
     },
     "metadata": {},
     "output_type": "display_data"
    },
    {
     "data": {
      "text/html": [
       "<div>\n",
       "<style scoped>\n",
       "    .dataframe tbody tr th:only-of-type {\n",
       "        vertical-align: middle;\n",
       "    }\n",
       "\n",
       "    .dataframe tbody tr th {\n",
       "        vertical-align: top;\n",
       "    }\n",
       "\n",
       "    .dataframe thead th {\n",
       "        text-align: right;\n",
       "    }\n",
       "</style>\n",
       "<table border=\"1\" class=\"dataframe\">\n",
       "  <thead>\n",
       "    <tr style=\"text-align: right;\">\n",
       "      <th></th>\n",
       "      <th>dataset_id</th>\n",
       "      <th>domain_id</th>\n",
       "      <th>count</th>\n",
       "    </tr>\n",
       "  </thead>\n",
       "  <tbody>\n",
       "    <tr>\n",
       "      <th>0</th>\n",
       "      <td>2</td>\n",
       "      <td>Condition</td>\n",
       "      <td>11952</td>\n",
       "    </tr>\n",
       "    <tr>\n",
       "      <th>1</th>\n",
       "      <td>2</td>\n",
       "      <td>Device</td>\n",
       "      <td>204</td>\n",
       "    </tr>\n",
       "    <tr>\n",
       "      <th>2</th>\n",
       "      <td>2</td>\n",
       "      <td>Drug</td>\n",
       "      <td>12334</td>\n",
       "    </tr>\n",
       "    <tr>\n",
       "      <th>3</th>\n",
       "      <td>2</td>\n",
       "      <td>Ethnicity</td>\n",
       "      <td>2</td>\n",
       "    </tr>\n",
       "    <tr>\n",
       "      <th>4</th>\n",
       "      <td>2</td>\n",
       "      <td>Gender</td>\n",
       "      <td>4</td>\n",
       "    </tr>\n",
       "    <tr>\n",
       "      <th>5</th>\n",
       "      <td>2</td>\n",
       "      <td>Measurement</td>\n",
       "      <td>235</td>\n",
       "    </tr>\n",
       "    <tr>\n",
       "      <th>6</th>\n",
       "      <td>2</td>\n",
       "      <td>Observation</td>\n",
       "      <td>993</td>\n",
       "    </tr>\n",
       "    <tr>\n",
       "      <th>7</th>\n",
       "      <td>2</td>\n",
       "      <td>Procedure</td>\n",
       "      <td>10816</td>\n",
       "    </tr>\n",
       "    <tr>\n",
       "      <th>8</th>\n",
       "      <td>2</td>\n",
       "      <td>Race</td>\n",
       "      <td>32</td>\n",
       "    </tr>\n",
       "    <tr>\n",
       "      <th>9</th>\n",
       "      <td>2</td>\n",
       "      <td>Relationship</td>\n",
       "      <td>6</td>\n",
       "    </tr>\n",
       "  </tbody>\n",
       "</table>\n",
       "</div>"
      ],
      "text/plain": [
       "   dataset_id     domain_id  count\n",
       "0           2     Condition  11952\n",
       "1           2        Device    204\n",
       "2           2          Drug  12334\n",
       "3           2     Ethnicity      2\n",
       "4           2        Gender      4\n",
       "5           2   Measurement    235\n",
       "6           2   Observation    993\n",
       "7           2     Procedure  10816\n",
       "8           2          Race     32\n",
       "9           2  Relationship      6"
      ]
     },
     "metadata": {},
     "output_type": "display_data"
    }
   ],
   "source": [
    "ds1_domain_df = domain_counts(dataset_id=1)\n",
    "ds2_domain_df = domain_counts(dataset_id=2)\n",
    "\n",
    "display(ds1_domain_df)\n",
    "display(ds2_domain_df)"
   ]
  },
  {
   "cell_type": "code",
   "execution_count": 18,
   "metadata": {
    "collapsed": false
   },
   "outputs": [
    {
     "data": {
      "text/plain": [
       "{'Condition',\n",
       " 'Device',\n",
       " 'Drug',\n",
       " 'Ethnicity',\n",
       " 'Gender',\n",
       " 'Measurement',\n",
       " 'Observation',\n",
       " 'Procedure',\n",
       " 'Race',\n",
       " 'Relationship'}"
      ]
     },
     "execution_count": 18,
     "metadata": {},
     "output_type": "execute_result"
    }
   ],
   "source": [
    "assert set(ds1_domain_df.domain_id) == set(ds2_domain_df.domain_id)\n",
    "\n",
    "avail_domains = set(ds1_domain_df.domain_id)\n",
    "avail_domains"
   ]
  },
  {
   "cell_type": "markdown",
   "metadata": {},
   "source": [
    "### functions for mapping concepts"
   ]
  },
  {
   "cell_type": "code",
   "execution_count": 19,
   "metadata": {
    "collapsed": true
   },
   "outputs": [],
   "source": [
    "def map_one_concept_id(concept_id, to_domain, concept_freq_thld=0.005, top_n=5):\n",
    "    global avail_domains\n",
    "    \n",
    "    if to_domain.capitalize() not in avail_domains:\n",
    "        raise ValueError(\"Error: available domains are {}. `map_one_concept_id` got {}\".format(avail_domains, to_domain))\n",
    "        \n",
    "    to_domain = to_domain.capitalize()\n",
    "    \n",
    "    df = associated_concept_domain_freq(concept_id, to_domain)\n",
    "    if not df.empty:\n",
    "        if concept_freq_thld > 0:\n",
    "            df = df.loc[df.concept_frequency >= concept_freq_thld, [\"associated_concept_name\", \"concept_frequency\"]]\n",
    "        else:\n",
    "            df = df.loc[:, [\"associated_concept_name\", \"concept_frequency\"]]\n",
    "        \n",
    "        df = df.sort_values(by=\"concept_frequency\", axis=0, ascending=False, inplace=False)\n",
    "        \n",
    "        if top_n > 0:\n",
    "            if df.shape[0] > top_n:\n",
    "                df = df.head(top_n)\n",
    "    \n",
    "    return df\n",
    "\n",
    "def map_multi_concept_ids(concept_ids, to_domain, concept_freq_thld=0.005, top_n=5):\n",
    "    global avail_domains\n",
    "    if to_domain.capitalize() not in avail_domains:\n",
    "        raise ValueError(\"Error: available domains are {}. `map_multi_concept_ids` got {}\".format(avail_domains, to_domain))\n",
    "        \n",
    "    to_domain = to_domain.capitalize()\n",
    "    \n",
    "    maps = [map_one_concept_id(concept_id, to_domain, concept_freq_thld=concept_freq_thld, top_n=top_n) for concept_id in concept_ids]\n",
    "    df = pd.concat(maps, axis=0)\n",
    "    df = df.sort_values(by=\"concept_frequency\", axis=0, ascending=False, inplace=False)\n",
    "    df = df.drop_duplicates(subset=\"associated_concept_name\", keep='first', inplace=False)\n",
    "    \n",
    "    if top_n > 0:\n",
    "        if df.shape[0] > top_n:\n",
    "            df = df.head(top_n)\n",
    "    \n",
    "    return df\n",
    "\n",
    "def find_concept_ids_by_name(name, domain):\n",
    "    global avail_domains\n",
    "    if domain.capitalize() not in avail_domains:\n",
    "        raise ValueError(\"Error: available domains are {}. `find_concept_ids_by_name` got {}\".format(avail_domains, domain))\n",
    "        \n",
    "    domain = domain.capitalize()\n",
    "    \n",
    "    df = find_concept(name, domain=domain, min_count=1) #dataset_id=2)\n",
    "    return df.concept_id\n",
    "\n",
    "def map_one_name(name, from_domain, to_domain, freq_thld=0.005, top_n=5):\n",
    "    concept_ids = find_concept_ids_by_name(name, from_domain)\n",
    "    \n",
    "    df = map_multi_concept_ids(concept_ids, to_domain=to_domain, concept_freq_thld=freq_thld, top_n=top_n)\n",
    "    df = df.assign(name=name, from_domain=from_domain, to_domain=to_domain)\n",
    "    \n",
    "    if top_n > 0:\n",
    "        if df.shape[0] > top_n:\n",
    "            df = condition_df.head(top_n)\n",
    "    \n",
    "    return df\n",
    "\n",
    "def map_multi_names(names, from_domain, to_domain, freq_thld=0.005, top_n=5):\n",
    "    maps = [map_one_name(name, from_domain, to_domain, freq_thld=freq_thld, top_n=top_n) for name in names]\n",
    "    df = pd.concat(maps, axis=0)\n",
    "    \n",
    "    df = df.set_index(\"name\")\n",
    "\n",
    "    return df"
   ]
  },
  {
   "cell_type": "markdown",
   "metadata": {},
   "source": [
    "### find all phenotypes associated with given diabetes drugs"
   ]
  },
  {
   "cell_type": "code",
   "execution_count": 22,
   "metadata": {
    "collapsed": false
   },
   "outputs": [],
   "source": [
    "# Drugs for diabetes\n",
    "drug_names = [\"metformin\",\n",
    "              \"repaglinide\",\n",
    "              \"glipizide\",\n",
    "              \"sitagliptin\",\n",
    "              \"insulin\",\n",
    "              \"canagliflozin\",\n",
    "              \"exenatide\",\n",
    "              \"rosiglitazone\"]\n",
    "\n",
    "# If freq_thld <= 0,filtering on freq threshold is NOT performed\n",
    "# If top_n <= 0, return all results\n",
    "drug_condition_df = map_multi_names(drug_names, from_domain=\"drug\", to_domain=\"condition\", freq_thld=0, top_n=0)"
   ]
  },
  {
   "cell_type": "code",
   "execution_count": 25,
   "metadata": {
    "collapsed": false
   },
   "outputs": [
    {
     "name": "stdout",
     "output_type": "stream",
     "text": [
      "(14073, 4)\n"
     ]
    }
   ],
   "source": [
    "print(drug_condition_df.shape)"
   ]
  },
  {
   "cell_type": "code",
   "execution_count": 26,
   "metadata": {
    "collapsed": false
   },
   "outputs": [
    {
     "data": {
      "text/html": [
       "<div>\n",
       "<style scoped>\n",
       "    .dataframe tbody tr th:only-of-type {\n",
       "        vertical-align: middle;\n",
       "    }\n",
       "\n",
       "    .dataframe tbody tr th {\n",
       "        vertical-align: top;\n",
       "    }\n",
       "\n",
       "    .dataframe thead th {\n",
       "        text-align: right;\n",
       "    }\n",
       "</style>\n",
       "<table border=\"1\" class=\"dataframe\">\n",
       "  <thead>\n",
       "    <tr style=\"text-align: right;\">\n",
       "      <th></th>\n",
       "      <th>associated_concept_name</th>\n",
       "      <th>concept_frequency</th>\n",
       "      <th>from_domain</th>\n",
       "      <th>to_domain</th>\n",
       "    </tr>\n",
       "    <tr>\n",
       "      <th>name</th>\n",
       "      <th></th>\n",
       "      <th></th>\n",
       "      <th></th>\n",
       "      <th></th>\n",
       "    </tr>\n",
       "  </thead>\n",
       "  <tbody>\n",
       "    <tr>\n",
       "      <th>metformin</th>\n",
       "      <td>Essential hypertension</td>\n",
       "      <td>0.010350</td>\n",
       "      <td>drug</td>\n",
       "      <td>condition</td>\n",
       "    </tr>\n",
       "    <tr>\n",
       "      <th>metformin</th>\n",
       "      <td>Type 2 diabetes mellitus without complication</td>\n",
       "      <td>0.009377</td>\n",
       "      <td>drug</td>\n",
       "      <td>condition</td>\n",
       "    </tr>\n",
       "    <tr>\n",
       "      <th>metformin</th>\n",
       "      <td>Type 2 diabetes mellitus</td>\n",
       "      <td>0.007877</td>\n",
       "      <td>drug</td>\n",
       "      <td>condition</td>\n",
       "    </tr>\n",
       "    <tr>\n",
       "      <th>metformin</th>\n",
       "      <td>Hyperlipidemia</td>\n",
       "      <td>0.007686</td>\n",
       "      <td>drug</td>\n",
       "      <td>condition</td>\n",
       "    </tr>\n",
       "    <tr>\n",
       "      <th>metformin</th>\n",
       "      <td>Chest pain</td>\n",
       "      <td>0.004761</td>\n",
       "      <td>drug</td>\n",
       "      <td>condition</td>\n",
       "    </tr>\n",
       "    <tr>\n",
       "      <th>metformin</th>\n",
       "      <td>Coronary arteriosclerosis in native artery</td>\n",
       "      <td>0.004065</td>\n",
       "      <td>drug</td>\n",
       "      <td>condition</td>\n",
       "    </tr>\n",
       "    <tr>\n",
       "      <th>metformin</th>\n",
       "      <td>Dyspnea</td>\n",
       "      <td>0.003714</td>\n",
       "      <td>drug</td>\n",
       "      <td>condition</td>\n",
       "    </tr>\n",
       "    <tr>\n",
       "      <th>metformin</th>\n",
       "      <td>Electrocardiogram abnormal</td>\n",
       "      <td>0.003208</td>\n",
       "      <td>drug</td>\n",
       "      <td>condition</td>\n",
       "    </tr>\n",
       "    <tr>\n",
       "      <th>metformin</th>\n",
       "      <td>Obesity</td>\n",
       "      <td>0.002803</td>\n",
       "      <td>drug</td>\n",
       "      <td>condition</td>\n",
       "    </tr>\n",
       "    <tr>\n",
       "      <th>metformin</th>\n",
       "      <td>Abdominal pain</td>\n",
       "      <td>0.002795</td>\n",
       "      <td>drug</td>\n",
       "      <td>condition</td>\n",
       "    </tr>\n",
       "  </tbody>\n",
       "</table>\n",
       "</div>"
      ],
      "text/plain": [
       "                                 associated_concept_name  concept_frequency  \\\n",
       "name                                                                          \n",
       "metformin                         Essential hypertension           0.010350   \n",
       "metformin  Type 2 diabetes mellitus without complication           0.009377   \n",
       "metformin                       Type 2 diabetes mellitus           0.007877   \n",
       "metformin                                 Hyperlipidemia           0.007686   \n",
       "metformin                                     Chest pain           0.004761   \n",
       "metformin     Coronary arteriosclerosis in native artery           0.004065   \n",
       "metformin                                        Dyspnea           0.003714   \n",
       "metformin                     Electrocardiogram abnormal           0.003208   \n",
       "metformin                                        Obesity           0.002803   \n",
       "metformin                                 Abdominal pain           0.002795   \n",
       "\n",
       "          from_domain  to_domain  \n",
       "name                              \n",
       "metformin        drug  condition  \n",
       "metformin        drug  condition  \n",
       "metformin        drug  condition  \n",
       "metformin        drug  condition  \n",
       "metformin        drug  condition  \n",
       "metformin        drug  condition  \n",
       "metformin        drug  condition  \n",
       "metformin        drug  condition  \n",
       "metformin        drug  condition  \n",
       "metformin        drug  condition  "
      ]
     },
     "metadata": {},
     "output_type": "display_data"
    }
   ],
   "source": [
    "display(drug_condition_df.head(10))"
   ]
  },
  {
   "cell_type": "markdown",
   "metadata": {},
   "source": [
    "### `insulin` <=> `Atelectasis` association comes out as a surprise"
   ]
  },
  {
   "cell_type": "code",
   "execution_count": 28,
   "metadata": {
    "collapsed": false
   },
   "outputs": [
    {
     "data": {
      "text/html": [
       "<div>\n",
       "<style scoped>\n",
       "    .dataframe tbody tr th:only-of-type {\n",
       "        vertical-align: middle;\n",
       "    }\n",
       "\n",
       "    .dataframe tbody tr th {\n",
       "        vertical-align: top;\n",
       "    }\n",
       "\n",
       "    .dataframe thead th {\n",
       "        text-align: right;\n",
       "    }\n",
       "</style>\n",
       "<table border=\"1\" class=\"dataframe\">\n",
       "  <thead>\n",
       "    <tr style=\"text-align: right;\">\n",
       "      <th></th>\n",
       "      <th>associated_concept_name</th>\n",
       "      <th>concept_frequency</th>\n",
       "      <th>from_domain</th>\n",
       "      <th>to_domain</th>\n",
       "    </tr>\n",
       "    <tr>\n",
       "      <th>name</th>\n",
       "      <th></th>\n",
       "      <th></th>\n",
       "      <th></th>\n",
       "      <th></th>\n",
       "    </tr>\n",
       "  </thead>\n",
       "  <tbody>\n",
       "    <tr>\n",
       "      <th>insulin</th>\n",
       "      <td>Essential hypertension</td>\n",
       "      <td>0.012277</td>\n",
       "      <td>drug</td>\n",
       "      <td>condition</td>\n",
       "    </tr>\n",
       "    <tr>\n",
       "      <th>insulin</th>\n",
       "      <td>Type 2 diabetes mellitus without complication</td>\n",
       "      <td>0.009345</td>\n",
       "      <td>drug</td>\n",
       "      <td>condition</td>\n",
       "    </tr>\n",
       "    <tr>\n",
       "      <th>insulin</th>\n",
       "      <td>Hyperlipidemia</td>\n",
       "      <td>0.009260</td>\n",
       "      <td>drug</td>\n",
       "      <td>condition</td>\n",
       "    </tr>\n",
       "    <tr>\n",
       "      <th>insulin</th>\n",
       "      <td>Atelectasis</td>\n",
       "      <td>0.007841</td>\n",
       "      <td>drug</td>\n",
       "      <td>condition</td>\n",
       "    </tr>\n",
       "    <tr>\n",
       "      <th>insulin</th>\n",
       "      <td>Chest pain</td>\n",
       "      <td>0.007805</td>\n",
       "      <td>drug</td>\n",
       "      <td>condition</td>\n",
       "    </tr>\n",
       "  </tbody>\n",
       "</table>\n",
       "</div>"
      ],
      "text/plain": [
       "                               associated_concept_name  concept_frequency  \\\n",
       "name                                                                        \n",
       "insulin                         Essential hypertension           0.012277   \n",
       "insulin  Type 2 diabetes mellitus without complication           0.009345   \n",
       "insulin                                 Hyperlipidemia           0.009260   \n",
       "insulin                                    Atelectasis           0.007841   \n",
       "insulin                                     Chest pain           0.007805   \n",
       "\n",
       "        from_domain  to_domain  \n",
       "name                            \n",
       "insulin        drug  condition  \n",
       "insulin        drug  condition  \n",
       "insulin        drug  condition  \n",
       "insulin        drug  condition  \n",
       "insulin        drug  condition  "
      ]
     },
     "metadata": {},
     "output_type": "display_data"
    }
   ],
   "source": [
    "display(drug_condition_df.loc[\"insulin\"].head(5))"
   ]
  },
  {
   "cell_type": "code",
   "execution_count": 19,
   "metadata": {
    "collapsed": true
   },
   "outputs": [],
   "source": [
    "drug_condition_df.to_csv(\"COHD_drug_x_phenotype.tsv\", sep=\"\\t\", header=True, index=True)"
   ]
  },
  {
   "cell_type": "code",
   "execution_count": null,
   "metadata": {
    "collapsed": true
   },
   "outputs": [],
   "source": []
  }
 ],
 "metadata": {
  "kernelspec": {
   "display_name": "Python 3",
   "language": "python",
   "name": "python3"
  },
  "language_info": {
   "codemirror_mode": {
    "name": "ipython",
    "version": 3
   },
   "file_extension": ".py",
   "mimetype": "text/x-python",
   "name": "python",
   "nbconvert_exporter": "python",
   "pygments_lexer": "ipython3",
   "version": "3.5.2"
  }
 },
 "nbformat": 4,
 "nbformat_minor": 2
}
