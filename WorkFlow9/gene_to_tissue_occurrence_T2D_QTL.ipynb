{
 "cells": [
  {
   "cell_type": "markdown",
   "metadata": {},
   "source": [
    "# Workflow 9: Gene to Tissue Occurrence for Monogenic Diabetes"
   ]
  },
  {
   "cell_type": "code",
   "execution_count": 1,
   "metadata": {},
   "outputs": [],
   "source": [
    "import bicluster_gene_to_tissue, importlib, asyncio"
   ]
  },
  {
   "cell_type": "code",
   "execution_count": 2,
   "metadata": {},
   "outputs": [],
   "source": [
    "gene_to_tissue = bicluster_gene_to_tissue.gene_to_tissue()"
   ]
  },
  {
   "cell_type": "code",
   "execution_count": 3,
   "metadata": {},
   "outputs": [],
   "source": [
    "#monogenic_diabetes_sensu_strictiore_geneset = gene_to_tissue.run_getinput('https://raw.githubusercontent.com/ncats/translator-workflows/master/WorkFlow9/monogenic_diabetes_sensu_strictiore_genes_ensg_id_list.txt')"
   ]
  },
  {
   "cell_type": "code",
   "execution_count": 7,
   "metadata": {},
   "outputs": [],
   "source": [
    "T2D_geneset = {'ENSG00000147889',\n",
    "'ENSG00000084734',\n",
    "'ENSG00000115290',\n",
    "'ENSG00000152804',\n",
    "'ENSG00000169047',\n",
    "'ENSG00000175445',\n",
    "'ENSG00000166603',\n",
    "'ENSG00000134640',\n",
    "'ENSG00000132170',\n",
    "'ENSG00000135100',\n",
    "'ENSG00000148737',\n",
    "'ENSG00000151465',\n",
    "'ENSG00000021645',\n",
    "'ENSG00000157823',\n",
    "'ENSG00000145996',\n",
    "'ENSG00000140718',\n",
    "'ENSG00000164512',\n",
    "'ENSG00000153815',\n",
    "'ENSG00000186635',\n",
    "'ENSG00000143353',\n",
    "'ENSG00000266265',\n",
    "'ENSG00000198535',\n",
    "'ENSG00000160161',\n",
    "'ENSG00000164756'\n",
    "}"
   ]
  },
  {
   "cell_type": "code",
   "execution_count": 9,
   "metadata": {},
   "outputs": [],
   "source": [
    "loop = asyncio.get_event_loop()"
   ]
  },
  {
   "cell_type": "code",
   "execution_count": 11,
   "metadata": {},
   "outputs": [],
   "source": [
    "counted_tissues = loop.run_until_complete(gene_to_tissue.gene_to_tissue_biclusters_async(T2D_geneset))"
   ]
  },
  {
   "cell_type": "code",
   "execution_count": 12,
   "metadata": {},
   "outputs": [
    {
     "data": {
      "text/plain": [
       "[('DOID:3910', 63),\n",
       " ('MONDO:0006256', 39),\n",
       " ('UBERON:0002048', 35),\n",
       " ('UBERON:0002107', 31),\n",
       " ('MONDO:0007256', 29),\n",
       " ('DOID:3963', 29),\n",
       " ('DOID:1107', 28),\n",
       " ('DOID:3907', 28),\n",
       " ('DOID:4006', 28),\n",
       " ('UBERON:0002046', 27),\n",
       " ('MONDO:0010150', 26),\n",
       " ('DOID:4467', 25),\n",
       " ('MONDO:0005036', 25),\n",
       " ('DOID:234', 24),\n",
       " ('MONDO:0017884', 23),\n",
       " ('UBERON:0012249', 22),\n",
       " ('UBERON:0001830', 21),\n",
       " ('UBERON:0000310', 20),\n",
       " ('UBERON:0001157', 20),\n",
       " ('UBERON:0000945', 18),\n",
       " ('UBERON:0002367', 16),\n",
       " ('DOID:2526', 16),\n",
       " ('UBERON:0004648', 16),\n",
       " ('NCIT:C32668', 16),\n",
       " ('UBERON:0002469', 15),\n",
       " ('MONDO:0006143', 14),\n",
       " ('NONE', 13),\n",
       " ('DOID:0050939', 13),\n",
       " ('UBERON:0001159', 12),\n",
       " ('UBERON:0001225', 12),\n",
       " ('UBERON:0000995', 10),\n",
       " ('DOID:1996', 8),\n",
       " ('UBERON:0000458', 8),\n",
       " ('UBERON:0018707', 7),\n",
       " ('DOID:4947', 5),\n",
       " ('DOID:6171', 4)]"
      ]
     },
     "execution_count": 12,
     "metadata": {},
     "output_type": "execute_result"
    }
   ],
   "source": [
    "counted_tissues"
   ]
  },
  {
   "cell_type": "code",
   "execution_count": null,
   "metadata": {},
   "outputs": [],
   "source": []
  }
 ],
 "metadata": {
  "kernelspec": {
   "display_name": "Python 3",
   "language": "python",
   "name": "python3"
  },
  "language_info": {
   "codemirror_mode": {
    "name": "ipython",
    "version": 3
   },
   "file_extension": ".py",
   "mimetype": "text/x-python",
   "name": "python",
   "nbconvert_exporter": "python",
   "pygments_lexer": "ipython3",
   "version": "3.7.0b4"
  }
 },
 "nbformat": 4,
 "nbformat_minor": 2
}
