{
 "cells": [
  {
   "cell_type": "code",
   "execution_count": 1,
   "metadata": {
    "collapsed": true,
    "deletable": true,
    "editable": true
   },
   "outputs": [],
   "source": [
    "import requests\n",
    "import pandas as pd\n",
    "from IPython.core.display import display, HTML\n",
    "\n",
    "robokop='robokop.renci.org'\n",
    "\n",
    "#Load some useful functions for dealing with v0.9 output\n",
    "import os\n",
    "import sys\n",
    "module_path = os.path.abspath(os.path.join('..'))\n",
    "if module_path not in sys.path:\n",
    "    sys.path.append(module_path)\n",
    "from gg_functions import parse_answer, get_view_url"
   ]
  },
  {
   "cell_type": "code",
   "execution_count": 4,
   "metadata": {
    "collapsed": false,
    "deletable": true,
    "editable": true
   },
   "outputs": [],
   "source": [
    "cop_pairs = [\n",
    "    (( 'CHEBI:17824','Isopropyl Alcohol'),('HP:0002013','vomiting')),\n",
    "    (( 'CHEBI:17824','Isopropyl Alcohol'),('HP:0002017','nausea and vomiting')),\n",
    "   ( ( 'CHEBI:17824','Isopropyl Alcohol'),('HP:0002018','nausea'))\n",
    "            ]"
   ]
  },
  {
   "cell_type": "code",
   "execution_count": 5,
   "metadata": {
    "collapsed": false,
    "deletable": true,
    "editable": true
   },
   "outputs": [
    {
     "data": {
      "text/html": [
       "<h3>Isopropyl Alcohol / vomiting     max_connectivity=4000</h3>"
      ],
      "text/plain": [
       "<IPython.core.display.HTML object>"
      ]
     },
     "metadata": {},
     "output_type": "display_data"
    },
    {
     "data": {
      "text/html": [
       "<a href=http://robokop.renci.org/simple/view/b39ac6e9-a1cf-480b-9292-b1725c598c26>View Answer in ROBOKOP</a>"
      ],
      "text/plain": [
       "<IPython.core.display.HTML object>"
      ]
     },
     "metadata": {},
     "output_type": "display_data"
    },
    {
     "data": {
      "text/html": [
       "<h3>Isopropyl Alcohol / nausea and vomiting     max_connectivity=2000</h3>"
      ],
      "text/plain": [
       "<IPython.core.display.HTML object>"
      ]
     },
     "metadata": {},
     "output_type": "display_data"
    },
    {
     "data": {
      "text/html": [
       "<a href=http://robokop.renci.org/simple/view/5b6fdb02-ff2a-4cfe-b1d6-7710e9c35439>View Answer in ROBOKOP</a>"
      ],
      "text/plain": [
       "<IPython.core.display.HTML object>"
      ]
     },
     "metadata": {},
     "output_type": "display_data"
    },
    {
     "data": {
      "text/html": [
       "<h3>Isopropyl Alcohol / nausea     max_connectivity=1500</h3>"
      ],
      "text/plain": [
       "<IPython.core.display.HTML object>"
      ]
     },
     "metadata": {},
     "output_type": "display_data"
    },
    {
     "data": {
      "text/html": [
       "<a href=http://robokop.renci.org/simple/view/7581a736-903e-45b5-8205-a8d2d370b94d>View Answer in ROBOKOP</a>"
      ],
      "text/plain": [
       "<IPython.core.display.HTML object>"
      ]
     },
     "metadata": {},
     "output_type": "display_data"
    }
   ],
   "source": [
    "turlmc=lambda robokop,drug_id, drug_name, disease_id,disease_name, mc: \\\n",
    "    f'http://{robokop}/api/simple/quick/template/cop_phenotype/{drug_id}/{disease_id}/?name1={drug_name}&name2={disease_name}&max_connectivity={mc}'\n",
    "\n",
    "    \n",
    "for cp in cop_pairs:\n",
    "    drug_id, drug_name = cp[0]\n",
    "    disease_id, disease_name = cp[1]\n",
    "    for mc in [100,200,500,750,1000,1500,2000,4000,10000,0]:\n",
    "        #print(mc)\n",
    "        url = turlmc(robokop,drug_id,drug_name,disease_id,disease_name,mc)        \n",
    "        response = requests.get(url)\n",
    "        if response.status_code != 200:\n",
    "            print('Error')\n",
    "            continue\n",
    "        answers=response.json()\n",
    "        if len(answers['answers'])==0:\n",
    "            continue\n",
    "        display(HTML(f'<h3>{drug_name} / {disease_name}     max_connectivity={mc}</h3>'))\n",
    "        #answer_frame = parse_answer(answers)\n",
    "        #display(answer_frame)\n",
    "        view_url = get_view_url(answers)\n",
    "        display(HTML(f'<a href={view_url}>View Answer in ROBOKOP</a>'))\n",
    "        break\n"
   ]
  },
  {
   "cell_type": "code",
   "execution_count": null,
   "metadata": {
    "collapsed": true
   },
   "outputs": [],
   "source": []
  }
 ],
 "metadata": {
  "kernelspec": {
   "display_name": "Python 3",
   "language": "python",
   "name": "python3"
  },
  "language_info": {
   "codemirror_mode": {
    "name": "ipython",
    "version": 3
   },
   "file_extension": ".py",
   "mimetype": "text/x-python",
   "name": "python",
   "nbconvert_exporter": "python",
   "pygments_lexer": "ipython3",
   "version": "3.6.2"
  }
 },
 "nbformat": 4,
 "nbformat_minor": 2
}
