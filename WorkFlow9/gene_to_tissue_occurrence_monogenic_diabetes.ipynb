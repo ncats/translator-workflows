{
 "cells": [
  {
   "cell_type": "markdown",
   "metadata": {},
   "source": [
    "# Workflow 9: Gene to Tissue Occurrence for Monogenic Diabetes"
   ]
  },
  {
   "cell_type": "code",
   "execution_count": 1,
   "metadata": {},
   "outputs": [],
   "source": [
    "import bicluster_gene_to_tissue, importlib, asyncio"
   ]
  },
  {
   "cell_type": "code",
   "execution_count": 2,
   "metadata": {},
   "outputs": [],
   "source": [
    "gene_to_tissue = bicluster_gene_to_tissue.gene_to_tissue()"
   ]
  },
  {
   "cell_type": "code",
   "execution_count": 3,
   "metadata": {},
   "outputs": [],
   "source": [
    "monogenic_diabetes_sensu_strictiore_geneset = gene_to_tissue.run_getinput('https://raw.githubusercontent.com/ncats/translator-workflows/master/WorkFlow9/monogenic_diabetes_sensu_strictiore_genes_ensg_id_list.txt')"
   ]
  },
  {
   "cell_type": "code",
   "execution_count": 4,
   "metadata": {},
   "outputs": [
    {
     "data": {
      "text/plain": [
       "['ensg00000006071',\n",
       " 'ensg00000187486',\n",
       " 'ensg00000136573',\n",
       " 'ensg00000254647',\n",
       " 'ensg00000106331',\n",
       " 'ensg00000172059',\n",
       " 'ensg00000275410',\n",
       " 'ensg00000139515',\n",
       " 'ensg00000135100',\n",
       " 'ensg00000106633',\n",
       " 'ensg00000101076']"
      ]
     },
     "execution_count": 4,
     "metadata": {},
     "output_type": "execute_result"
    }
   ],
   "source": [
    "monogenic_diabetes_sensu_strictiore_geneset"
   ]
  },
  {
   "cell_type": "code",
   "execution_count": 5,
   "metadata": {},
   "outputs": [],
   "source": [
    "loop = asyncio.get_event_loop()"
   ]
  },
  {
   "cell_type": "code",
   "execution_count": 6,
   "metadata": {},
   "outputs": [],
   "source": [
    "counted_tissues = loop.run_until_complete(gene_to_tissue.gene_to_tissue_biclusters_async(monogenic_diabetes_sensu_strictiore_geneset))"
   ]
  },
  {
   "cell_type": "code",
   "execution_count": 7,
   "metadata": {},
   "outputs": [
    {
     "data": {
      "text/plain": [
       "[('DOID:3910', 31),\n",
       " ('MONDO:0007256', 13),\n",
       " ('MONDO:0010150', 12),\n",
       " ('UBERON:0002048', 12),\n",
       " ('MONDO:0006256', 11),\n",
       " ('UBERON:0002107', 10),\n",
       " ('DOID:4006', 10),\n",
       " ('DOID:234', 10),\n",
       " ('MONDO:0005036', 10),\n",
       " ('UBERON:0001157', 9),\n",
       " ('DOID:3963', 9),\n",
       " ('DOID:1107', 9),\n",
       " ('DOID:3907', 8),\n",
       " ('UBERON:0004648', 8),\n",
       " ('UBERON:0000945', 8),\n",
       " ('UBERON:0002046', 7),\n",
       " ('UBERON:0001159', 6),\n",
       " ('DOID:1996', 6),\n",
       " ('DOID:0050939', 5),\n",
       " ('UBERON:0001830', 5),\n",
       " ('NCIT:C32668', 5),\n",
       " ('DOID:4467', 4),\n",
       " ('DOID:2526', 4),\n",
       " ('UBERON:0000995', 4),\n",
       " ('DOID:4947', 3),\n",
       " ('UBERON:0012249', 3),\n",
       " ('UBERON:0000310', 3),\n",
       " ('MONDO:0006143', 3),\n",
       " ('UBERON:0000458', 3),\n",
       " ('MONDO:0017884', 3),\n",
       " ('DOID:6171', 2),\n",
       " ('UBERON:0018707', 2),\n",
       " ('UBERON:0002367', 2),\n",
       " ('NONE', 2),\n",
       " ('UBERON:0001225', 2),\n",
       " ('UBERON:0002469', 1)]"
      ]
     },
     "execution_count": 7,
     "metadata": {},
     "output_type": "execute_result"
    }
   ],
   "source": [
    "counted_tissues"
   ]
  },
  {
   "cell_type": "code",
   "execution_count": null,
   "metadata": {},
   "outputs": [],
   "source": []
  }
 ],
 "metadata": {
  "kernelspec": {
   "display_name": "Python 3",
   "language": "python",
   "name": "python3"
  },
  "language_info": {
   "codemirror_mode": {
    "name": "ipython",
    "version": 3
   },
   "file_extension": ".py",
   "mimetype": "text/x-python",
   "name": "python",
   "nbconvert_exporter": "python",
   "pygments_lexer": "ipython3",
   "version": "3.7.0"
  }
 },
 "nbformat": 4,
 "nbformat_minor": 2
}
