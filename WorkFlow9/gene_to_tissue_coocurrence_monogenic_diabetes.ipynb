{
 "cells": [
  {
   "cell_type": "markdown",
   "metadata": {},
   "source": [
    "# Workflow 9: Gene to Tissue Cooccurence for Monogenic Diabetes"
   ]
  },
  {
   "cell_type": "code",
   "execution_count": 51,
   "metadata": {},
   "outputs": [],
   "source": [
    "import biclusterco, importlib, asyncio"
   ]
  },
  {
   "cell_type": "code",
   "execution_count": 52,
   "metadata": {},
   "outputs": [
    {
     "data": {
      "text/plain": [
       "<module 'biclusterco' from '/Users/colincurtis/Documents/renci/translator-workflows/WorkFlow9/biclusterco.py'>"
      ]
     },
     "execution_count": 52,
     "metadata": {},
     "output_type": "execute_result"
    }
   ],
   "source": [
    "importlib.reload(biclusterco) #this is a nice thing or locale module development"
   ]
  },
  {
   "cell_type": "code",
   "execution_count": 53,
   "metadata": {},
   "outputs": [],
   "source": [
    "GeneCoocurrenceByBiclusterObject = biclusterco.CoocurrenceByBicluster()"
   ]
  },
  {
   "cell_type": "code",
   "execution_count": 54,
   "metadata": {},
   "outputs": [],
   "source": [
    "monogenic_diabetes_sensu_strictiore_geneset = GeneCoocurrenceByBiclusterObject.run_getinput('https://raw.githubusercontent.com/ncats/translator-workflows/master/WorkFlow9/monogenic_diabetes_sensu_strictiore_genes_ensg_id_list.txt')"
   ]
  },
  {
   "cell_type": "code",
   "execution_count": 55,
   "metadata": {},
   "outputs": [
    {
     "data": {
      "text/plain": [
       "['ensg00000006071',\n",
       " 'ensg00000187486',\n",
       " 'ensg00000136573',\n",
       " 'ensg00000254647',\n",
       " 'ensg00000106331',\n",
       " 'ensg00000172059',\n",
       " 'ensg00000275410',\n",
       " 'ensg00000139515',\n",
       " 'ensg00000135100',\n",
       " 'ensg00000106633',\n",
       " 'ensg00000101076']"
      ]
     },
     "execution_count": 55,
     "metadata": {},
     "output_type": "execute_result"
    }
   ],
   "source": [
    "monogenic_diabetes_sensu_strictiore_geneset"
   ]
  },
  {
   "cell_type": "code",
   "execution_count": 57,
   "metadata": {},
   "outputs": [],
   "source": [
    "loop = asyncio.get_event_loop()"
   ]
  },
  {
   "cell_type": "code",
   "execution_count": 58,
   "metadata": {},
   "outputs": [
    {
     "name": "stdout",
     "output_type": "stream",
     "text": [
      "[{'bicluster': '339', 'gene': 'ENSG00000006071.7', 'bicluster_score': '0.9953361409151893', 'bicluster_mean': '63461.587555803584', 'gene_bicluster_cor': 'NaN', 'col_enrich_all': 'UBERON:0001159_UBERON:0002107', 'col_enrich_MONDO': '', 'col_enrich_MONDO_label': '', 'col_enrich_UBERON': 'UBERON:0001159__UBERON:0002107', 'col_enrich_UBERON_label': 'COLON - SIGMOID__LIVER', 'col_enrich_DOID': '', 'col_enrich_DOID_label': '', 'col_enrich_NCIT': '', 'col_enrich_NCIT_label': '', 'all_col_labels': 'UBERON:0001159__UBERON:0001157__MONDO:0010150__UBERON:0002107__DOID:3910'}, {'bicluster': '382', 'gene': 'ENSG00000006071.7', 'bicluster_score': '0.9952229295687418', 'bicluster_mean': '419015.18590538856', 'gene_bicluster_cor': 'NaN', 'col_enrich_all': 'UBERON:0002048_MONDO:0007256', 'col_enrich_MONDO': 'MONDO:0007256', 'col_enrich_MONDO_label': 'LIVER HEPATOCELLULAR CARCINOMA', 'col_enrich_UBERON': 'UBERON:0002048', 'col_enrich_UBERON_label': 'LUNG', 'col_enrich_DOID': '', 'col_enrich_DOID_label': '', 'col_enrich_NCIT': '', 'col_enrich_NCIT_label': '', 'all_col_labels': 'DOID:4006__MONDO:0007256__DOID:3910__UBERON:0002048__DOID:0050939'}, {'bicluster': '540', 'gene': 'ENSG00000006071.7', 'bicluster_score': '0.9949664328288499', 'bicluster_mean': '1377.992414245359', 'gene_bicluster_cor': 'NaN', 'col_enrich_all': 'MONDO:0006256_MONDO:0007256', 'col_enrich_MONDO': 'MONDO:0006256__MONDO:0007256', 'col_enrich_MONDO_label': 'BREAST INVASIVE CARCINOMA__LIVER HEPATOCELLULAR CARCINOMA', 'col_enrich_UBERON': '', 'col_enrich_UBERON_label': '', 'col_enrich_DOID': '', 'col_enrich_DOID_label': '', 'col_enrich_NCIT': '', 'col_enrich_NCIT_label': '', 'all_col_labels': 'MONDO:0006256__DOID:4947__MONDO:0007256__UBERON:0002107__DOID:3910'}, {'bicluster': '1029', 'gene': 'ENSG00000006071.7', 'bicluster_score': '0.994264849226274', 'bicluster_mean': '29668.96949275362', 'gene_bicluster_cor': 'NaN', 'col_enrich_all': 'none', 'col_enrich_MONDO': '', 'col_enrich_MONDO_label': '', 'col_enrich_UBERON': '', 'col_enrich_UBERON_label': '', 'col_enrich_DOID': '', 'col_enrich_DOID_label': '', 'col_enrich_NCIT': '', 'col_enrich_NCIT_label': '', 'all_col_labels': 'DOID:234__MONDO:0010150__DOID:3910__MONDO:0005036__DOID:6171'}, {'bicluster': '1262', 'gene': 'ENSG00000006071.7', 'bicluster_score': '0.9939865192477889', 'bicluster_mean': '4957.31894160584', 'gene_bicluster_cor': 'NaN', 'col_enrich_all': 'UBERON:0002046', 'col_enrich_MONDO': '', 'col_enrich_MONDO_label': '', 'col_enrich_UBERON': 'UBERON:0002046', 'col_enrich_UBERON_label': 'THYROID', 'col_enrich_DOID': '', 'col_enrich_DOID_label': '', 'col_enrich_NCIT': '', 'col_enrich_NCIT_label': '', 'all_col_labels': 'DOID:3910__UBERON:0002048__DOID:3963__UBERON:0002046'}]\n",
      "\n"
     ]
    },
    {
     "ename": "NameError",
     "evalue": "name 'related_biclusters_and_tissues_for_each_input_gene' is not defined",
     "output_type": "error",
     "traceback": [
      "\u001b[0;31m---------------------------------------------------------------------------\u001b[0m",
      "\u001b[0;31mNameError\u001b[0m                                 Traceback (most recent call last)",
      "\u001b[0;32m<ipython-input-58-e4a0ccc6d150>\u001b[0m in \u001b[0;36m<module>\u001b[0;34m\u001b[0m\n\u001b[0;32m----> 1\u001b[0;31m \u001b[0mrelated_biclusters_and_tissues_for_each_input_gene\u001b[0m \u001b[0;34m=\u001b[0m \u001b[0mloop\u001b[0m\u001b[0;34m.\u001b[0m\u001b[0mrun_until_complete\u001b[0m\u001b[0;34m(\u001b[0m\u001b[0mGeneCoocurrenceByBiclusterObject\u001b[0m\u001b[0;34m.\u001b[0m\u001b[0mgene_to_tissue_biclusters_async\u001b[0m\u001b[0;34m(\u001b[0m\u001b[0mmonogenic_diabetes_sensu_strictiore_geneset\u001b[0m\u001b[0;34m)\u001b[0m\u001b[0;34m)\u001b[0m\u001b[0;34m\u001b[0m\u001b[0m\n\u001b[0m",
      "\u001b[0;32m/Library/Frameworks/Python.framework/Versions/3.7/lib/python3.7/asyncio/base_events.py\u001b[0m in \u001b[0;36mrun_until_complete\u001b[0;34m(self, future)\u001b[0m\n\u001b[1;32m    566\u001b[0m             \u001b[0;32mraise\u001b[0m \u001b[0mRuntimeError\u001b[0m\u001b[0;34m(\u001b[0m\u001b[0;34m'Event loop stopped before Future completed.'\u001b[0m\u001b[0;34m)\u001b[0m\u001b[0;34m\u001b[0m\u001b[0m\n\u001b[1;32m    567\u001b[0m \u001b[0;34m\u001b[0m\u001b[0m\n\u001b[0;32m--> 568\u001b[0;31m         \u001b[0;32mreturn\u001b[0m \u001b[0mfuture\u001b[0m\u001b[0;34m.\u001b[0m\u001b[0mresult\u001b[0m\u001b[0;34m(\u001b[0m\u001b[0;34m)\u001b[0m\u001b[0;34m\u001b[0m\u001b[0m\n\u001b[0m\u001b[1;32m    569\u001b[0m \u001b[0;34m\u001b[0m\u001b[0m\n\u001b[1;32m    570\u001b[0m     \u001b[0;32mdef\u001b[0m \u001b[0mstop\u001b[0m\u001b[0;34m(\u001b[0m\u001b[0mself\u001b[0m\u001b[0;34m)\u001b[0m\u001b[0;34m:\u001b[0m\u001b[0;34m\u001b[0m\u001b[0m\n",
      "\u001b[0;32m~/Documents/renci/translator-workflows/WorkFlow9/biclusterco.py\u001b[0m in \u001b[0;36mgene_to_tissue_biclusters_async\u001b[0;34m(self, curated_ID_list)\u001b[0m\n\u001b[1;32m    127\u001b[0m                             \u001b[0mbiclusterindex\u001b[0m \u001b[0;34m=\u001b[0m \u001b[0;34m[\u001b[0m\u001b[0mx\u001b[0m\u001b[0;34m[\u001b[0m\u001b[0;34m'bicluster'\u001b[0m\u001b[0;34m]\u001b[0m \u001b[0;32mfor\u001b[0m \u001b[0mx\u001b[0m \u001b[0;32min\u001b[0m \u001b[0mresponse_2_json\u001b[0m\u001b[0;34m]\u001b[0m\u001b[0;34m\u001b[0m\u001b[0m\n\u001b[1;32m    128\u001b[0m                             \u001b[0mcoocurrence_dict_each_gene\u001b[0m\u001b[0;34m[\u001b[0m\u001b[0;34m'related_biclusters'\u001b[0m\u001b[0;34m]\u001b[0m\u001b[0;34m[\u001b[0m\u001b[0mbiclusterindex\u001b[0m\u001b[0;34m[\u001b[0m\u001b[0;36m0\u001b[0m\u001b[0;34m]\u001b[0m\u001b[0;34m]\u001b[0m \u001b[0;34m=\u001b[0m \u001b[0mtissues_in_each_bicluster\u001b[0m\u001b[0;34m\u001b[0m\u001b[0m\n\u001b[0;32m--> 129\u001b[0;31m                         \u001b[0mrelated_biclusters_and_tissues_for_each_input_gene\u001b[0m\u001b[0;34m[\u001b[0m\u001b[0mgene\u001b[0m\u001b[0;34m]\u001b[0m \u001b[0;34m=\u001b[0m \u001b[0mdict\u001b[0m\u001b[0;34m(\u001b[0m\u001b[0mcoocurrence_dict_each_gene\u001b[0m\u001b[0;34m)\u001b[0m\u001b[0;34m\u001b[0m\u001b[0m\n\u001b[0m\u001b[1;32m    130\u001b[0m         \u001b[0;32mreturn\u001b[0m \u001b[0mrelated_biclusters_and_tissues_for_each_input_gene\u001b[0m\u001b[0;34m\u001b[0m\u001b[0m\n\u001b[1;32m    131\u001b[0m \u001b[0;34m\u001b[0m\u001b[0m\n",
      "\u001b[0;31mNameError\u001b[0m: name 'related_biclusters_and_tissues_for_each_input_gene' is not defined"
     ]
    }
   ],
   "source": [
    "related_biclusters_and_tissues_for_each_input_gene = loop.run_until_complete(GeneCoocurrenceByBiclusterObject.gene_to_tissue_biclusters_async(monogenic_diabetes_sensu_strictiore_geneset))"
   ]
  },
  {
   "cell_type": "code",
   "execution_count": 50,
   "metadata": {},
   "outputs": [
    {
     "ename": "AttributeError",
     "evalue": "'CoocurrenceByBicluster' object has no attribute 'bicluster_occurences_dict_gene_to_tissue'",
     "output_type": "error",
     "traceback": [
      "\u001b[0;31m---------------------------------------------------------------------------\u001b[0m",
      "\u001b[0;31mAttributeError\u001b[0m                            Traceback (most recent call last)",
      "\u001b[0;32m<ipython-input-50-9b2e2c9de9bf>\u001b[0m in \u001b[0;36m<module>\u001b[0;34m\u001b[0m\n\u001b[0;32m----> 1\u001b[0;31m \u001b[0mbicluster_occurences_dict\u001b[0m \u001b[0;34m=\u001b[0m \u001b[0mGeneCoocurrenceByBiclusterObject\u001b[0m\u001b[0;34m.\u001b[0m\u001b[0mbicluster_occurences_dict_gene_to_tissue\u001b[0m\u001b[0;34m(\u001b[0m\u001b[0mrelated_biclusters_and_tissues_for_each_input_gene\u001b[0m\u001b[0;34m)\u001b[0m\u001b[0;34m\u001b[0m\u001b[0m\n\u001b[0m",
      "\u001b[0;31mAttributeError\u001b[0m: 'CoocurrenceByBicluster' object has no attribute 'bicluster_occurences_dict_gene_to_tissue'"
     ]
    }
   ],
   "source": [
    "bicluster_occurences_dict = GeneCoocurrenceByBiclusterObject.bicluster_occurences_dict_gene_to_tissue(related_biclusters_and_tissues_for_each_input_gene)"
   ]
  },
  {
   "cell_type": "code",
   "execution_count": 38,
   "metadata": {},
   "outputs": [],
   "source": [
    "unique_biclusters = GeneCoocurrenceByBiclusterObject.unique_biclusters(bicluster_occurences_dict)"
   ]
  },
  {
   "cell_type": "code",
   "execution_count": 39,
   "metadata": {},
   "outputs": [
    {
     "data": {
      "text/plain": [
       "35"
      ]
     },
     "execution_count": 39,
     "metadata": {},
     "output_type": "execute_result"
    }
   ],
   "source": [
    "len(unique_biclusters)"
   ]
  },
  {
   "cell_type": "code",
   "execution_count": 40,
   "metadata": {},
   "outputs": [
    {
     "data": {
      "text/plain": [
       "['339',\n",
       " '540',\n",
       " '363',\n",
       " '505',\n",
       " '788',\n",
       " '965',\n",
       " '1009',\n",
       " '1157',\n",
       " '1221',\n",
       " '247',\n",
       " '753',\n",
       " '949',\n",
       " '1077',\n",
       " '1090',\n",
       " '153',\n",
       " '164',\n",
       " '490',\n",
       " '770',\n",
       " '872',\n",
       " '1162',\n",
       " '1361',\n",
       " '1224',\n",
       " '244',\n",
       " '526',\n",
       " '816',\n",
       " '1300',\n",
       " '528',\n",
       " '545',\n",
       " '628',\n",
       " '947',\n",
       " '1165',\n",
       " '237',\n",
       " '512',\n",
       " '989',\n",
       " '1241']"
      ]
     },
     "execution_count": 40,
     "metadata": {},
     "output_type": "execute_result"
    }
   ],
   "source": [
    "unique_biclusters"
   ]
  },
  {
   "cell_type": "code",
   "execution_count": 41,
   "metadata": {},
   "outputs": [],
   "source": [
    "tissues_in_unique_biclusters = GeneCoocurrenceByBiclusterObject.genes_in_unique_biclusters(unique_biclusters, related_biclusters_and_genes_for_each_input_gene)"
   ]
  },
  {
   "cell_type": "code",
   "execution_count": 42,
   "metadata": {},
   "outputs": [
    {
     "ename": "NameError",
     "evalue": "name 'curated_geneset' is not defined",
     "output_type": "error",
     "traceback": [
      "\u001b[0;31m---------------------------------------------------------------------------\u001b[0m",
      "\u001b[0;31mNameError\u001b[0m                                 Traceback (most recent call last)",
      "\u001b[0;32m<ipython-input-42-665d80a8f0df>\u001b[0m in \u001b[0;36m<module>\u001b[0;34m\u001b[0m\n\u001b[0;32m----> 1\u001b[0;31m \u001b[0mdict_of_genes_in_unique_biclusters_not_in_inputs\u001b[0m \u001b[0;34m=\u001b[0m \u001b[0mGeneCoocurrenceByBiclusterObject\u001b[0m\u001b[0;34m.\u001b[0m\u001b[0mgenes_in_unique_biclusters_not_in_input_gene_list\u001b[0m\u001b[0;34m(\u001b[0m\u001b[0mcurated_geneset\u001b[0m\u001b[0;34m,\u001b[0m \u001b[0mgenes_in_unique_biclusters\u001b[0m\u001b[0;34m)\u001b[0m\u001b[0;34m\u001b[0m\u001b[0m\n\u001b[0m",
      "\u001b[0;31mNameError\u001b[0m: name 'curated_geneset' is not defined"
     ]
    }
   ],
   "source": [
    "dict_of_genes_in_unique_biclusters_not_in_inputs = GeneCoocurrenceByBiclusterObject.genes_in_unique_biclusters_not_in_input_gene_list(curated_geneset, genes_in_unique_biclusters)"
   ]
  },
  {
   "cell_type": "code",
   "execution_count": 14,
   "metadata": {
    "scrolled": true
   },
   "outputs": [
    {
     "data": {
      "text/plain": [
       "defaultdict(dict,\n",
       "            {'MONDO:0006143__UBERON:0002469__MONDO:0010150__UBERON:0002107': 166,\n",
       "             'MONDO:0006256__UBERON:0000310__UBERON:0002107': 109,\n",
       "             'UBERON:0001157__DOID:2526__MONDO:0005036__UBERON:0000995': 163,\n",
       "             'DOID:4006__DOID:234__UBERON:0001157__DOID:1107__UBERON:0004648__DOID:2526__UBERON:0002367__DOID:1996__MONDO:0005036__UBERON:0000945__DOID:0050939': 77,\n",
       "             'DOID:1107__NCIT:C32668__UBERON:0002469__UBERON:0004648__MONDO:0005036': 168,\n",
       "             'DOID:4006__UBERON:0012249__MONDO:0006143__DOID:1107__MONDO:0010150__DOID:3907__UBERON:0001830': 133,\n",
       "             'DOID:4006__UBERON:0012249__MONDO:0006143__MONDO:0010150__UBERON:0001830__DOID:6171': 103,\n",
       "             'MONDO:0006256__UBERON:0012249__MONDO:0010150__DOID:3910__DOID:3907__MONDO:0005036': 129})"
      ]
     },
     "execution_count": 14,
     "metadata": {},
     "output_type": "execute_result"
    }
   ],
   "source": [
    "dict_of_genes_in_unique_biclusters_not_in_inputs"
   ]
  },
  {
   "cell_type": "markdown",
   "metadata": {},
   "source": [
    "## The above is a dictionary which represents the genes, present in uniquely occurring biclusters, for a given set of input genes. The form of the dictionary is {output_gene : # of occurrences of this gene across relevant biclusters}"
   ]
  },
  {
   "cell_type": "markdown",
   "metadata": {},
   "source": [
    "## The above list is truncated by python... Let's find the gene with the most occurrences."
   ]
  },
  {
   "cell_type": "code",
   "execution_count": 8,
   "metadata": {},
   "outputs": [
    {
     "data": {
      "text/plain": [
       "<module 'biclusterco' from '/Users/colincurtis/Documents/renci/translator-workflows/WorkFlow9/biclusterco.py'>"
      ]
     },
     "execution_count": 8,
     "metadata": {},
     "output_type": "execute_result"
    }
   ],
   "source": [
    "importlib.reload(biclusterco) #this is a nice thing or locale module development"
   ]
  },
  {
   "cell_type": "code",
   "execution_count": 15,
   "metadata": {},
   "outputs": [],
   "source": [
    "sorted_list_of_output_genes = GeneCoocurrenceByBiclusterObject.sorted_list_of_output_genes(dict_of_genes_in_unique_biclusters_not_in_inputs)"
   ]
  },
  {
   "cell_type": "code",
   "execution_count": 16,
   "metadata": {},
   "outputs": [
    {
     "data": {
      "text/plain": [
       "[(168,\n",
       "  'DOID:1107__NCIT:C32668__UBERON:0002469__UBERON:0004648__MONDO:0005036'),\n",
       " (166, 'MONDO:0006143__UBERON:0002469__MONDO:0010150__UBERON:0002107'),\n",
       " (163, 'UBERON:0001157__DOID:2526__MONDO:0005036__UBERON:0000995'),\n",
       " (133,\n",
       "  'DOID:4006__UBERON:0012249__MONDO:0006143__DOID:1107__MONDO:0010150__DOID:3907__UBERON:0001830'),\n",
       " (129,\n",
       "  'MONDO:0006256__UBERON:0012249__MONDO:0010150__DOID:3910__DOID:3907__MONDO:0005036'),\n",
       " (109, 'MONDO:0006256__UBERON:0000310__UBERON:0002107'),\n",
       " (103,\n",
       "  'DOID:4006__UBERON:0012249__MONDO:0006143__MONDO:0010150__UBERON:0001830__DOID:6171'),\n",
       " (77,\n",
       "  'DOID:4006__DOID:234__UBERON:0001157__DOID:1107__UBERON:0004648__DOID:2526__UBERON:0002367__DOID:1996__MONDO:0005036__UBERON:0000945__DOID:0050939')]"
      ]
     },
     "execution_count": 16,
     "metadata": {},
     "output_type": "execute_result"
    }
   ],
   "source": [
    "sorted_list_of_output_genes"
   ]
  },
  {
   "cell_type": "code",
   "execution_count": 17,
   "metadata": {},
   "outputs": [
    {
     "data": {
      "text/plain": [
       "8"
      ]
     },
     "execution_count": 17,
     "metadata": {},
     "output_type": "execute_result"
    }
   ],
   "source": [
    "len(sorted_list_of_output_genes)"
   ]
  },
  {
   "cell_type": "code",
   "execution_count": null,
   "metadata": {},
   "outputs": [],
   "source": []
  }
 ],
 "metadata": {
  "kernelspec": {
   "display_name": "Python 3",
   "language": "python",
   "name": "python3"
  },
  "language_info": {
   "codemirror_mode": {
    "name": "ipython",
    "version": 3
   },
   "file_extension": ".py",
   "mimetype": "text/x-python",
   "name": "python",
   "nbconvert_exporter": "python",
   "pygments_lexer": "ipython3",
   "version": "3.7.0"
  }
 },
 "nbformat": 4,
 "nbformat_minor": 2
}
