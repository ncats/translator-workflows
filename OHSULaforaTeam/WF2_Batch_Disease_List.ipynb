{
 "cells": [
  {
   "cell_type": "markdown",
   "metadata": {},
   "source": [
    "# Batch Execution of Workflow 2 on a TSV List of Diseases\n",
    "\n",
    "The sample 'diseases.tsv' file contains a list of target diseases, where the first and third column are the disease name and  MONDO identifier, respectively. This workflow can read in this file and apply the workflow 2 (MOD0/1A/1B1/1E)." 
   ]
  },
  {
   "cell_type": "markdown",
   "metadata": {},
   "source": [
    "# Steps which may best happen before you run the workflow locally\n",
    "* be running python3.6+  (say, in a virtual enviroment)\n",
    "* you will need to have  `pip install jupyter` into the venv.\n",
    "* have cloned this repo using `--recursive`\n",
    "\n",
    "This workflow invokes \"owltools\" (https://github.com/owlcollab/owltools/wiki/Install-OWLTools)\n",
    "which is a 37M Java language tool. This needs has to be installed into a location visible to the Notebook (like ```${HOME}/bin```).  The 0.3.0 release application binary can be used (it is a bash wrapper around a Java JAR but your download tool (e.g. Mac OSX) may inadvertently give it the cryptic file extension '.dms' (No... it is **NOT** an Amiga DMS archive!)  Just rename the file (if necessary) to ```owltools```,  make it executable and move it into a suitable location like ```/anaconda3/bin``` or ```/usr/bin```.\n",
    "\n",
    "Alternately,\n",
    "\n",
    "```curl http://build.berkeleybop.org/userContent/owltools/owltools > ~/bin/owltools && chmod +x /usr/bin/owltools```\n",
    "\n",
    "should do the job."
   ]
  },
  {
   "cell_type": "markdown",
   "metadata": {},
   "source": [
    "# Install Python Dependencies (including the NCATS MVP Module Library)"
   ]
  },
  {
   "cell_type": "code",
   "execution_count": 2,
   "metadata": {},
   "outputs": [
    {
     "name": "stdout",
     "output_type": "stream",
     "text": [
      "Requirement already satisfied: ontobio in /anaconda3/lib/python3.7/site-packages (from -r requirements.txt (line 1)) (1.7.2)\n",
      "Requirement already satisfied: mygene==3.0.0 in /anaconda3/lib/python3.7/site-packages (from -r requirements.txt (line 2)) (3.0.0)\n",
      "Requirement already satisfied: numpy==1.16.1 in /anaconda3/lib/python3.7/site-packages (from -r requirements.txt (line 7)) (1.16.1)\n",
      "Requirement already satisfied: pandas==0.23.4 in /anaconda3/lib/python3.7/site-packages (from -r requirements.txt (line 8)) (0.23.4)\n",
      "Requirement already satisfied: typing>=0.0 in /anaconda3/lib/python3.7/site-packages (from -r requirements.txt (line 10)) (3.6.6)\n",
      "Requirement already satisfied: graphviz in /anaconda3/lib/python3.7/site-packages (from -r requirements.txt (line 11)) (0.10.1)\n",
      "Requirement already satisfied: html3 in /anaconda3/lib/python3.7/site-packages (from -r requirements.txt (line 13)) (1.17)\n",
      "Requirement already satisfied: jsobject in /anaconda3/lib/python3.7/site-packages (from ontobio->-r requirements.txt (line 1)) (0.10.2)\n",
      "Requirement already satisfied: click in /anaconda3/lib/python3.7/site-packages (from ontobio->-r requirements.txt (line 1)) (7.0)\n",
      "Requirement already satisfied: cachier in /anaconda3/lib/python3.7/site-packages (from ontobio->-r requirements.txt (line 1)) (1.2.5)\n",
      "Requirement already satisfied: pysolr in /anaconda3/lib/python3.7/site-packages (from ontobio->-r requirements.txt (line 1)) (3.8.1)\n",
      "Requirement already satisfied: networkx==2.2 in /anaconda3/lib/python3.7/site-packages (from ontobio->-r requirements.txt (line 1)) (2.2)\n",
      "Requirement already satisfied: pyyaml>=4.2b1 in /anaconda3/lib/python3.7/site-packages (from ontobio->-r requirements.txt (line 1)) (4.2b4)\n",
      "Requirement already satisfied: sparqlwrapper in /anaconda3/lib/python3.7/site-packages (from ontobio->-r requirements.txt (line 1)) (1.8.2)\n",
      "Requirement already satisfied: prefixcommons in /anaconda3/lib/python3.7/site-packages (from ontobio->-r requirements.txt (line 1)) (0.1.7)\n",
      "Requirement already satisfied: scipy in /anaconda3/lib/python3.7/site-packages (from ontobio->-r requirements.txt (line 1)) (1.2.1)\n",
      "Requirement already satisfied: yamldown in /anaconda3/lib/python3.7/site-packages (from ontobio->-r requirements.txt (line 1)) (0.1.6)\n",
      "Requirement already satisfied: requests in /anaconda3/lib/python3.7/site-packages (from ontobio->-r requirements.txt (line 1)) (2.21.0)\n",
      "Requirement already satisfied: marshmallow==3.0.0b3 in /anaconda3/lib/python3.7/site-packages (from ontobio->-r requirements.txt (line 1)) (3.0.0b3)\n",
      "Requirement already satisfied: python-dateutil>=2.5.0 in /anaconda3/lib/python3.7/site-packages (from pandas==0.23.4->-r requirements.txt (line 8)) (2.8.0)\n",
      "Requirement already satisfied: pytz>=2011k in /anaconda3/lib/python3.7/site-packages (from pandas==0.23.4->-r requirements.txt (line 8)) (2018.9)\n",
      "Requirement already satisfied: portalocker in /anaconda3/lib/python3.7/site-packages (from cachier->ontobio->-r requirements.txt (line 1)) (1.4.0)\n",
      "Requirement already satisfied: watchdog in /anaconda3/lib/python3.7/site-packages (from cachier->ontobio->-r requirements.txt (line 1)) (0.9.0)\n",
      "Requirement already satisfied: decorator>=4.3.0 in /anaconda3/lib/python3.7/site-packages (from networkx==2.2->ontobio->-r requirements.txt (line 1)) (4.3.2)\n",
      "Requirement already satisfied: rdflib>=4.0 in /anaconda3/lib/python3.7/site-packages (from sparqlwrapper->ontobio->-r requirements.txt (line 1)) (4.2.2)\n",
      "Requirement already satisfied: certifi>=2017.4.17 in /anaconda3/lib/python3.7/site-packages (from requests->ontobio->-r requirements.txt (line 1)) (2018.11.29)\n",
      "Requirement already satisfied: chardet<3.1.0,>=3.0.2 in /anaconda3/lib/python3.7/site-packages (from requests->ontobio->-r requirements.txt (line 1)) (3.0.4)\n",
      "Requirement already satisfied: idna<2.9,>=2.5 in /anaconda3/lib/python3.7/site-packages (from requests->ontobio->-r requirements.txt (line 1)) (2.8)\n",
      "Requirement already satisfied: urllib3<1.25,>=1.21.1 in /anaconda3/lib/python3.7/site-packages (from requests->ontobio->-r requirements.txt (line 1)) (1.24.1)\n",
      "Requirement already satisfied: six>=1.5 in /anaconda3/lib/python3.7/site-packages (from python-dateutil>=2.5.0->pandas==0.23.4->-r requirements.txt (line 8)) (1.12.0)\n",
      "Requirement already satisfied: pathtools>=0.1.1 in /anaconda3/lib/python3.7/site-packages (from watchdog->cachier->ontobio->-r requirements.txt (line 1)) (0.1.2)\n",
      "Requirement already satisfied: argh>=0.24.1 in /anaconda3/lib/python3.7/site-packages (from watchdog->cachier->ontobio->-r requirements.txt (line 1)) (0.26.2)\n",
      "Requirement already satisfied: isodate in /anaconda3/lib/python3.7/site-packages (from rdflib>=4.0->sparqlwrapper->ontobio->-r requirements.txt (line 1)) (0.6.0)\n",
      "Requirement already satisfied: pyparsing in /anaconda3/lib/python3.7/site-packages (from rdflib>=4.0->sparqlwrapper->ontobio->-r requirements.txt (line 1)) (2.3.1)\n"
     ]
    }
   ],
   "source": [
    "import sys\n",
    "import shutil\n",
    "\n",
    "pyptha = sys.executable.split('/')\n",
    "pyptha[-2]= 'lib'\n",
    "pypth='/'.join(pyptha) + '*/site-packages'\n",
    "\n",
    "# Hack to get around problematic updating of distutils installed PyYAML and a slightly older pandas requiring a compatible numpy\n",
    "shutil.rmtree(pypth + '/PyYAML*', ignore_errors=True)\n",
    "shutil.rmtree(pypth + '/numpy*', ignore_errors=True)\n",
    "\n",
    "sys.path.append(\"../mvp-module-library\")\n",
    "# Install pip requirements\n",
    "!{sys.executable} -m pip install -r requirements.txt"
   ]
  },
  {
   "cell_type": "code",
   "execution_count": 6,
   "metadata": {
    "collapsed": true
   },
   "outputs": [],
   "source": [
    "from BioLink.biolink_client import BioLinkWrapper\n",
    "import pandas as pd\n",
    "from os import makedirs\n",
    "from html3.html3 import XHTML"
   ]
  },
  {
   "cell_type": "code",
   "execution_count": 8,
   "metadata": {},
   "outputs": [],
   "source": [
    "def output_file(tag,title,ext):\n",
    "    basepath = \"./Tidbit/\"+tag\n",
    "    filename = title.replace(\" \",\"_\")\n",
    "    filepath = basepath+\"/\"+filename+\".\"+ext\n",
    "    makedirs(basepath,exist_ok=True)\n",
    "    output = open(filepath,\"w+\")\n",
    "    output.info = { 'tag' : tag, 'title' : title }\n",
    "    return output\n",
    "\n",
    "def dump_html(output,body):\n",
    "    title = output.info['title']+\" for \"+output.info['tag']\n",
    "    \n",
    "    doc = XHTML()\n",
    "    \n",
    "    doc.head.title(title)\n",
    "    doc.body.h1(title)\n",
    "    doc.body.p(body.to_html())\n",
    "    \n",
    "    output.write(str(doc))"
   ]
  },
  {
   "cell_type": "markdown",
   "metadata": {},
   "source": [
    "# Mod0 Look up Disease Associated Genes"
   ]
  },
  {
   "cell_type": "code",
   "execution_count": 9,
   "metadata": {},
   "outputs": [],
   "source": [
    "from Modules.Mod0_lookups import LookUp\n",
    "\n",
    "def diseaseLookUp(input_disease_symbol, input_disease_mondo):\n",
    "    \n",
    "    # workflow input is a disease identifier\n",
    "    lu = LookUp()\n",
    "    \n",
    "    input_object = {\n",
    "        'input': input_disease_mondo,\n",
    "        'parameters': {\n",
    "            'taxon': 'human',\n",
    "            'threshold': None,\n",
    "        },\n",
    "    }\n",
    "\n",
    "    lu.load_input_object(input_object=input_object)\n",
    "    \n",
    "    # get genes associated with disease from Biolink\n",
    "    disease_associated_genes = lu.disease_geneset_lookup()\n",
    "    \n",
    "    # create list of gene curies for downstream module input\n",
    "    input_curie_set = disease_associated_genes[['hit_id', 'hit_symbol']].to_dict(orient='records')\n",
    "    \n",
    "    # show the disease associated genes\n",
    "    disease_associated_genes['modules'] = 'Mod0'\n",
    "    \n",
    "    # save the seed gene definition and gene list to a \n",
    "    # file under the \"Tidbit/<symbol>\" subdirectory\n",
    "    \n",
    "    output = output_file(input_disease_symbol,\"Definition\",\"json\")\n",
    "    lu.echo_input_object(output)\n",
    "    output.close()\n",
    "    \n",
    "    output = output_file(input_disease_symbol,\"Disease Associated Genes\",\"html\")\n",
    "    dump_html(output,disease_associated_genes)\n",
    "    output.close()\n",
    "    \n",
    "    # genes to investigate\n",
    "    return lu.input_object, disease_associated_genes, input_curie_set\n"
   ]
  },
  {
   "cell_type": "code",
   "execution_count": 10,
   "metadata": {},
   "outputs": [
    {
     "ename": "JSONDecodeError",
     "evalue": "Expecting value: line 1 column 1 (char 0)",
     "output_type": "error",
     "traceback": [
      "\u001b[0;31m---------------------------------------------------------------------------\u001b[0m",
      "\u001b[0;31mJSONDecodeError\u001b[0m                           Traceback (most recent call last)",
      "\u001b[0;32m<ipython-input-10-3f04e8b9c04a>\u001b[0m in \u001b[0;36m<module>\u001b[0;34m\u001b[0m\n\u001b[1;32m      2\u001b[0m \u001b[0minput_disease_mondo\u001b[0m \u001b[0;34m=\u001b[0m \u001b[0;34m'MONDO:0019391'\u001b[0m\u001b[0;34m\u001b[0m\u001b[0;34m\u001b[0m\u001b[0m\n\u001b[1;32m      3\u001b[0m \u001b[0;34m\u001b[0m\u001b[0m\n\u001b[0;32m----> 4\u001b[0;31m \u001b[0minput_object\u001b[0m\u001b[0;34m,\u001b[0m \u001b[0mdisease_associated_genes\u001b[0m\u001b[0;34m,\u001b[0m \u001b[0minput_curie_set\u001b[0m \u001b[0;34m=\u001b[0m \u001b[0mdiseaseLookUp\u001b[0m\u001b[0;34m(\u001b[0m\u001b[0minput_disease_symbol\u001b[0m\u001b[0;34m,\u001b[0m \u001b[0minput_disease_mondo\u001b[0m\u001b[0;34m)\u001b[0m\u001b[0;34m\u001b[0m\u001b[0;34m\u001b[0m\u001b[0m\n\u001b[0m\u001b[1;32m      5\u001b[0m \u001b[0;34m\u001b[0m\u001b[0m\n\u001b[1;32m      6\u001b[0m \u001b[0;31m#  Echo to console\u001b[0m\u001b[0;34m\u001b[0m\u001b[0;34m\u001b[0m\u001b[0;34m\u001b[0m\u001b[0m\n",
      "\u001b[0;32m<ipython-input-9-883fe5fa6f69>\u001b[0m in \u001b[0;36mdiseaseLookUp\u001b[0;34m(input_disease_symbol, input_disease_mondo)\u001b[0m\n\u001b[1;32m     14\u001b[0m     }\n\u001b[1;32m     15\u001b[0m \u001b[0;34m\u001b[0m\u001b[0m\n\u001b[0;32m---> 16\u001b[0;31m     \u001b[0mlu\u001b[0m\u001b[0;34m.\u001b[0m\u001b[0mload_input_object\u001b[0m\u001b[0;34m(\u001b[0m\u001b[0minput_object\u001b[0m\u001b[0;34m=\u001b[0m\u001b[0minput_object\u001b[0m\u001b[0;34m)\u001b[0m\u001b[0;34m\u001b[0m\u001b[0;34m\u001b[0m\u001b[0m\n\u001b[0m\u001b[1;32m     17\u001b[0m \u001b[0;34m\u001b[0m\u001b[0m\n\u001b[1;32m     18\u001b[0m     \u001b[0;31m# get genes associated with disease from Biolink\u001b[0m\u001b[0;34m\u001b[0m\u001b[0;34m\u001b[0m\u001b[0;34m\u001b[0m\u001b[0m\n",
      "\u001b[0;32m~/PycharmProjects/ncats-translator-workflows/Workflow2/Modules/Mod0_lookups.py\u001b[0m in \u001b[0;36mload_input_object\u001b[0;34m(self, input_object)\u001b[0m\n\u001b[1;32m     33\u001b[0m \u001b[0;34m\u001b[0m\u001b[0m\n\u001b[1;32m     34\u001b[0m     \u001b[0;32mdef\u001b[0m \u001b[0mload_input_object\u001b[0m\u001b[0;34m(\u001b[0m\u001b[0mself\u001b[0m\u001b[0;34m,\u001b[0m \u001b[0minput_object\u001b[0m\u001b[0;34m)\u001b[0m\u001b[0;34m:\u001b[0m\u001b[0;34m\u001b[0m\u001b[0;34m\u001b[0m\u001b[0m\n\u001b[0;32m---> 35\u001b[0;31m         \u001b[0minput_object\u001b[0m \u001b[0;34m=\u001b[0m \u001b[0mself\u001b[0m\u001b[0;34m.\u001b[0m\u001b[0mblw\u001b[0m\u001b[0;34m.\u001b[0m\u001b[0mget_obj\u001b[0m\u001b[0;34m(\u001b[0m\u001b[0mobj_id\u001b[0m\u001b[0;34m=\u001b[0m\u001b[0minput_object\u001b[0m\u001b[0;34m[\u001b[0m\u001b[0;34m'input'\u001b[0m\u001b[0;34m]\u001b[0m\u001b[0;34m)\u001b[0m\u001b[0;34m\u001b[0m\u001b[0;34m\u001b[0m\u001b[0m\n\u001b[0m\u001b[1;32m     36\u001b[0m         self.input_object = {\n\u001b[1;32m     37\u001b[0m             \u001b[0;34m'id'\u001b[0m\u001b[0;34m:\u001b[0m \u001b[0minput_object\u001b[0m\u001b[0;34m[\u001b[0m\u001b[0;34m'id'\u001b[0m\u001b[0;34m]\u001b[0m\u001b[0;34m,\u001b[0m\u001b[0;34m\u001b[0m\u001b[0;34m\u001b[0m\u001b[0m\n",
      "\u001b[0;32m~/PycharmProjects/ncats-translator-workflows/mvp-module-library/BioLink/biolink_client.py\u001b[0m in \u001b[0;36mget_obj\u001b[0;34m(self, obj_id)\u001b[0m\n\u001b[1;32m     12\u001b[0m         \u001b[0murl\u001b[0m \u001b[0;34m=\u001b[0m \u001b[0;34m'{0}bioentity/{1}'\u001b[0m\u001b[0;34m.\u001b[0m\u001b[0mformat\u001b[0m\u001b[0;34m(\u001b[0m\u001b[0mself\u001b[0m\u001b[0;34m.\u001b[0m\u001b[0mendpoint\u001b[0m\u001b[0;34m,\u001b[0m \u001b[0mobj_id\u001b[0m\u001b[0;34m)\u001b[0m\u001b[0;34m\u001b[0m\u001b[0;34m\u001b[0m\u001b[0m\n\u001b[1;32m     13\u001b[0m         \u001b[0mresponse\u001b[0m \u001b[0;34m=\u001b[0m \u001b[0mrequests\u001b[0m\u001b[0;34m.\u001b[0m\u001b[0mget\u001b[0m\u001b[0;34m(\u001b[0m\u001b[0murl\u001b[0m\u001b[0;34m)\u001b[0m\u001b[0;34m\u001b[0m\u001b[0;34m\u001b[0m\u001b[0m\n\u001b[0;32m---> 14\u001b[0;31m         \u001b[0;32mreturn\u001b[0m \u001b[0mresponse\u001b[0m\u001b[0;34m.\u001b[0m\u001b[0mjson\u001b[0m\u001b[0;34m(\u001b[0m\u001b[0;34m)\u001b[0m\u001b[0;34m\u001b[0m\u001b[0;34m\u001b[0m\u001b[0m\n\u001b[0m\u001b[1;32m     15\u001b[0m \u001b[0;34m\u001b[0m\u001b[0m\n\u001b[1;32m     16\u001b[0m     \u001b[0;32mdef\u001b[0m \u001b[0mdisease2genes\u001b[0m\u001b[0;34m(\u001b[0m\u001b[0mself\u001b[0m\u001b[0;34m,\u001b[0m \u001b[0mdisease_curie\u001b[0m\u001b[0;34m)\u001b[0m\u001b[0;34m:\u001b[0m\u001b[0;34m\u001b[0m\u001b[0;34m\u001b[0m\u001b[0m\n",
      "\u001b[0;32m/anaconda3/lib/python3.7/site-packages/requests/models.py\u001b[0m in \u001b[0;36mjson\u001b[0;34m(self, **kwargs)\u001b[0m\n\u001b[1;32m    895\u001b[0m                     \u001b[0;31m# used.\u001b[0m\u001b[0;34m\u001b[0m\u001b[0;34m\u001b[0m\u001b[0;34m\u001b[0m\u001b[0m\n\u001b[1;32m    896\u001b[0m                     \u001b[0;32mpass\u001b[0m\u001b[0;34m\u001b[0m\u001b[0;34m\u001b[0m\u001b[0m\n\u001b[0;32m--> 897\u001b[0;31m         \u001b[0;32mreturn\u001b[0m \u001b[0mcomplexjson\u001b[0m\u001b[0;34m.\u001b[0m\u001b[0mloads\u001b[0m\u001b[0;34m(\u001b[0m\u001b[0mself\u001b[0m\u001b[0;34m.\u001b[0m\u001b[0mtext\u001b[0m\u001b[0;34m,\u001b[0m \u001b[0;34m**\u001b[0m\u001b[0mkwargs\u001b[0m\u001b[0;34m)\u001b[0m\u001b[0;34m\u001b[0m\u001b[0;34m\u001b[0m\u001b[0m\n\u001b[0m\u001b[1;32m    898\u001b[0m \u001b[0;34m\u001b[0m\u001b[0m\n\u001b[1;32m    899\u001b[0m     \u001b[0;34m@\u001b[0m\u001b[0mproperty\u001b[0m\u001b[0;34m\u001b[0m\u001b[0;34m\u001b[0m\u001b[0m\n",
      "\u001b[0;32m/anaconda3/lib/python3.7/json/__init__.py\u001b[0m in \u001b[0;36mloads\u001b[0;34m(s, encoding, cls, object_hook, parse_float, parse_int, parse_constant, object_pairs_hook, **kw)\u001b[0m\n\u001b[1;32m    346\u001b[0m             \u001b[0mparse_int\u001b[0m \u001b[0;32mis\u001b[0m \u001b[0;32mNone\u001b[0m \u001b[0;32mand\u001b[0m \u001b[0mparse_float\u001b[0m \u001b[0;32mis\u001b[0m \u001b[0;32mNone\u001b[0m \u001b[0;32mand\u001b[0m\u001b[0;34m\u001b[0m\u001b[0;34m\u001b[0m\u001b[0m\n\u001b[1;32m    347\u001b[0m             parse_constant is None and object_pairs_hook is None and not kw):\n\u001b[0;32m--> 348\u001b[0;31m         \u001b[0;32mreturn\u001b[0m \u001b[0m_default_decoder\u001b[0m\u001b[0;34m.\u001b[0m\u001b[0mdecode\u001b[0m\u001b[0;34m(\u001b[0m\u001b[0ms\u001b[0m\u001b[0;34m)\u001b[0m\u001b[0;34m\u001b[0m\u001b[0;34m\u001b[0m\u001b[0m\n\u001b[0m\u001b[1;32m    349\u001b[0m     \u001b[0;32mif\u001b[0m \u001b[0mcls\u001b[0m \u001b[0;32mis\u001b[0m \u001b[0;32mNone\u001b[0m\u001b[0;34m:\u001b[0m\u001b[0;34m\u001b[0m\u001b[0;34m\u001b[0m\u001b[0m\n\u001b[1;32m    350\u001b[0m         \u001b[0mcls\u001b[0m \u001b[0;34m=\u001b[0m \u001b[0mJSONDecoder\u001b[0m\u001b[0;34m\u001b[0m\u001b[0;34m\u001b[0m\u001b[0m\n",
      "\u001b[0;32m/anaconda3/lib/python3.7/json/decoder.py\u001b[0m in \u001b[0;36mdecode\u001b[0;34m(self, s, _w)\u001b[0m\n\u001b[1;32m    335\u001b[0m \u001b[0;34m\u001b[0m\u001b[0m\n\u001b[1;32m    336\u001b[0m         \"\"\"\n\u001b[0;32m--> 337\u001b[0;31m         \u001b[0mobj\u001b[0m\u001b[0;34m,\u001b[0m \u001b[0mend\u001b[0m \u001b[0;34m=\u001b[0m \u001b[0mself\u001b[0m\u001b[0;34m.\u001b[0m\u001b[0mraw_decode\u001b[0m\u001b[0;34m(\u001b[0m\u001b[0ms\u001b[0m\u001b[0;34m,\u001b[0m \u001b[0midx\u001b[0m\u001b[0;34m=\u001b[0m\u001b[0m_w\u001b[0m\u001b[0;34m(\u001b[0m\u001b[0ms\u001b[0m\u001b[0;34m,\u001b[0m \u001b[0;36m0\u001b[0m\u001b[0;34m)\u001b[0m\u001b[0;34m.\u001b[0m\u001b[0mend\u001b[0m\u001b[0;34m(\u001b[0m\u001b[0;34m)\u001b[0m\u001b[0;34m)\u001b[0m\u001b[0;34m\u001b[0m\u001b[0;34m\u001b[0m\u001b[0m\n\u001b[0m\u001b[1;32m    338\u001b[0m         \u001b[0mend\u001b[0m \u001b[0;34m=\u001b[0m \u001b[0m_w\u001b[0m\u001b[0;34m(\u001b[0m\u001b[0ms\u001b[0m\u001b[0;34m,\u001b[0m \u001b[0mend\u001b[0m\u001b[0;34m)\u001b[0m\u001b[0;34m.\u001b[0m\u001b[0mend\u001b[0m\u001b[0;34m(\u001b[0m\u001b[0;34m)\u001b[0m\u001b[0;34m\u001b[0m\u001b[0;34m\u001b[0m\u001b[0m\n\u001b[1;32m    339\u001b[0m         \u001b[0;32mif\u001b[0m \u001b[0mend\u001b[0m \u001b[0;34m!=\u001b[0m \u001b[0mlen\u001b[0m\u001b[0;34m(\u001b[0m\u001b[0ms\u001b[0m\u001b[0;34m)\u001b[0m\u001b[0;34m:\u001b[0m\u001b[0;34m\u001b[0m\u001b[0;34m\u001b[0m\u001b[0m\n",
      "\u001b[0;32m/anaconda3/lib/python3.7/json/decoder.py\u001b[0m in \u001b[0;36mraw_decode\u001b[0;34m(self, s, idx)\u001b[0m\n\u001b[1;32m    353\u001b[0m             \u001b[0mobj\u001b[0m\u001b[0;34m,\u001b[0m \u001b[0mend\u001b[0m \u001b[0;34m=\u001b[0m \u001b[0mself\u001b[0m\u001b[0;34m.\u001b[0m\u001b[0mscan_once\u001b[0m\u001b[0;34m(\u001b[0m\u001b[0ms\u001b[0m\u001b[0;34m,\u001b[0m \u001b[0midx\u001b[0m\u001b[0;34m)\u001b[0m\u001b[0;34m\u001b[0m\u001b[0;34m\u001b[0m\u001b[0m\n\u001b[1;32m    354\u001b[0m         \u001b[0;32mexcept\u001b[0m \u001b[0mStopIteration\u001b[0m \u001b[0;32mas\u001b[0m \u001b[0merr\u001b[0m\u001b[0;34m:\u001b[0m\u001b[0;34m\u001b[0m\u001b[0;34m\u001b[0m\u001b[0m\n\u001b[0;32m--> 355\u001b[0;31m             \u001b[0;32mraise\u001b[0m \u001b[0mJSONDecodeError\u001b[0m\u001b[0;34m(\u001b[0m\u001b[0;34m\"Expecting value\"\u001b[0m\u001b[0;34m,\u001b[0m \u001b[0ms\u001b[0m\u001b[0;34m,\u001b[0m \u001b[0merr\u001b[0m\u001b[0;34m.\u001b[0m\u001b[0mvalue\u001b[0m\u001b[0;34m)\u001b[0m \u001b[0;32mfrom\u001b[0m \u001b[0;32mNone\u001b[0m\u001b[0;34m\u001b[0m\u001b[0;34m\u001b[0m\u001b[0m\n\u001b[0m\u001b[1;32m    356\u001b[0m         \u001b[0;32mreturn\u001b[0m \u001b[0mobj\u001b[0m\u001b[0;34m,\u001b[0m \u001b[0mend\u001b[0m\u001b[0;34m\u001b[0m\u001b[0;34m\u001b[0m\u001b[0m\n",
      "\u001b[0;31mJSONDecodeError\u001b[0m: Expecting value: line 1 column 1 (char 0)"
     ]
    }
   ],
   "source": [
    "input_disease_symbol = \"FA\"\n",
    "input_disease_mondo = 'MONDO:0019391'\n",
    "\n",
    "input_object, disease_associated_genes, input_curie_set = diseaseLookUp(input_disease_symbol, input_disease_mondo)\n",
    "\n",
    "#  Echo to console\n",
    "disease_associated_genes"
   ]
  },
  {
   "cell_type": "markdown",
   "metadata": {},
   "source": [
    "# Retrieve Similar Genes "
   ]
  },
  {
   "cell_type": "code",
   "execution_count": null,
   "metadata": {},
   "outputs": [],
   "source": [
    "def load_genes(model,data,threshold):\n",
    "    \n",
    "    # Module specification\n",
    "    inputParameters = {\n",
    "        'input': data,\n",
    "        'parameters': {\n",
    "            'taxon': 'human',\n",
    "            'threshold': threshold,\n",
    "        },\n",
    "    }\n",
    "    \n",
    "    # Load the computation parameters\n",
    "    model.load_input_object(inputParameters)\n",
    "    model.load_gene_set()\n",
    "    \n",
    "def similarity( model, data, threshold, input_disease_symbol, module, title ):\n",
    "\n",
    "    # Initialize\n",
    "    load_genes(model,data,threshold)\n",
    "    model.load_associations()\n",
    "    \n",
    "    # Perform the comparison\n",
    "    results = model.compute_similarity()\n",
    "    \n",
    "    # Process the results\n",
    "    results_table = pd.DataFrame(results)\n",
    "    results_table = results_table[~results_table['hit_id'].isin(disease_associated_genes['hit_id'].tolist())].sort_values('score', ascending=False)\n",
    "    results_table['module'] = module\n",
    "    \n",
    "    # save the gene list to a file under the \"Tidbit\" subdirectory\n",
    "    output = output_file(input_disease_symbol,title,\"html\")\n",
    "    dump_html(output,results_table)\n",
    "    output.close()\n",
    "    \n",
    "    return results_table"
   ]
  },
  {
   "cell_type": "markdown",
   "metadata": {},
   "source": [
    "## Mod1A Functional Similarity\n",
    "### Find similar genes based on GO functional annotations using OntoBio Jaccard similarity"
   ]
  },
  {
   "cell_type": "code",
   "execution_count": null,
   "metadata": {
    "collapsed": true
   },
   "outputs": [],
   "source": [
    "from Modules.Mod1A_functional_sim import FunctionalSimilarity\n",
    "\n",
    "# Functinoal Simularity using Jaccard index threshold\n",
    "func_sim_human = FunctionalSimilarity()\n",
    "Mod1A_results = similarity( func_sim_human, input_curie_set, 0.75, input_disease_symbol, 'Mod1A', \"Functionally Similar Genes\" )\n",
    "\n",
    "Mod1A_results"
   ]
  },
  {
   "cell_type": "markdown",
   "metadata": {},
   "source": [
    "## MOD1B Phenotype Similarity\n",
    "### Find similar genes based on OwlSim calculated Phenotype Similarity"
   ]
  },
  {
   "cell_type": "code",
   "execution_count": null,
   "metadata": {
    "collapsed": true
   },
   "outputs": [],
   "source": [
    "from Modules.Mod1B1_phenotype_similarity import PhenotypeSimilarity\n",
    "\n",
    "# Phenotypic simulatiry using OwlSim calculation threshold\n",
    "pheno_sim_human = PhenotypeSimilarity()\n",
    "Mod1B_results = similarity( pheno_sim_human, input_curie_set, 0.50, input_disease_symbol, 'Mod1B', \"Phenotypically Similar Genes\" )\n",
    "\n",
    "Mod1B_results"
   ]
  },
  {
   "cell_type": "markdown",
   "metadata": {},
   "source": [
    "# Mod1E Protein Interaction"
   ]
  },
  {
   "cell_type": "code",
   "execution_count": null,
   "metadata": {},
   "outputs": [],
   "source": [
    "def gene_interactions( model, data, input_disease_symbol, module, title ):\n",
    "    \n",
    "    # Initialize\n",
    "    load_genes(model,data,None)\n",
    "        \n",
    "    results = model.get_interactions()\n",
    "    \n",
    "    results_table = pd.DataFrame(results)\n",
    "    \n",
    "    counts = results_table['hit_symbol'].value_counts().rename_axis('unique_values').to_frame('counts').reset_index()\n",
    "    high_counts = counts[counts['counts'] > 12]['unique_values'].tolist()\n",
    "    \n",
    "    final_results_table = pd.DataFrame(result_tables[result_tables['hit_symbol'].isin(high_counts)])\n",
    "    \n",
    "    final_results_table['module'] = module\n",
    "    \n",
    "    # save the gene list to a file under the \"Tidbit\" subdirectory\n",
    "    output = output_file(input_disease_symbol,title,\"html\")\n",
    "    dump_html(output,final_results_table.head())\n",
    "    output.close()\n",
    "    \n",
    "    return final_results_table"
   ]
  },
  {
   "cell_type": "markdown",
   "metadata": {},
   "source": [
    "# Find Interacting Genes\n",
    "## Mod1E Human"
   ]
  },
  {
   "cell_type": "code",
   "execution_count": null,
   "metadata": {
    "collapsed": true
   },
   "outputs": [],
   "source": [
    "from Modules.Mod1E_interactions import GeneInteractions\n",
    "\n",
    "interactions_human = GeneInteractions()\n",
    "Mod1E_results = gene_interactions( interactions_human, input_curie_set, input_disease_symbol, 'Mod1E', \"Gene Interactions\" )\n",
    "\n",
    "# Echo to console\n",
    "Mod1E_results.head()  "
   ]
  },
  {
   "cell_type": "markdown",
   "metadata": {},
   "source": [
    "# Publish Aggregate Results"
   ]
  },
  {
   "cell_type": "code",
   "execution_count": null,
   "metadata": {
    "collapsed": true
   },
   "outputs": [],
   "source": [
    "from Modules.StandardOutput import StandardOutput\n",
    "\n",
    "def aggregrate_results(resultsA,resultsB):\n",
    "    all_results = pd.concat([resultsA,resultsB])    \n",
    "    so = StandardOutput(results=all_results.to_dict(orient='records'), input_object=input_object)\n",
    "    return so.output_object\n",
    "\n",
    "std_api_response_json = aggregrate_results(Mod1A_results_human, Mod1B_results)\n",
    "\n",
    "# Echo to console\n",
    "std_api_response_json"
   ]
  },
  {
   "cell_type": "code",
   "execution_count": null,
   "metadata": {},
   "outputs": [],
   "source": [
    "import requests\n",
    "\n",
    "def file_index( output, input_disease_symbol, input_disease_mondo, rtx_ui_url ):\n",
    "    \n",
    "    title = \"Results for \"+input_disease_symbol+\"[\"+input_disease_mondo+\"]\n",
    "    \n",
    "    doc = XHTML()\n",
    "    \n",
    "    doc.head.title(title)\n",
    "    doc.body.h1(title)\n",
    "    ul = body.ul\n",
    "    ul.li.a(\"Input Disease Details\",        href=\"Definition.json\")\n",
    "    ul.li.a(\"Disease Associated Genes\",     href=\"Disease_Associated_Genes.html\")\n",
    "    ul.li.a(\"Functionally Similar Genes\",   href=\"Functionally_Similar_Genes.html\")\n",
    "    ul.li.a(\"Phenotypically Similar Genes\", href=\"Phenotypically_Similar_Genes.html\")\n",
    "    ul.li.a(\"Gene Interactions\",            href=\"Gene_Interactions.html\")\n",
    "    doc.body.p.a(\"RTX UI Display of Details\",           href=\"https://rtx.ncats.io/?r=%s\" % rtx_ui_url.json()['response_id'])\n",
    "    doc.body.p.a(\"Reasoner API formatted JSON results\", href=\"https://rtx.ncats.io/api/rtx/v1/response/%s\" % rtx_ui_url.json()['response_id'])  \n",
    "\n",
    "    output.write(doc)\n",
    "\n",
    "def publish_to_rtx( output, std_api_response_json, input_disease_symbol, title ):\n",
    "    \n",
    "    # get the URL for these results displayed in the RTX UI\n",
    "    RTX_UI_REQUEST_URL = \"https://rtx.ncats.io/api/rtx/v1/response/process\"\n",
    "    to_post = {\"options\": [\"Store\", \"ReturnResponseId\"], \"responses\": [std_api_response_json]}\n",
    "    rtx_ui_url = requests.post(RTX_UI_REQUEST_URL, json=to_post)\n",
    "    \n",
    "    # Write out a master index web page\n",
    "    output = output_file(input_disease_symbol,\"index\",\"html\")\n",
    "    write_file_index( output, rtx_ui_url )\n",
    "    output.close()\n",
    "    \n",
    "    return rtx_ui_url\n",
    "\n",
    "rtx_ui_url = publish_to_rtx(std_api_response_json)\n",
    "\n",
    "print(\"Please visit the following website: https://rtx.ncats.io/?r=%s\" % rtx_ui_url.json()['response_id'])\n",
    "print(\"Please visit the following link to retrieve JSON results: https://rtx.ncats.io/api/rtx/v1/response/%s\" % rtx_ui_url.json()['response_id'])"
   ]
  },
  {
   "cell_type": "code",
   "execution_count": null,
   "metadata": {},
   "outputs": [],
   "source": [
    "# Read a table of diseases and process\n",
    "with open(\"diseases.tsv\",\"r\") as diseases:\n",
    "    for entry in diseases.readlines():\n",
    "        field = entry.split(\"\\t\")\n",
    "        continue if field[1] == \"Disease\"\n",
    "        \n",
    "        input_disease_symbol = field[1]\n",
    "        input_disease_mondo  = field[3]\n",
    "        \n",
    "        # process\n",
    "        input_object, disease_associated_genes, input_curie_set = diseaseLookUp(input_disease_symbol, input_disease_mondo)\n",
    "        \n",
    "        # Functinoal Simularity using Jaccard index threshold\n",
    "        func_sim_human = FunctionalSimilarity()\n",
    "        Mod1A_results = similarity( func_sim_human, input_curie_set, 0.75, input_disease_symbol, 'Mod1A', \"Functionally Similar Genes\" )\n",
    "\n",
    "        # Phenotypic simulatiry using OwlSim calculation threshold\n",
    "        pheno_sim_human = PhenotypeSimilarity()\n",
    "        Mod1B_results = similarity( pheno_sim_human, input_curie_set, 0.50, input_disease_symbol, 'Mod1B', \"Phenotypically Similar Genes\" )\n",
    "\n",
    "        # Find Interacting Genes\n",
    "        interactions_human = GeneInteractions()\n",
    "        Mod1E_results = gene_interactions( interactions_human, input_curie_set, input_disease_symbol, 'Mod1E', \"Gene Interactions\" )\n",
    "        \n",
    "        std_api_response_json = aggregrate_results(Mod1A_results, Mod1B_results)\n",
    "        publish_to_rtx( output, input_disease_symbol, input_disease_mondo, std_api_response_json )"
   ]
  }
 ],
 "metadata": {
  "kernelspec": {
   "display_name": "Python 3",
   "language": "python",
   "name": "python3"
  },
  "language_info": {
   "codemirror_mode": {
    "name": "ipython",
    "version": 3
   },
   "file_extension": ".py",
   "mimetype": "text/x-python",
   "name": "python",
   "nbconvert_exporter": "python",
   "pygments_lexer": "ipython3",
   "version": "3.7.1"
  }
 },
 "nbformat": 4,
 "nbformat_minor": 2
}
