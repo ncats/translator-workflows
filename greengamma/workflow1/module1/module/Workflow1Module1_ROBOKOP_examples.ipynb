{
 "cells": [
  {
   "cell_type": "markdown",
   "metadata": {
    "deletable": true,
    "editable": true
   },
   "source": [
    "# Workflow 1, Module 1 (condition similarity)"
   ]
  },
  {
   "cell_type": "code",
   "execution_count": 1,
   "metadata": {
    "collapsed": true,
    "deletable": true,
    "editable": true
   },
   "outputs": [],
   "source": [
    "#To make nicer looking outputs\n",
    "from IPython.core.display import display, HTML\n",
    "import requests\n",
    "\n",
    "#Load some functions for parsing quick output\n",
    "import os\n",
    "import sys\n",
    "module_path = os.path.abspath(os.path.join('../../..'))\n",
    "if module_path not in sys.path:\n",
    "    sys.path.append(module_path)\n",
    "from gg_functions import parse_answer, get_view_url\n",
    "\n",
    "robokop='robokop.renci.org'"
   ]
  },
  {
   "cell_type": "code",
   "execution_count": 2,
   "metadata": {
    "collapsed": true,
    "deletable": true,
    "editable": true
   },
   "outputs": [],
   "source": [
    "common_diseases = [\n",
    "(\"MONDO:0005578\",\"arthritis\"),\n",
    "(\"MONDO:0005148\",\"type 2 diabetes mellitus\"),\n",
    "(\"MONDO:0002406\",\"dermatitis\"),\n",
    "(\"MONDO:0008383\",\"rheumatoid arthritis\"),\n",
    "(\"MONDO:0005359\",\"drug-induced liver injury\"),\n",
    "(\"MONDO:0006573\",\"lipodystrophy (disease)\"),\n",
    "(\"MONDO:0008226\",\"aggressive periodontitis\"),\n",
    "(\"MONDO:0001627\",\"dementia\"),\n",
    "(\"MONDO:0005265\",\"inflammatory bowel disease\"),\n",
    "(\"MONDO:0004979\",\"asthma\"),\n",
    "(\"MONDO:0005298\",\"osteoporosis\"),\n",
    "(\"MONDO:0006932\",\"pulmonary edema\"),\n",
    "(\"MONDO:0005180\",\"Parkinson disease\"),\n",
    "(\"MONDO:0006658\",\"arteriolosclerosis\"),\n",
    "(\"MONDO:0005090\",\"schizophrenia\"),\n",
    "(\"MONDO:0005152\",\"hypopituitarism\"),\n",
    "(\"MONDO:0001835\",\"facial paralysis\"),\n",
    "(\"MONDO:0001824\",\"polyneuropathy\"),\n",
    "(\"MONDO:0005301\",\"multiple sclerosis\"),\n",
    "(\"MONDO:0006644\",\"alcoholic liver cirrhosis\")\n",
    "]"
   ]
  },
  {
   "cell_type": "code",
   "execution_count": 3,
   "metadata": {
    "collapsed": false,
    "deletable": true,
    "editable": true,
    "scrolled": false
   },
   "outputs": [
    {
     "data": {
      "text/html": [
       "<h3>arthritis</h3>"
      ],
      "text/plain": [
       "<IPython.core.display.HTML object>"
      ]
     },
     "metadata": {},
     "output_type": "display_data"
    },
    {
     "data": {
      "text/html": [
       "<div>\n",
       "<style>\n",
       "    .dataframe thead tr:only-child th {\n",
       "        text-align: right;\n",
       "    }\n",
       "\n",
       "    .dataframe thead th {\n",
       "        text-align: left;\n",
       "    }\n",
       "\n",
       "    .dataframe tbody tr th {\n",
       "        vertical-align: top;\n",
       "    }\n",
       "</style>\n",
       "<table border=\"1\" class=\"dataframe\">\n",
       "  <thead>\n",
       "    <tr style=\"text-align: right;\">\n",
       "      <th></th>\n",
       "      <th>n2 - id</th>\n",
       "      <th>n2 - name</th>\n",
       "      <th>score</th>\n",
       "    </tr>\n",
       "  </thead>\n",
       "  <tbody>\n",
       "    <tr>\n",
       "      <th>0</th>\n",
       "      <td>MONDO:0015789</td>\n",
       "      <td>non-acquired combined pituitary hormone defici...</td>\n",
       "      <td>39.085538</td>\n",
       "    </tr>\n",
       "    <tr>\n",
       "      <th>1</th>\n",
       "      <td>MONDO:0015891</td>\n",
       "      <td>hypogonadotropic hypogonadism associated with ...</td>\n",
       "      <td>38.773406</td>\n",
       "    </tr>\n",
       "    <tr>\n",
       "      <th>2</th>\n",
       "      <td>MONDO:0009693</td>\n",
       "      <td>multiple myeloma</td>\n",
       "      <td>38.380178</td>\n",
       "    </tr>\n",
       "    <tr>\n",
       "      <th>3</th>\n",
       "      <td>MONDO:0010602</td>\n",
       "      <td>hemophilia A</td>\n",
       "      <td>38.133402</td>\n",
       "    </tr>\n",
       "    <tr>\n",
       "      <th>4</th>\n",
       "      <td>MONDO:0015973</td>\n",
       "      <td>rare genetic coagulation disorder</td>\n",
       "      <td>32.022307</td>\n",
       "    </tr>\n",
       "  </tbody>\n",
       "</table>\n",
       "</div>"
      ],
      "text/plain": [
       "        n2 - id                                          n2 - name       score\n",
       "0  MONDO:0015789  non-acquired combined pituitary hormone defici...  39.085538\n",
       "1  MONDO:0015891  hypogonadotropic hypogonadism associated with ...  38.773406\n",
       "2  MONDO:0009693                                   multiple myeloma  38.380178\n",
       "3  MONDO:0010602                                       hemophilia A  38.133402\n",
       "4  MONDO:0015973                  rare genetic coagulation disorder  32.022307"
      ]
     },
     "metadata": {},
     "output_type": "display_data"
    },
    {
     "data": {
      "text/html": [
       "<a href=http://robokop.renci.org/simple/view/5a99ff30-bda6-4528-b5bd-7bfc7af34024>View Answer in ROBOKOP</a>"
      ],
      "text/plain": [
       "<IPython.core.display.HTML object>"
      ]
     },
     "metadata": {},
     "output_type": "display_data"
    },
    {
     "data": {
      "text/html": [
       "<h3>type 2 diabetes mellitus</h3>"
      ],
      "text/plain": [
       "<IPython.core.display.HTML object>"
      ]
     },
     "metadata": {},
     "output_type": "display_data"
    },
    {
     "data": {
      "text/html": [
       "<div>\n",
       "<style>\n",
       "    .dataframe thead tr:only-child th {\n",
       "        text-align: right;\n",
       "    }\n",
       "\n",
       "    .dataframe thead th {\n",
       "        text-align: left;\n",
       "    }\n",
       "\n",
       "    .dataframe tbody tr th {\n",
       "        vertical-align: top;\n",
       "    }\n",
       "</style>\n",
       "<table border=\"1\" class=\"dataframe\">\n",
       "  <thead>\n",
       "    <tr style=\"text-align: right;\">\n",
       "      <th></th>\n",
       "      <th>n2 - id</th>\n",
       "      <th>n2 - name</th>\n",
       "      <th>score</th>\n",
       "    </tr>\n",
       "  </thead>\n",
       "  <tbody>\n",
       "    <tr>\n",
       "      <th>0</th>\n",
       "      <td>MONDO:0011565</td>\n",
       "      <td>metabolic syndrome X</td>\n",
       "      <td>57.508989</td>\n",
       "    </tr>\n",
       "    <tr>\n",
       "      <th>1</th>\n",
       "      <td>MONDO:0011382</td>\n",
       "      <td>sickle cell anemia</td>\n",
       "      <td>36.194567</td>\n",
       "    </tr>\n",
       "    <tr>\n",
       "      <th>2</th>\n",
       "      <td>MONDO:0009693</td>\n",
       "      <td>multiple myeloma</td>\n",
       "      <td>34.576429</td>\n",
       "    </tr>\n",
       "    <tr>\n",
       "      <th>3</th>\n",
       "      <td>MONDO:0009061</td>\n",
       "      <td>cystic fibrosis</td>\n",
       "      <td>32.139963</td>\n",
       "    </tr>\n",
       "    <tr>\n",
       "      <th>4</th>\n",
       "      <td>MONDO:0002413</td>\n",
       "      <td>glycogen storage disease I</td>\n",
       "      <td>28.325185</td>\n",
       "    </tr>\n",
       "  </tbody>\n",
       "</table>\n",
       "</div>"
      ],
      "text/plain": [
       "        n2 - id                   n2 - name       score\n",
       "0  MONDO:0011565        metabolic syndrome X  57.508989\n",
       "1  MONDO:0011382          sickle cell anemia  36.194567\n",
       "2  MONDO:0009693            multiple myeloma  34.576429\n",
       "3  MONDO:0009061             cystic fibrosis  32.139963\n",
       "4  MONDO:0002413  glycogen storage disease I  28.325185"
      ]
     },
     "metadata": {},
     "output_type": "display_data"
    },
    {
     "data": {
      "text/html": [
       "<a href=http://robokop.renci.org/simple/view/e063fabf-9ce2-49cc-a454-ddd83d8f2195>View Answer in ROBOKOP</a>"
      ],
      "text/plain": [
       "<IPython.core.display.HTML object>"
      ]
     },
     "metadata": {},
     "output_type": "display_data"
    },
    {
     "data": {
      "text/html": [
       "<h3>dermatitis</h3>"
      ],
      "text/plain": [
       "<IPython.core.display.HTML object>"
      ]
     },
     "metadata": {},
     "output_type": "display_data"
    },
    {
     "data": {
      "text/html": [
       "<div>\n",
       "<style>\n",
       "    .dataframe thead tr:only-child th {\n",
       "        text-align: right;\n",
       "    }\n",
       "\n",
       "    .dataframe thead th {\n",
       "        text-align: left;\n",
       "    }\n",
       "\n",
       "    .dataframe tbody tr th {\n",
       "        vertical-align: top;\n",
       "    }\n",
       "</style>\n",
       "<table border=\"1\" class=\"dataframe\">\n",
       "  <thead>\n",
       "    <tr style=\"text-align: right;\">\n",
       "      <th></th>\n",
       "      <th>n2 - id</th>\n",
       "      <th>n2 - name</th>\n",
       "      <th>score</th>\n",
       "    </tr>\n",
       "  </thead>\n",
       "  <tbody>\n",
       "    <tr>\n",
       "      <th>0</th>\n",
       "      <td>MONDO:0015891</td>\n",
       "      <td>hypogonadotropic hypogonadism associated with ...</td>\n",
       "      <td>38.529796</td>\n",
       "    </tr>\n",
       "    <tr>\n",
       "      <th>1</th>\n",
       "      <td>MONDO:0015789</td>\n",
       "      <td>non-acquired combined pituitary hormone defici...</td>\n",
       "      <td>37.911959</td>\n",
       "    </tr>\n",
       "    <tr>\n",
       "      <th>2</th>\n",
       "      <td>MONDO:0015135</td>\n",
       "      <td>primary immunodeficiency due to a genetic defe...</td>\n",
       "      <td>37.857168</td>\n",
       "    </tr>\n",
       "    <tr>\n",
       "      <th>3</th>\n",
       "      <td>MONDO:0020192</td>\n",
       "      <td>rare lacrimal system disease</td>\n",
       "      <td>37.848070</td>\n",
       "    </tr>\n",
       "    <tr>\n",
       "      <th>4</th>\n",
       "      <td>MONDO:0019743</td>\n",
       "      <td>nephropathy secondary to a storage or other me...</td>\n",
       "      <td>35.979801</td>\n",
       "    </tr>\n",
       "  </tbody>\n",
       "</table>\n",
       "</div>"
      ],
      "text/plain": [
       "        n2 - id                                          n2 - name       score\n",
       "0  MONDO:0015891  hypogonadotropic hypogonadism associated with ...  38.529796\n",
       "1  MONDO:0015789  non-acquired combined pituitary hormone defici...  37.911959\n",
       "2  MONDO:0015135  primary immunodeficiency due to a genetic defe...  37.857168\n",
       "3  MONDO:0020192                       rare lacrimal system disease  37.848070\n",
       "4  MONDO:0019743  nephropathy secondary to a storage or other me...  35.979801"
      ]
     },
     "metadata": {},
     "output_type": "display_data"
    },
    {
     "data": {
      "text/html": [
       "<a href=http://robokop.renci.org/simple/view/68e84d56-c7db-4815-ab94-0d4b18c4a73e>View Answer in ROBOKOP</a>"
      ],
      "text/plain": [
       "<IPython.core.display.HTML object>"
      ]
     },
     "metadata": {},
     "output_type": "display_data"
    },
    {
     "data": {
      "text/html": [
       "<h3>rheumatoid arthritis</h3>"
      ],
      "text/plain": [
       "<IPython.core.display.HTML object>"
      ]
     },
     "metadata": {},
     "output_type": "display_data"
    },
    {
     "data": {
      "text/html": [
       "<div>\n",
       "<style>\n",
       "    .dataframe thead tr:only-child th {\n",
       "        text-align: right;\n",
       "    }\n",
       "\n",
       "    .dataframe thead th {\n",
       "        text-align: left;\n",
       "    }\n",
       "\n",
       "    .dataframe tbody tr th {\n",
       "        vertical-align: top;\n",
       "    }\n",
       "</style>\n",
       "<table border=\"1\" class=\"dataframe\">\n",
       "  <thead>\n",
       "    <tr style=\"text-align: right;\">\n",
       "      <th></th>\n",
       "      <th>n2 - id</th>\n",
       "      <th>n2 - name</th>\n",
       "      <th>score</th>\n",
       "    </tr>\n",
       "  </thead>\n",
       "  <tbody>\n",
       "    <tr>\n",
       "      <th>0</th>\n",
       "      <td>MONDO:0009693</td>\n",
       "      <td>multiple myeloma</td>\n",
       "      <td>40.030462</td>\n",
       "    </tr>\n",
       "    <tr>\n",
       "      <th>1</th>\n",
       "      <td>MONDO:0010602</td>\n",
       "      <td>hemophilia A</td>\n",
       "      <td>31.507744</td>\n",
       "    </tr>\n",
       "    <tr>\n",
       "      <th>2</th>\n",
       "      <td>MONDO:0008364</td>\n",
       "      <td>Raynaud disease</td>\n",
       "      <td>30.826464</td>\n",
       "    </tr>\n",
       "    <tr>\n",
       "      <th>3</th>\n",
       "      <td>MONDO:0009061</td>\n",
       "      <td>cystic fibrosis</td>\n",
       "      <td>29.260801</td>\n",
       "    </tr>\n",
       "    <tr>\n",
       "      <th>4</th>\n",
       "      <td>MONDO:0015977</td>\n",
       "      <td>agammaglobulinemia</td>\n",
       "      <td>29.099676</td>\n",
       "    </tr>\n",
       "  </tbody>\n",
       "</table>\n",
       "</div>"
      ],
      "text/plain": [
       "        n2 - id           n2 - name       score\n",
       "0  MONDO:0009693    multiple myeloma  40.030462\n",
       "1  MONDO:0010602        hemophilia A  31.507744\n",
       "2  MONDO:0008364     Raynaud disease  30.826464\n",
       "3  MONDO:0009061     cystic fibrosis  29.260801\n",
       "4  MONDO:0015977  agammaglobulinemia  29.099676"
      ]
     },
     "metadata": {},
     "output_type": "display_data"
    },
    {
     "data": {
      "text/html": [
       "<a href=http://robokop.renci.org/simple/view/39077d1d-e4d7-4686-acbf-0a4a04529a7b>View Answer in ROBOKOP</a>"
      ],
      "text/plain": [
       "<IPython.core.display.HTML object>"
      ]
     },
     "metadata": {},
     "output_type": "display_data"
    },
    {
     "data": {
      "text/html": [
       "<h3>drug-induced liver injury</h3>"
      ],
      "text/plain": [
       "<IPython.core.display.HTML object>"
      ]
     },
     "metadata": {},
     "output_type": "display_data"
    },
    {
     "data": {
      "text/html": [
       "<div>\n",
       "<style>\n",
       "    .dataframe thead tr:only-child th {\n",
       "        text-align: right;\n",
       "    }\n",
       "\n",
       "    .dataframe thead th {\n",
       "        text-align: left;\n",
       "    }\n",
       "\n",
       "    .dataframe tbody tr th {\n",
       "        vertical-align: top;\n",
       "    }\n",
       "</style>\n",
       "<table border=\"1\" class=\"dataframe\">\n",
       "  <thead>\n",
       "    <tr style=\"text-align: right;\">\n",
       "      <th></th>\n",
       "      <th>n2 - id</th>\n",
       "      <th>n2 - name</th>\n",
       "      <th>score</th>\n",
       "    </tr>\n",
       "  </thead>\n",
       "  <tbody>\n",
       "    <tr>\n",
       "      <th>0</th>\n",
       "      <td>MONDO:0009693</td>\n",
       "      <td>multiple myeloma</td>\n",
       "      <td>31.080972</td>\n",
       "    </tr>\n",
       "    <tr>\n",
       "      <th>1</th>\n",
       "      <td>MONDO:0011382</td>\n",
       "      <td>sickle cell anemia</td>\n",
       "      <td>27.638266</td>\n",
       "    </tr>\n",
       "    <tr>\n",
       "      <th>2</th>\n",
       "      <td>MONDO:0006507</td>\n",
       "      <td>hereditary hemochromatosis</td>\n",
       "      <td>27.542584</td>\n",
       "    </tr>\n",
       "    <tr>\n",
       "      <th>3</th>\n",
       "      <td>MONDO:0002413</td>\n",
       "      <td>glycogen storage disease I</td>\n",
       "      <td>24.111196</td>\n",
       "    </tr>\n",
       "    <tr>\n",
       "      <th>4</th>\n",
       "      <td>MONDO:0002408</td>\n",
       "      <td>bilirubin metabolic disorder</td>\n",
       "      <td>23.716608</td>\n",
       "    </tr>\n",
       "  </tbody>\n",
       "</table>\n",
       "</div>"
      ],
      "text/plain": [
       "        n2 - id                     n2 - name       score\n",
       "0  MONDO:0009693              multiple myeloma  31.080972\n",
       "1  MONDO:0011382            sickle cell anemia  27.638266\n",
       "2  MONDO:0006507    hereditary hemochromatosis  27.542584\n",
       "3  MONDO:0002413    glycogen storage disease I  24.111196\n",
       "4  MONDO:0002408  bilirubin metabolic disorder  23.716608"
      ]
     },
     "metadata": {},
     "output_type": "display_data"
    },
    {
     "data": {
      "text/html": [
       "<a href=http://robokop.renci.org/simple/view/3a58df40-5d4c-4299-8193-ec5473de204c>View Answer in ROBOKOP</a>"
      ],
      "text/plain": [
       "<IPython.core.display.HTML object>"
      ]
     },
     "metadata": {},
     "output_type": "display_data"
    },
    {
     "data": {
      "text/html": [
       "<h3>lipodystrophy (disease)</h3>"
      ],
      "text/plain": [
       "<IPython.core.display.HTML object>"
      ]
     },
     "metadata": {},
     "output_type": "display_data"
    },
    {
     "data": {
      "text/html": [
       "<div>\n",
       "<style>\n",
       "    .dataframe thead tr:only-child th {\n",
       "        text-align: right;\n",
       "    }\n",
       "\n",
       "    .dataframe thead th {\n",
       "        text-align: left;\n",
       "    }\n",
       "\n",
       "    .dataframe tbody tr th {\n",
       "        vertical-align: top;\n",
       "    }\n",
       "</style>\n",
       "<table border=\"1\" class=\"dataframe\">\n",
       "  <thead>\n",
       "    <tr style=\"text-align: right;\">\n",
       "      <th></th>\n",
       "      <th>n2 - id</th>\n",
       "      <th>n2 - name</th>\n",
       "      <th>score</th>\n",
       "    </tr>\n",
       "  </thead>\n",
       "  <tbody>\n",
       "    <tr>\n",
       "      <th>0</th>\n",
       "      <td>MONDO:0015949</td>\n",
       "      <td>rare genetic subcutaneous tissue disorder</td>\n",
       "      <td>56.702831</td>\n",
       "    </tr>\n",
       "    <tr>\n",
       "      <th>1</th>\n",
       "      <td>MONDO:0019599</td>\n",
       "      <td>primary lipodystrophy</td>\n",
       "      <td>56.669926</td>\n",
       "    </tr>\n",
       "    <tr>\n",
       "      <th>2</th>\n",
       "      <td>MONDO:0020087</td>\n",
       "      <td>genetic lipodystrophy</td>\n",
       "      <td>54.447182</td>\n",
       "    </tr>\n",
       "    <tr>\n",
       "      <th>3</th>\n",
       "      <td>MONDO:0019303</td>\n",
       "      <td>premature aging</td>\n",
       "      <td>34.958910</td>\n",
       "    </tr>\n",
       "    <tr>\n",
       "      <th>4</th>\n",
       "      <td>MONDO:0021106</td>\n",
       "      <td>laminopathy</td>\n",
       "      <td>32.765960</td>\n",
       "    </tr>\n",
       "  </tbody>\n",
       "</table>\n",
       "</div>"
      ],
      "text/plain": [
       "        n2 - id                                  n2 - name       score\n",
       "0  MONDO:0015949  rare genetic subcutaneous tissue disorder  56.702831\n",
       "1  MONDO:0019599                      primary lipodystrophy  56.669926\n",
       "2  MONDO:0020087                      genetic lipodystrophy  54.447182\n",
       "3  MONDO:0019303                            premature aging  34.958910\n",
       "4  MONDO:0021106                                laminopathy  32.765960"
      ]
     },
     "metadata": {},
     "output_type": "display_data"
    },
    {
     "data": {
      "text/html": [
       "<a href=http://robokop.renci.org/simple/view/b2ea070e-865b-472b-8a81-1289a5f006b5>View Answer in ROBOKOP</a>"
      ],
      "text/plain": [
       "<IPython.core.display.HTML object>"
      ]
     },
     "metadata": {},
     "output_type": "display_data"
    },
    {
     "data": {
      "text/html": [
       "<h3>aggressive periodontitis</h3>"
      ],
      "text/plain": [
       "<IPython.core.display.HTML object>"
      ]
     },
     "metadata": {},
     "output_type": "display_data"
    },
    {
     "data": {
      "text/html": [
       "<div>\n",
       "<style>\n",
       "    .dataframe thead tr:only-child th {\n",
       "        text-align: right;\n",
       "    }\n",
       "\n",
       "    .dataframe thead th {\n",
       "        text-align: left;\n",
       "    }\n",
       "\n",
       "    .dataframe tbody tr th {\n",
       "        vertical-align: top;\n",
       "    }\n",
       "</style>\n",
       "<table border=\"1\" class=\"dataframe\">\n",
       "  <thead>\n",
       "    <tr style=\"text-align: right;\">\n",
       "      <th></th>\n",
       "      <th>n2 - id</th>\n",
       "      <th>n2 - name</th>\n",
       "      <th>score</th>\n",
       "    </tr>\n",
       "  </thead>\n",
       "  <tbody>\n",
       "    <tr>\n",
       "      <th>0</th>\n",
       "      <td>MONDO:0008226</td>\n",
       "      <td>aggressive periodontitis</td>\n",
       "      <td>12.516143</td>\n",
       "    </tr>\n",
       "    <tr>\n",
       "      <th>1</th>\n",
       "      <td>MONDO:0009490</td>\n",
       "      <td>Papillon-Lefevre disease</td>\n",
       "      <td>8.083064</td>\n",
       "    </tr>\n",
       "    <tr>\n",
       "      <th>2</th>\n",
       "      <td>MONDO:0010002</td>\n",
       "      <td>Rothmund-Thomson syndrome</td>\n",
       "      <td>7.271703</td>\n",
       "    </tr>\n",
       "    <tr>\n",
       "      <th>3</th>\n",
       "      <td>MONDO:0008007</td>\n",
       "      <td>tooth ankylosis</td>\n",
       "      <td>5.011891</td>\n",
       "    </tr>\n",
       "    <tr>\n",
       "      <th>4</th>\n",
       "      <td>MONDO:0015135</td>\n",
       "      <td>primary immunodeficiency due to a genetic defe...</td>\n",
       "      <td>4.978870</td>\n",
       "    </tr>\n",
       "  </tbody>\n",
       "</table>\n",
       "</div>"
      ],
      "text/plain": [
       "        n2 - id                                          n2 - name       score\n",
       "0  MONDO:0008226                           aggressive periodontitis  12.516143\n",
       "1  MONDO:0009490                           Papillon-Lefevre disease   8.083064\n",
       "2  MONDO:0010002                          Rothmund-Thomson syndrome   7.271703\n",
       "3  MONDO:0008007                                    tooth ankylosis   5.011891\n",
       "4  MONDO:0015135  primary immunodeficiency due to a genetic defe...   4.978870"
      ]
     },
     "metadata": {},
     "output_type": "display_data"
    },
    {
     "data": {
      "text/html": [
       "<a href=http://robokop.renci.org/simple/view/616bd16e-a745-4bd7-b35d-ee8b7d7a4c26>View Answer in ROBOKOP</a>"
      ],
      "text/plain": [
       "<IPython.core.display.HTML object>"
      ]
     },
     "metadata": {},
     "output_type": "display_data"
    },
    {
     "data": {
      "text/html": [
       "<h3>dementia</h3>"
      ],
      "text/plain": [
       "<IPython.core.display.HTML object>"
      ]
     },
     "metadata": {},
     "output_type": "display_data"
    },
    {
     "data": {
      "text/html": [
       "<div>\n",
       "<style>\n",
       "    .dataframe thead tr:only-child th {\n",
       "        text-align: right;\n",
       "    }\n",
       "\n",
       "    .dataframe thead th {\n",
       "        text-align: left;\n",
       "    }\n",
       "\n",
       "    .dataframe tbody tr th {\n",
       "        vertical-align: top;\n",
       "    }\n",
       "</style>\n",
       "<table border=\"1\" class=\"dataframe\">\n",
       "  <thead>\n",
       "    <tr style=\"text-align: right;\">\n",
       "      <th></th>\n",
       "      <th>n2 - id</th>\n",
       "      <th>n2 - name</th>\n",
       "      <th>score</th>\n",
       "    </tr>\n",
       "  </thead>\n",
       "  <tbody>\n",
       "    <tr>\n",
       "      <th>0</th>\n",
       "      <td>MONDO:0020142</td>\n",
       "      <td>metabolic disease with dementia</td>\n",
       "      <td>105.194786</td>\n",
       "    </tr>\n",
       "    <tr>\n",
       "      <th>1</th>\n",
       "      <td>MONDO:0015244</td>\n",
       "      <td>autosomal recessive cerebellar ataxia</td>\n",
       "      <td>100.532550</td>\n",
       "    </tr>\n",
       "    <tr>\n",
       "      <th>2</th>\n",
       "      <td>MONDO:0020139</td>\n",
       "      <td>early-onset ataxia with dementia</td>\n",
       "      <td>98.807442</td>\n",
       "    </tr>\n",
       "    <tr>\n",
       "      <th>3</th>\n",
       "      <td>MONDO:0016397</td>\n",
       "      <td>lysosomal disease with epilepsy</td>\n",
       "      <td>58.007847</td>\n",
       "    </tr>\n",
       "    <tr>\n",
       "      <th>4</th>\n",
       "      <td>MONDO:0019255</td>\n",
       "      <td>sphingolipidosis</td>\n",
       "      <td>56.601739</td>\n",
       "    </tr>\n",
       "  </tbody>\n",
       "</table>\n",
       "</div>"
      ],
      "text/plain": [
       "        n2 - id                              n2 - name        score\n",
       "0  MONDO:0020142        metabolic disease with dementia  105.194786\n",
       "1  MONDO:0015244  autosomal recessive cerebellar ataxia  100.532550\n",
       "2  MONDO:0020139       early-onset ataxia with dementia   98.807442\n",
       "3  MONDO:0016397        lysosomal disease with epilepsy   58.007847\n",
       "4  MONDO:0019255                       sphingolipidosis   56.601739"
      ]
     },
     "metadata": {},
     "output_type": "display_data"
    },
    {
     "data": {
      "text/html": [
       "<a href=http://robokop.renci.org/simple/view/6005bf2c-5141-4b33-8098-4027099fd835>View Answer in ROBOKOP</a>"
      ],
      "text/plain": [
       "<IPython.core.display.HTML object>"
      ]
     },
     "metadata": {},
     "output_type": "display_data"
    },
    {
     "data": {
      "text/html": [
       "<h3>inflammatory bowel disease</h3>"
      ],
      "text/plain": [
       "<IPython.core.display.HTML object>"
      ]
     },
     "metadata": {},
     "output_type": "display_data"
    },
    {
     "data": {
      "text/html": [
       "<div>\n",
       "<style>\n",
       "    .dataframe thead tr:only-child th {\n",
       "        text-align: right;\n",
       "    }\n",
       "\n",
       "    .dataframe thead th {\n",
       "        text-align: left;\n",
       "    }\n",
       "\n",
       "    .dataframe tbody tr th {\n",
       "        vertical-align: top;\n",
       "    }\n",
       "</style>\n",
       "<table border=\"1\" class=\"dataframe\">\n",
       "  <thead>\n",
       "    <tr style=\"text-align: right;\">\n",
       "      <th></th>\n",
       "      <th>n2 - id</th>\n",
       "      <th>n2 - name</th>\n",
       "      <th>score</th>\n",
       "    </tr>\n",
       "  </thead>\n",
       "  <tbody>\n",
       "    <tr>\n",
       "      <th>0</th>\n",
       "      <td>MONDO:0015135</td>\n",
       "      <td>primary immunodeficiency due to a genetic defe...</td>\n",
       "      <td>24.691495</td>\n",
       "    </tr>\n",
       "    <tr>\n",
       "      <th>1</th>\n",
       "      <td>MONDO:0018305</td>\n",
       "      <td>chronic granulomatous disease</td>\n",
       "      <td>23.419838</td>\n",
       "    </tr>\n",
       "    <tr>\n",
       "      <th>2</th>\n",
       "      <td>MONDO:0015133</td>\n",
       "      <td>quantitative and/or qualitative congenital pha...</td>\n",
       "      <td>20.245068</td>\n",
       "    </tr>\n",
       "    <tr>\n",
       "      <th>3</th>\n",
       "      <td>MONDO:0015978</td>\n",
       "      <td>functional neutrophil defect</td>\n",
       "      <td>19.748066</td>\n",
       "    </tr>\n",
       "    <tr>\n",
       "      <th>4</th>\n",
       "      <td>MONDO:0015973</td>\n",
       "      <td>rare genetic coagulation disorder</td>\n",
       "      <td>17.218170</td>\n",
       "    </tr>\n",
       "  </tbody>\n",
       "</table>\n",
       "</div>"
      ],
      "text/plain": [
       "        n2 - id                                          n2 - name       score\n",
       "0  MONDO:0015135  primary immunodeficiency due to a genetic defe...  24.691495\n",
       "1  MONDO:0018305                      chronic granulomatous disease  23.419838\n",
       "2  MONDO:0015133  quantitative and/or qualitative congenital pha...  20.245068\n",
       "3  MONDO:0015978                       functional neutrophil defect  19.748066\n",
       "4  MONDO:0015973                  rare genetic coagulation disorder  17.218170"
      ]
     },
     "metadata": {},
     "output_type": "display_data"
    },
    {
     "data": {
      "text/html": [
       "<a href=http://robokop.renci.org/simple/view/54c3ebd9-9cbf-48ce-9c7a-04c9fdf5c759>View Answer in ROBOKOP</a>"
      ],
      "text/plain": [
       "<IPython.core.display.HTML object>"
      ]
     },
     "metadata": {},
     "output_type": "display_data"
    },
    {
     "data": {
      "text/html": [
       "<h3>asthma</h3>"
      ],
      "text/plain": [
       "<IPython.core.display.HTML object>"
      ]
     },
     "metadata": {},
     "output_type": "display_data"
    },
    {
     "data": {
      "text/html": [
       "<div>\n",
       "<style>\n",
       "    .dataframe thead tr:only-child th {\n",
       "        text-align: right;\n",
       "    }\n",
       "\n",
       "    .dataframe thead th {\n",
       "        text-align: left;\n",
       "    }\n",
       "\n",
       "    .dataframe tbody tr th {\n",
       "        vertical-align: top;\n",
       "    }\n",
       "</style>\n",
       "<table border=\"1\" class=\"dataframe\">\n",
       "  <thead>\n",
       "    <tr style=\"text-align: right;\">\n",
       "      <th></th>\n",
       "      <th>n2 - id</th>\n",
       "      <th>n2 - name</th>\n",
       "      <th>score</th>\n",
       "    </tr>\n",
       "  </thead>\n",
       "  <tbody>\n",
       "    <tr>\n",
       "      <th>0</th>\n",
       "      <td>MONDO:0009061</td>\n",
       "      <td>cystic fibrosis</td>\n",
       "      <td>29.826465</td>\n",
       "    </tr>\n",
       "    <tr>\n",
       "      <th>1</th>\n",
       "      <td>MONDO:0015977</td>\n",
       "      <td>agammaglobulinemia</td>\n",
       "      <td>19.849952</td>\n",
       "    </tr>\n",
       "    <tr>\n",
       "      <th>2</th>\n",
       "      <td>MONDO:0011382</td>\n",
       "      <td>sickle cell anemia</td>\n",
       "      <td>19.316353</td>\n",
       "    </tr>\n",
       "    <tr>\n",
       "      <th>3</th>\n",
       "      <td>MONDO:0010086</td>\n",
       "      <td>sudden infant death syndrome</td>\n",
       "      <td>18.861209</td>\n",
       "    </tr>\n",
       "    <tr>\n",
       "      <th>4</th>\n",
       "      <td>MONDO:0007186</td>\n",
       "      <td>gastroesophageal reflux disease</td>\n",
       "      <td>18.840881</td>\n",
       "    </tr>\n",
       "  </tbody>\n",
       "</table>\n",
       "</div>"
      ],
      "text/plain": [
       "        n2 - id                        n2 - name       score\n",
       "0  MONDO:0009061                  cystic fibrosis  29.826465\n",
       "1  MONDO:0015977               agammaglobulinemia  19.849952\n",
       "2  MONDO:0011382               sickle cell anemia  19.316353\n",
       "3  MONDO:0010086     sudden infant death syndrome  18.861209\n",
       "4  MONDO:0007186  gastroesophageal reflux disease  18.840881"
      ]
     },
     "metadata": {},
     "output_type": "display_data"
    },
    {
     "data": {
      "text/html": [
       "<a href=http://robokop.renci.org/simple/view/2f9ea590-5594-4a99-90ef-188693629d6f>View Answer in ROBOKOP</a>"
      ],
      "text/plain": [
       "<IPython.core.display.HTML object>"
      ]
     },
     "metadata": {},
     "output_type": "display_data"
    },
    {
     "data": {
      "text/html": [
       "<h3>osteoporosis</h3>"
      ],
      "text/plain": [
       "<IPython.core.display.HTML object>"
      ]
     },
     "metadata": {},
     "output_type": "display_data"
    },
    {
     "data": {
      "text/html": [
       "<div>\n",
       "<style>\n",
       "    .dataframe thead tr:only-child th {\n",
       "        text-align: right;\n",
       "    }\n",
       "\n",
       "    .dataframe thead th {\n",
       "        text-align: left;\n",
       "    }\n",
       "\n",
       "    .dataframe tbody tr th {\n",
       "        vertical-align: top;\n",
       "    }\n",
       "</style>\n",
       "<table border=\"1\" class=\"dataframe\">\n",
       "  <thead>\n",
       "    <tr style=\"text-align: right;\">\n",
       "      <th></th>\n",
       "      <th>n2 - id</th>\n",
       "      <th>n2 - name</th>\n",
       "      <th>score</th>\n",
       "    </tr>\n",
       "  </thead>\n",
       "  <tbody>\n",
       "    <tr>\n",
       "      <th>0</th>\n",
       "      <td>MONDO:0009693</td>\n",
       "      <td>multiple myeloma</td>\n",
       "      <td>31.056421</td>\n",
       "    </tr>\n",
       "    <tr>\n",
       "      <th>1</th>\n",
       "      <td>MONDO:0009061</td>\n",
       "      <td>cystic fibrosis</td>\n",
       "      <td>28.788893</td>\n",
       "    </tr>\n",
       "    <tr>\n",
       "      <th>2</th>\n",
       "      <td>MONDO:0019499</td>\n",
       "      <td>Turner syndrome</td>\n",
       "      <td>27.570500</td>\n",
       "    </tr>\n",
       "    <tr>\n",
       "      <th>3</th>\n",
       "      <td>MONDO:0011382</td>\n",
       "      <td>sickle cell anemia</td>\n",
       "      <td>26.554086</td>\n",
       "    </tr>\n",
       "    <tr>\n",
       "      <th>4</th>\n",
       "      <td>MONDO:0019402</td>\n",
       "      <td>beta thalassemia</td>\n",
       "      <td>26.052664</td>\n",
       "    </tr>\n",
       "  </tbody>\n",
       "</table>\n",
       "</div>"
      ],
      "text/plain": [
       "        n2 - id           n2 - name       score\n",
       "0  MONDO:0009693    multiple myeloma  31.056421\n",
       "1  MONDO:0009061     cystic fibrosis  28.788893\n",
       "2  MONDO:0019499     Turner syndrome  27.570500\n",
       "3  MONDO:0011382  sickle cell anemia  26.554086\n",
       "4  MONDO:0019402    beta thalassemia  26.052664"
      ]
     },
     "metadata": {},
     "output_type": "display_data"
    },
    {
     "data": {
      "text/html": [
       "<a href=http://robokop.renci.org/simple/view/8c8826d1-9570-4f04-87c3-9225c47ed79f>View Answer in ROBOKOP</a>"
      ],
      "text/plain": [
       "<IPython.core.display.HTML object>"
      ]
     },
     "metadata": {},
     "output_type": "display_data"
    },
    {
     "data": {
      "text/html": [
       "<h3>pulmonary edema</h3>"
      ],
      "text/plain": [
       "<IPython.core.display.HTML object>"
      ]
     },
     "metadata": {},
     "output_type": "display_data"
    },
    {
     "data": {
      "text/html": [
       "<div>\n",
       "<style>\n",
       "    .dataframe thead tr:only-child th {\n",
       "        text-align: right;\n",
       "    }\n",
       "\n",
       "    .dataframe thead th {\n",
       "        text-align: left;\n",
       "    }\n",
       "\n",
       "    .dataframe tbody tr th {\n",
       "        vertical-align: top;\n",
       "    }\n",
       "</style>\n",
       "<table border=\"1\" class=\"dataframe\">\n",
       "  <thead>\n",
       "    <tr style=\"text-align: right;\">\n",
       "      <th></th>\n",
       "      <th>n2 - id</th>\n",
       "      <th>n2 - name</th>\n",
       "      <th>score</th>\n",
       "    </tr>\n",
       "  </thead>\n",
       "  <tbody>\n",
       "    <tr>\n",
       "      <th>0</th>\n",
       "      <td>MONDO:0011382</td>\n",
       "      <td>sickle cell anemia</td>\n",
       "      <td>26.148519</td>\n",
       "    </tr>\n",
       "    <tr>\n",
       "      <th>1</th>\n",
       "      <td>MONDO:0009061</td>\n",
       "      <td>cystic fibrosis</td>\n",
       "      <td>25.502478</td>\n",
       "    </tr>\n",
       "    <tr>\n",
       "      <th>2</th>\n",
       "      <td>MONDO:0009971</td>\n",
       "      <td>newborn respiratory distress syndrome</td>\n",
       "      <td>20.246464</td>\n",
       "    </tr>\n",
       "    <tr>\n",
       "      <th>3</th>\n",
       "      <td>MONDO:0011827</td>\n",
       "      <td>patent ductus arteriosus</td>\n",
       "      <td>19.030919</td>\n",
       "    </tr>\n",
       "    <tr>\n",
       "      <th>4</th>\n",
       "      <td>MONDO:0008364</td>\n",
       "      <td>Raynaud disease</td>\n",
       "      <td>17.130614</td>\n",
       "    </tr>\n",
       "  </tbody>\n",
       "</table>\n",
       "</div>"
      ],
      "text/plain": [
       "        n2 - id                              n2 - name       score\n",
       "0  MONDO:0011382                     sickle cell anemia  26.148519\n",
       "1  MONDO:0009061                        cystic fibrosis  25.502478\n",
       "2  MONDO:0009971  newborn respiratory distress syndrome  20.246464\n",
       "3  MONDO:0011827               patent ductus arteriosus  19.030919\n",
       "4  MONDO:0008364                        Raynaud disease  17.130614"
      ]
     },
     "metadata": {},
     "output_type": "display_data"
    },
    {
     "data": {
      "text/html": [
       "<a href=http://robokop.renci.org/simple/view/39794132-ec11-470d-b2b7-e04f1a9b7901>View Answer in ROBOKOP</a>"
      ],
      "text/plain": [
       "<IPython.core.display.HTML object>"
      ]
     },
     "metadata": {},
     "output_type": "display_data"
    },
    {
     "data": {
      "text/html": [
       "<h3>Parkinson disease</h3>"
      ],
      "text/plain": [
       "<IPython.core.display.HTML object>"
      ]
     },
     "metadata": {},
     "output_type": "display_data"
    },
    {
     "data": {
      "text/html": [
       "<div>\n",
       "<style>\n",
       "    .dataframe thead tr:only-child th {\n",
       "        text-align: right;\n",
       "    }\n",
       "\n",
       "    .dataframe thead th {\n",
       "        text-align: left;\n",
       "    }\n",
       "\n",
       "    .dataframe tbody tr th {\n",
       "        vertical-align: top;\n",
       "    }\n",
       "</style>\n",
       "<table border=\"1\" class=\"dataframe\">\n",
       "  <thead>\n",
       "    <tr style=\"text-align: right;\">\n",
       "      <th></th>\n",
       "      <th>n2 - id</th>\n",
       "      <th>n2 - name</th>\n",
       "      <th>score</th>\n",
       "    </tr>\n",
       "  </thead>\n",
       "  <tbody>\n",
       "    <tr>\n",
       "      <th>0</th>\n",
       "      <td>MONDO:0019037</td>\n",
       "      <td>progressive supranuclear palsy</td>\n",
       "      <td>15.718797</td>\n",
       "    </tr>\n",
       "    <tr>\n",
       "      <th>1</th>\n",
       "      <td>MONDO:0007182</td>\n",
       "      <td>Machado-Joseph disease</td>\n",
       "      <td>13.928159</td>\n",
       "    </tr>\n",
       "    <tr>\n",
       "      <th>2</th>\n",
       "      <td>MONDO:0007739</td>\n",
       "      <td>Huntington's disease</td>\n",
       "      <td>13.806922</td>\n",
       "    </tr>\n",
       "    <tr>\n",
       "      <th>3</th>\n",
       "      <td>MONDO:0020380</td>\n",
       "      <td>autosomal dominant cerebellar ataxia</td>\n",
       "      <td>13.733921</td>\n",
       "    </tr>\n",
       "    <tr>\n",
       "      <th>4</th>\n",
       "      <td>MONDO:0016295</td>\n",
       "      <td>neuronal ceroid lipofuscinosis</td>\n",
       "      <td>13.069742</td>\n",
       "    </tr>\n",
       "  </tbody>\n",
       "</table>\n",
       "</div>"
      ],
      "text/plain": [
       "        n2 - id                             n2 - name       score\n",
       "0  MONDO:0019037        progressive supranuclear palsy  15.718797\n",
       "1  MONDO:0007182                Machado-Joseph disease  13.928159\n",
       "2  MONDO:0007739                  Huntington's disease  13.806922\n",
       "3  MONDO:0020380  autosomal dominant cerebellar ataxia  13.733921\n",
       "4  MONDO:0016295        neuronal ceroid lipofuscinosis  13.069742"
      ]
     },
     "metadata": {},
     "output_type": "display_data"
    },
    {
     "data": {
      "text/html": [
       "<a href=http://robokop.renci.org/simple/view/0cdb7b34-a6cd-4cd5-85f9-6e006be2e625>View Answer in ROBOKOP</a>"
      ],
      "text/plain": [
       "<IPython.core.display.HTML object>"
      ]
     },
     "metadata": {},
     "output_type": "display_data"
    },
    {
     "data": {
      "text/html": [
       "<h3>arteriolosclerosis</h3>"
      ],
      "text/plain": [
       "<IPython.core.display.HTML object>"
      ]
     },
     "metadata": {},
     "output_type": "display_data"
    },
    {
     "data": {
      "text/html": [
       "<div>\n",
       "<style>\n",
       "    .dataframe thead tr:only-child th {\n",
       "        text-align: right;\n",
       "    }\n",
       "\n",
       "    .dataframe thead th {\n",
       "        text-align: left;\n",
       "    }\n",
       "\n",
       "    .dataframe tbody tr th {\n",
       "        vertical-align: top;\n",
       "    }\n",
       "</style>\n",
       "<table border=\"1\" class=\"dataframe\">\n",
       "  <thead>\n",
       "    <tr style=\"text-align: right;\">\n",
       "      <th></th>\n",
       "      <th>n2 - id</th>\n",
       "      <th>n2 - name</th>\n",
       "      <th>score</th>\n",
       "    </tr>\n",
       "  </thead>\n",
       "  <tbody>\n",
       "    <tr>\n",
       "      <th>0</th>\n",
       "      <td>MONDO:0011382</td>\n",
       "      <td>sickle cell anemia</td>\n",
       "      <td>10.312115</td>\n",
       "    </tr>\n",
       "    <tr>\n",
       "      <th>1</th>\n",
       "      <td>MONDO:0011565</td>\n",
       "      <td>metabolic syndrome X</td>\n",
       "      <td>9.189836</td>\n",
       "    </tr>\n",
       "    <tr>\n",
       "      <th>2</th>\n",
       "      <td>MONDO:0009693</td>\n",
       "      <td>multiple myeloma</td>\n",
       "      <td>8.690221</td>\n",
       "    </tr>\n",
       "    <tr>\n",
       "      <th>3</th>\n",
       "      <td>MONDO:0002413</td>\n",
       "      <td>glycogen storage disease I</td>\n",
       "      <td>8.632319</td>\n",
       "    </tr>\n",
       "    <tr>\n",
       "      <th>4</th>\n",
       "      <td>MONDO:0001083</td>\n",
       "      <td>Fanconi syndrome</td>\n",
       "      <td>8.194327</td>\n",
       "    </tr>\n",
       "  </tbody>\n",
       "</table>\n",
       "</div>"
      ],
      "text/plain": [
       "        n2 - id                   n2 - name       score\n",
       "0  MONDO:0011382          sickle cell anemia  10.312115\n",
       "1  MONDO:0011565        metabolic syndrome X   9.189836\n",
       "2  MONDO:0009693            multiple myeloma   8.690221\n",
       "3  MONDO:0002413  glycogen storage disease I   8.632319\n",
       "4  MONDO:0001083            Fanconi syndrome   8.194327"
      ]
     },
     "metadata": {},
     "output_type": "display_data"
    },
    {
     "data": {
      "text/html": [
       "<a href=http://robokop.renci.org/simple/view/892d3b7b-da62-413f-a1a6-fa334675dd46>View Answer in ROBOKOP</a>"
      ],
      "text/plain": [
       "<IPython.core.display.HTML object>"
      ]
     },
     "metadata": {},
     "output_type": "display_data"
    },
    {
     "data": {
      "text/html": [
       "<h3>schizophrenia</h3>"
      ],
      "text/plain": [
       "<IPython.core.display.HTML object>"
      ]
     },
     "metadata": {},
     "output_type": "display_data"
    },
    {
     "data": {
      "text/html": [
       "<div>\n",
       "<style>\n",
       "    .dataframe thead tr:only-child th {\n",
       "        text-align: right;\n",
       "    }\n",
       "\n",
       "    .dataframe thead th {\n",
       "        text-align: left;\n",
       "    }\n",
       "\n",
       "    .dataframe tbody tr th {\n",
       "        vertical-align: top;\n",
       "    }\n",
       "</style>\n",
       "<table border=\"1\" class=\"dataframe\">\n",
       "  <thead>\n",
       "    <tr style=\"text-align: right;\">\n",
       "      <th></th>\n",
       "      <th>n2 - id</th>\n",
       "      <th>n2 - name</th>\n",
       "      <th>score</th>\n",
       "    </tr>\n",
       "  </thead>\n",
       "  <tbody>\n",
       "    <tr>\n",
       "      <th>0</th>\n",
       "      <td>MONDO:0012048</td>\n",
       "      <td>endogenous depression</td>\n",
       "      <td>3.383244</td>\n",
       "    </tr>\n",
       "    <tr>\n",
       "      <th>1</th>\n",
       "      <td>MONDO:0007089</td>\n",
       "      <td>Alzheimer's disease 2</td>\n",
       "      <td>2.777867</td>\n",
       "    </tr>\n",
       "    <tr>\n",
       "      <th>2</th>\n",
       "      <td>MONDO:0015650</td>\n",
       "      <td>epilepsy syndrome</td>\n",
       "      <td>2.390178</td>\n",
       "    </tr>\n",
       "    <tr>\n",
       "      <th>3</th>\n",
       "      <td>MONDO:0007661</td>\n",
       "      <td>Tourette syndrome</td>\n",
       "      <td>2.340015</td>\n",
       "    </tr>\n",
       "    <tr>\n",
       "      <th>4</th>\n",
       "      <td>MONDO:0020142</td>\n",
       "      <td>metabolic disease with dementia</td>\n",
       "      <td>2.300050</td>\n",
       "    </tr>\n",
       "  </tbody>\n",
       "</table>\n",
       "</div>"
      ],
      "text/plain": [
       "        n2 - id                        n2 - name      score\n",
       "0  MONDO:0012048            endogenous depression  3.383244\n",
       "1  MONDO:0007089            Alzheimer's disease 2  2.777867\n",
       "2  MONDO:0015650                epilepsy syndrome  2.390178\n",
       "3  MONDO:0007661                Tourette syndrome  2.340015\n",
       "4  MONDO:0020142  metabolic disease with dementia  2.300050"
      ]
     },
     "metadata": {},
     "output_type": "display_data"
    },
    {
     "data": {
      "text/html": [
       "<a href=http://robokop.renci.org/simple/view/cc95e748-52ff-4564-abd1-cf355be36d63>View Answer in ROBOKOP</a>"
      ],
      "text/plain": [
       "<IPython.core.display.HTML object>"
      ]
     },
     "metadata": {},
     "output_type": "display_data"
    },
    {
     "data": {
      "text/html": [
       "<h3>hypopituitarism</h3>"
      ],
      "text/plain": [
       "<IPython.core.display.HTML object>"
      ]
     },
     "metadata": {},
     "output_type": "display_data"
    },
    {
     "data": {
      "text/html": [
       "<div>\n",
       "<style>\n",
       "    .dataframe thead tr:only-child th {\n",
       "        text-align: right;\n",
       "    }\n",
       "\n",
       "    .dataframe thead th {\n",
       "        text-align: left;\n",
       "    }\n",
       "\n",
       "    .dataframe tbody tr th {\n",
       "        vertical-align: top;\n",
       "    }\n",
       "</style>\n",
       "<table border=\"1\" class=\"dataframe\">\n",
       "  <thead>\n",
       "    <tr style=\"text-align: right;\">\n",
       "      <th></th>\n",
       "      <th>n2 - id</th>\n",
       "      <th>n2 - name</th>\n",
       "      <th>score</th>\n",
       "    </tr>\n",
       "  </thead>\n",
       "  <tbody>\n",
       "    <tr>\n",
       "      <th>0</th>\n",
       "      <td>MONDO:0015789</td>\n",
       "      <td>non-acquired combined pituitary hormone defici...</td>\n",
       "      <td>167.165132</td>\n",
       "    </tr>\n",
       "    <tr>\n",
       "      <th>1</th>\n",
       "      <td>MONDO:0015891</td>\n",
       "      <td>hypogonadotropic hypogonadism associated with ...</td>\n",
       "      <td>165.881352</td>\n",
       "    </tr>\n",
       "    <tr>\n",
       "      <th>2</th>\n",
       "      <td>MONDO:0015981</td>\n",
       "      <td>inherited gynecological tumor</td>\n",
       "      <td>89.301574</td>\n",
       "    </tr>\n",
       "    <tr>\n",
       "      <th>3</th>\n",
       "      <td>MONDO:0003689</td>\n",
       "      <td>congenital hemolytic anemia</td>\n",
       "      <td>46.516708</td>\n",
       "    </tr>\n",
       "    <tr>\n",
       "      <th>4</th>\n",
       "      <td>MONDO:0009693</td>\n",
       "      <td>multiple myeloma</td>\n",
       "      <td>46.269968</td>\n",
       "    </tr>\n",
       "  </tbody>\n",
       "</table>\n",
       "</div>"
      ],
      "text/plain": [
       "        n2 - id                                          n2 - name   \\\n",
       "0  MONDO:0015789  non-acquired combined pituitary hormone defici...   \n",
       "1  MONDO:0015891  hypogonadotropic hypogonadism associated with ...   \n",
       "2  MONDO:0015981                      inherited gynecological tumor   \n",
       "3  MONDO:0003689                        congenital hemolytic anemia   \n",
       "4  MONDO:0009693                                   multiple myeloma   \n",
       "\n",
       "        score  \n",
       "0  167.165132  \n",
       "1  165.881352  \n",
       "2   89.301574  \n",
       "3   46.516708  \n",
       "4   46.269968  "
      ]
     },
     "metadata": {},
     "output_type": "display_data"
    },
    {
     "data": {
      "text/html": [
       "<a href=http://robokop.renci.org/simple/view/01b092bc-c399-490d-a8ba-1be69ff9b8c4>View Answer in ROBOKOP</a>"
      ],
      "text/plain": [
       "<IPython.core.display.HTML object>"
      ]
     },
     "metadata": {},
     "output_type": "display_data"
    },
    {
     "data": {
      "text/html": [
       "<h3>facial paralysis</h3>"
      ],
      "text/plain": [
       "<IPython.core.display.HTML object>"
      ]
     },
     "metadata": {},
     "output_type": "display_data"
    },
    {
     "data": {
      "text/html": [
       "<div>\n",
       "<style>\n",
       "    .dataframe thead tr:only-child th {\n",
       "        text-align: right;\n",
       "    }\n",
       "\n",
       "    .dataframe thead th {\n",
       "        text-align: left;\n",
       "    }\n",
       "\n",
       "    .dataframe tbody tr th {\n",
       "        vertical-align: top;\n",
       "    }\n",
       "</style>\n",
       "<table border=\"1\" class=\"dataframe\">\n",
       "  <thead>\n",
       "    <tr style=\"text-align: right;\">\n",
       "      <th></th>\n",
       "      <th>n2 - id</th>\n",
       "      <th>n2 - name</th>\n",
       "      <th>score</th>\n",
       "    </tr>\n",
       "  </thead>\n",
       "  <tbody>\n",
       "    <tr>\n",
       "      <th>0</th>\n",
       "      <td>MONDO:0007972</td>\n",
       "      <td>Meniere disease</td>\n",
       "      <td>24.564720</td>\n",
       "    </tr>\n",
       "    <tr>\n",
       "      <th>1</th>\n",
       "      <td>MONDO:0007154</td>\n",
       "      <td>arteriovenous malformations of the brain</td>\n",
       "      <td>18.786982</td>\n",
       "    </tr>\n",
       "    <tr>\n",
       "      <th>2</th>\n",
       "      <td>MONDO:0002457</td>\n",
       "      <td>Treacher-Collins syndrome</td>\n",
       "      <td>16.398326</td>\n",
       "    </tr>\n",
       "    <tr>\n",
       "      <th>3</th>\n",
       "      <td>MONDO:0008006</td>\n",
       "      <td>Mobius syndrome</td>\n",
       "      <td>16.218949</td>\n",
       "    </tr>\n",
       "    <tr>\n",
       "      <th>4</th>\n",
       "      <td>MONDO:0021061</td>\n",
       "      <td>neurofibromatosis</td>\n",
       "      <td>15.745450</td>\n",
       "    </tr>\n",
       "  </tbody>\n",
       "</table>\n",
       "</div>"
      ],
      "text/plain": [
       "        n2 - id                                 n2 - name       score\n",
       "0  MONDO:0007972                           Meniere disease  24.564720\n",
       "1  MONDO:0007154  arteriovenous malformations of the brain  18.786982\n",
       "2  MONDO:0002457                 Treacher-Collins syndrome  16.398326\n",
       "3  MONDO:0008006                           Mobius syndrome  16.218949\n",
       "4  MONDO:0021061                         neurofibromatosis  15.745450"
      ]
     },
     "metadata": {},
     "output_type": "display_data"
    },
    {
     "data": {
      "text/html": [
       "<a href=http://robokop.renci.org/simple/view/36cdb770-1873-406a-98d8-230cd991fc97>View Answer in ROBOKOP</a>"
      ],
      "text/plain": [
       "<IPython.core.display.HTML object>"
      ]
     },
     "metadata": {},
     "output_type": "display_data"
    },
    {
     "data": {
      "text/html": [
       "<h3>polyneuropathy</h3>"
      ],
      "text/plain": [
       "<IPython.core.display.HTML object>"
      ]
     },
     "metadata": {},
     "output_type": "display_data"
    },
    {
     "data": {
      "text/html": [
       "<div>\n",
       "<style>\n",
       "    .dataframe thead tr:only-child th {\n",
       "        text-align: right;\n",
       "    }\n",
       "\n",
       "    .dataframe thead th {\n",
       "        text-align: left;\n",
       "    }\n",
       "\n",
       "    .dataframe tbody tr th {\n",
       "        vertical-align: top;\n",
       "    }\n",
       "</style>\n",
       "<table border=\"1\" class=\"dataframe\">\n",
       "  <thead>\n",
       "    <tr style=\"text-align: right;\">\n",
       "      <th></th>\n",
       "      <th>n2 - id</th>\n",
       "      <th>n2 - name</th>\n",
       "      <th>score</th>\n",
       "    </tr>\n",
       "  </thead>\n",
       "  <tbody>\n",
       "    <tr>\n",
       "      <th>0</th>\n",
       "      <td>MONDO:0009637</td>\n",
       "      <td>mitochondrial myopathy</td>\n",
       "      <td>19.224412</td>\n",
       "    </tr>\n",
       "    <tr>\n",
       "      <th>1</th>\n",
       "      <td>MONDO:0008056</td>\n",
       "      <td>myotonic dystrophy type 1</td>\n",
       "      <td>17.917368</td>\n",
       "    </tr>\n",
       "    <tr>\n",
       "      <th>2</th>\n",
       "      <td>MONDO:0015626</td>\n",
       "      <td>Charcot-Marie-tooth disease</td>\n",
       "      <td>17.803261</td>\n",
       "    </tr>\n",
       "    <tr>\n",
       "      <th>3</th>\n",
       "      <td>MONDO:0007275</td>\n",
       "      <td>carpal tunnel syndrome</td>\n",
       "      <td>16.732965</td>\n",
       "    </tr>\n",
       "    <tr>\n",
       "      <th>4</th>\n",
       "      <td>MONDO:0009693</td>\n",
       "      <td>multiple myeloma</td>\n",
       "      <td>15.506461</td>\n",
       "    </tr>\n",
       "  </tbody>\n",
       "</table>\n",
       "</div>"
      ],
      "text/plain": [
       "        n2 - id                    n2 - name       score\n",
       "0  MONDO:0009637       mitochondrial myopathy  19.224412\n",
       "1  MONDO:0008056    myotonic dystrophy type 1  17.917368\n",
       "2  MONDO:0015626  Charcot-Marie-tooth disease  17.803261\n",
       "3  MONDO:0007275       carpal tunnel syndrome  16.732965\n",
       "4  MONDO:0009693             multiple myeloma  15.506461"
      ]
     },
     "metadata": {},
     "output_type": "display_data"
    },
    {
     "data": {
      "text/html": [
       "<a href=http://robokop.renci.org/simple/view/f9c40954-7472-4a12-87a6-de0d0eab0441>View Answer in ROBOKOP</a>"
      ],
      "text/plain": [
       "<IPython.core.display.HTML object>"
      ]
     },
     "metadata": {},
     "output_type": "display_data"
    },
    {
     "data": {
      "text/html": [
       "<h3>multiple sclerosis</h3>"
      ],
      "text/plain": [
       "<IPython.core.display.HTML object>"
      ]
     },
     "metadata": {},
     "output_type": "display_data"
    },
    {
     "data": {
      "text/html": [
       "<div>\n",
       "<style>\n",
       "    .dataframe thead tr:only-child th {\n",
       "        text-align: right;\n",
       "    }\n",
       "\n",
       "    .dataframe thead th {\n",
       "        text-align: left;\n",
       "    }\n",
       "\n",
       "    .dataframe tbody tr th {\n",
       "        vertical-align: top;\n",
       "    }\n",
       "</style>\n",
       "<table border=\"1\" class=\"dataframe\">\n",
       "  <thead>\n",
       "    <tr style=\"text-align: right;\">\n",
       "      <th></th>\n",
       "      <th>n2 - id</th>\n",
       "      <th>n2 - name</th>\n",
       "      <th>score</th>\n",
       "    </tr>\n",
       "  </thead>\n",
       "  <tbody>\n",
       "    <tr>\n",
       "      <th>0</th>\n",
       "      <td>MONDO:0007154</td>\n",
       "      <td>arteriovenous malformations of the brain</td>\n",
       "      <td>26.049284</td>\n",
       "    </tr>\n",
       "    <tr>\n",
       "      <th>1</th>\n",
       "      <td>MONDO:0015891</td>\n",
       "      <td>hypogonadotropic hypogonadism associated with ...</td>\n",
       "      <td>21.594255</td>\n",
       "    </tr>\n",
       "    <tr>\n",
       "      <th>2</th>\n",
       "      <td>MONDO:0015789</td>\n",
       "      <td>non-acquired combined pituitary hormone defici...</td>\n",
       "      <td>21.111941</td>\n",
       "    </tr>\n",
       "    <tr>\n",
       "      <th>3</th>\n",
       "      <td>MONDO:0016021</td>\n",
       "      <td>early infantile epileptic encephalopathy</td>\n",
       "      <td>20.602088</td>\n",
       "    </tr>\n",
       "    <tr>\n",
       "      <th>4</th>\n",
       "      <td>MONDO:0011382</td>\n",
       "      <td>sickle cell anemia</td>\n",
       "      <td>20.538909</td>\n",
       "    </tr>\n",
       "  </tbody>\n",
       "</table>\n",
       "</div>"
      ],
      "text/plain": [
       "        n2 - id                                          n2 - name       score\n",
       "0  MONDO:0007154           arteriovenous malformations of the brain  26.049284\n",
       "1  MONDO:0015891  hypogonadotropic hypogonadism associated with ...  21.594255\n",
       "2  MONDO:0015789  non-acquired combined pituitary hormone defici...  21.111941\n",
       "3  MONDO:0016021           early infantile epileptic encephalopathy  20.602088\n",
       "4  MONDO:0011382                                 sickle cell anemia  20.538909"
      ]
     },
     "metadata": {},
     "output_type": "display_data"
    },
    {
     "data": {
      "text/html": [
       "<a href=http://robokop.renci.org/simple/view/a0bfb911-3b31-460e-b7e6-2ba0039cff44>View Answer in ROBOKOP</a>"
      ],
      "text/plain": [
       "<IPython.core.display.HTML object>"
      ]
     },
     "metadata": {},
     "output_type": "display_data"
    },
    {
     "data": {
      "text/html": [
       "<h3>alcoholic liver cirrhosis</h3>"
      ],
      "text/plain": [
       "<IPython.core.display.HTML object>"
      ]
     },
     "metadata": {},
     "output_type": "display_data"
    },
    {
     "data": {
      "text/html": [
       "<div>\n",
       "<style>\n",
       "    .dataframe thead tr:only-child th {\n",
       "        text-align: right;\n",
       "    }\n",
       "\n",
       "    .dataframe thead th {\n",
       "        text-align: left;\n",
       "    }\n",
       "\n",
       "    .dataframe tbody tr th {\n",
       "        vertical-align: top;\n",
       "    }\n",
       "</style>\n",
       "<table border=\"1\" class=\"dataframe\">\n",
       "  <thead>\n",
       "    <tr style=\"text-align: right;\">\n",
       "      <th></th>\n",
       "      <th>n2 - id</th>\n",
       "      <th>n2 - name</th>\n",
       "      <th>score</th>\n",
       "    </tr>\n",
       "  </thead>\n",
       "  <tbody>\n",
       "    <tr>\n",
       "      <th>0</th>\n",
       "      <td>MONDO:0006507</td>\n",
       "      <td>hereditary hemochromatosis</td>\n",
       "      <td>22.494554</td>\n",
       "    </tr>\n",
       "    <tr>\n",
       "      <th>1</th>\n",
       "      <td>MONDO:0009061</td>\n",
       "      <td>cystic fibrosis</td>\n",
       "      <td>21.043946</td>\n",
       "    </tr>\n",
       "    <tr>\n",
       "      <th>2</th>\n",
       "      <td>MONDO:0002408</td>\n",
       "      <td>bilirubin metabolic disorder</td>\n",
       "      <td>19.809561</td>\n",
       "    </tr>\n",
       "    <tr>\n",
       "      <th>3</th>\n",
       "      <td>MONDO:0018150</td>\n",
       "      <td>Gaucher disease</td>\n",
       "      <td>19.161586</td>\n",
       "    </tr>\n",
       "    <tr>\n",
       "      <th>4</th>\n",
       "      <td>MONDO:0010200</td>\n",
       "      <td>Wilson disease</td>\n",
       "      <td>17.994031</td>\n",
       "    </tr>\n",
       "  </tbody>\n",
       "</table>\n",
       "</div>"
      ],
      "text/plain": [
       "        n2 - id                     n2 - name       score\n",
       "0  MONDO:0006507    hereditary hemochromatosis  22.494554\n",
       "1  MONDO:0009061               cystic fibrosis  21.043946\n",
       "2  MONDO:0002408  bilirubin metabolic disorder  19.809561\n",
       "3  MONDO:0018150               Gaucher disease  19.161586\n",
       "4  MONDO:0010200                Wilson disease  17.994031"
      ]
     },
     "metadata": {},
     "output_type": "display_data"
    },
    {
     "data": {
      "text/html": [
       "<a href=http://robokop.renci.org/simple/view/fce0385e-29f8-45bb-b6bd-36c95aaf6b8e>View Answer in ROBOKOP</a>"
      ],
      "text/plain": [
       "<IPython.core.display.HTML object>"
      ]
     },
     "metadata": {},
     "output_type": "display_data"
    }
   ],
   "source": [
    "#This is the templated query that goes (disease)-(set of phenotypes)-(genetic condition)\n",
    "turl=lambda robokop,disease_id,disease_name: f'http://{robokop}/api/simple/quick/template/wf1mod1/{disease_id}/?name1={disease_name}&max_connectivity=1000'\n",
    "\n",
    "for disease_id, disease_name in common_diseases:\n",
    "    url = turl(robokop,disease_id,disease_name)\n",
    "    display(HTML(f'<h3>{disease_name}</h3>'))\n",
    "    response = requests.get(url)\n",
    "    if response.status_code != 200:\n",
    "        print('Error')\n",
    "        continue\n",
    "    answers=response.json()\n",
    "    answer_frame = parse_answer(answers,node_list=['n2'],edge_list=[])\n",
    "    display(answer_frame.head())\n",
    "    view_url = get_view_url(answers)\n",
    "    display(HTML(f'<a href={view_url}>View Answer in ROBOKOP</a>'))"
   ]
  },
  {
   "cell_type": "code",
   "execution_count": 2,
   "metadata": {
    "collapsed": false,
    "deletable": true,
    "editable": true
   },
   "outputs": [
    {
     "data": {
      "text/html": [
       "<h3>primary pulmonary hypertension</h3>"
      ],
      "text/plain": [
       "<IPython.core.display.HTML object>"
      ]
     },
     "metadata": {},
     "output_type": "display_data"
    },
    {
     "data": {
      "text/html": [
       "<div>\n",
       "<style>\n",
       "    .dataframe thead tr:only-child th {\n",
       "        text-align: right;\n",
       "    }\n",
       "\n",
       "    .dataframe thead th {\n",
       "        text-align: left;\n",
       "    }\n",
       "\n",
       "    .dataframe tbody tr th {\n",
       "        vertical-align: top;\n",
       "    }\n",
       "</style>\n",
       "<table border=\"1\" class=\"dataframe\">\n",
       "  <thead>\n",
       "    <tr style=\"text-align: right;\">\n",
       "      <th></th>\n",
       "      <th>n2 - id</th>\n",
       "      <th>n2 - name</th>\n",
       "      <th>score</th>\n",
       "    </tr>\n",
       "  </thead>\n",
       "  <tbody>\n",
       "    <tr>\n",
       "      <th>0</th>\n",
       "      <td>MONDO:0008347</td>\n",
       "      <td>idiopathic and/or familial pulmonary arterial ...</td>\n",
       "      <td>4.554698</td>\n",
       "    </tr>\n",
       "    <tr>\n",
       "      <th>1</th>\n",
       "      <td>MONDO:0015512</td>\n",
       "      <td>genetic hypertension</td>\n",
       "      <td>3.734768</td>\n",
       "    </tr>\n",
       "    <tr>\n",
       "      <th>2</th>\n",
       "      <td>MONDO:0009937</td>\n",
       "      <td>pulmonary venoocclusive disease</td>\n",
       "      <td>3.340070</td>\n",
       "    </tr>\n",
       "    <tr>\n",
       "      <th>3</th>\n",
       "      <td>MONDO:0006664</td>\n",
       "      <td>atrial heart septal defect</td>\n",
       "      <td>2.846396</td>\n",
       "    </tr>\n",
       "    <tr>\n",
       "      <th>4</th>\n",
       "      <td>MONDO:0009144</td>\n",
       "      <td>Ebstein anomaly</td>\n",
       "      <td>2.844463</td>\n",
       "    </tr>\n",
       "  </tbody>\n",
       "</table>\n",
       "</div>"
      ],
      "text/plain": [
       "         n2 - id                                          n2 - name     score\n",
       "0  MONDO:0008347  idiopathic and/or familial pulmonary arterial ...  4.554698\n",
       "1  MONDO:0015512                               genetic hypertension  3.734768\n",
       "2  MONDO:0009937                    pulmonary venoocclusive disease  3.340070\n",
       "3  MONDO:0006664                         atrial heart septal defect  2.846396\n",
       "4  MONDO:0009144                                    Ebstein anomaly  2.844463"
      ]
     },
     "metadata": {},
     "output_type": "display_data"
    },
    {
     "data": {
      "text/html": [
       "<a href=http://robokop.renci.org/simple/view/21d2d6a0-780b-459e-88bb-ec33a8f0b4aa>View Answer in ROBOKOP</a>"
      ],
      "text/plain": [
       "<IPython.core.display.HTML object>"
      ]
     },
     "metadata": {},
     "output_type": "display_data"
    }
   ],
   "source": [
    "#This is the templated query that goes (disease)-(set of phenotypes)-(genetic condition)\n",
    "turl=lambda robokop,disease_id,disease_name: f'http://{robokop}/api/simple/quick/template/wf1mod1/{disease_id}/?name1={disease_name}&max_connectivity=1000'\n",
    "\n",
    "common_diseases = [('MONDO:0001999','primary pulmonary hypertension')]\n",
    "\n",
    "for disease_id, disease_name in common_diseases:\n",
    "    url = turl(robokop,disease_id,disease_name)\n",
    "    display(HTML(f'<h3>{disease_name}</h3>'))\n",
    "    response = requests.get(url)\n",
    "    if response.status_code != 200:\n",
    "        print('Error')\n",
    "        continue\n",
    "    answers=response.json()\n",
    "    answer_frame = parse_answer(answers,node_list=['n2'],edge_list=[])\n",
    "    display(answer_frame.head())\n",
    "    view_url = get_view_url(answers)\n",
    "    display(HTML(f'<a href={view_url}>View Answer in ROBOKOP</a>'))"
   ]
  },
  {
   "cell_type": "code",
   "execution_count": null,
   "metadata": {
    "collapsed": true
   },
   "outputs": [],
   "source": []
  }
 ],
 "metadata": {
  "kernelspec": {
   "display_name": "Python 3",
   "language": "python",
   "name": "python3"
  },
  "language_info": {
   "codemirror_mode": {
    "name": "ipython",
    "version": 3
   },
   "file_extension": ".py",
   "mimetype": "text/x-python",
   "name": "python",
   "nbconvert_exporter": "python",
   "pygments_lexer": "ipython3",
   "version": "3.6.2"
  }
 },
 "nbformat": 4,
 "nbformat_minor": 2
}
