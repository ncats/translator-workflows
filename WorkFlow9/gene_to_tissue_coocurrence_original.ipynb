{
 "cells": [
  {
   "cell_type": "markdown",
   "metadata": {},
   "source": [
    "# Workflow 9, Gene to Tissue Cooccurence - INCOMPLETE"
   ]
  },
  {
   "cell_type": "code",
   "execution_count": 1,
   "metadata": {},
   "outputs": [],
   "source": [
    "import biclusterco, importlib, asyncio"
   ]
  },
  {
   "cell_type": "code",
   "execution_count": 2,
   "metadata": {},
   "outputs": [],
   "source": [
    "GeneCoocurrenceByBiclusterObject = biclusterco.CoocurrenceByBicluster()"
   ]
  },
  {
   "cell_type": "code",
   "execution_count": 3,
   "metadata": {},
   "outputs": [],
   "source": [
    "#curated_geneset = GeneCoocurrenceByBiclusterObject.run_getinput('https://raw.githubusercontent.com/NCATS-Tangerine/cq-notebooks/master/FA_gene_sets/FA_1_core_complex.txt')"
   ]
  },
  {
   "cell_type": "code",
   "execution_count": 4,
   "metadata": {},
   "outputs": [],
   "source": [
    "curated_geneset = ['ENSG00000187741.10']"
   ]
  },
  {
   "cell_type": "code",
   "execution_count": 5,
   "metadata": {},
   "outputs": [
    {
     "data": {
      "text/plain": [
       "['ENSG00000187741.10']"
      ]
     },
     "execution_count": 5,
     "metadata": {},
     "output_type": "execute_result"
    }
   ],
   "source": [
    "curated_geneset"
   ]
  },
  {
   "cell_type": "code",
   "execution_count": 6,
   "metadata": {},
   "outputs": [],
   "source": [
    "loop = asyncio.get_event_loop()"
   ]
  },
  {
   "cell_type": "code",
   "execution_count": 7,
   "metadata": {},
   "outputs": [],
   "source": [
    "related_biclusters_and_genes_for_each_input_gene = loop.run_until_complete(GeneCoocurrenceByBiclusterObject.gene_to_tissue_biclusters_async(curated_geneset))"
   ]
  },
  {
   "cell_type": "code",
   "execution_count": 8,
   "metadata": {},
   "outputs": [],
   "source": [
    "bicluster_occurences_dict = GeneCoocurrenceByBiclusterObject.bicluster_occurences_dict(related_biclusters_and_genes_for_each_input_gene)"
   ]
  },
  {
   "cell_type": "code",
   "execution_count": 9,
   "metadata": {},
   "outputs": [],
   "source": [
    "unique_biclusters = GeneCoocurrenceByBiclusterObject.unique_biclusters(bicluster_occurences_dict)"
   ]
  },
  {
   "cell_type": "code",
   "execution_count": 10,
   "metadata": {},
   "outputs": [
    {
     "data": {
      "text/plain": [
       "8"
      ]
     },
     "execution_count": 10,
     "metadata": {},
     "output_type": "execute_result"
    }
   ],
   "source": [
    "len(unique_biclusters)"
   ]
  },
  {
   "cell_type": "code",
   "execution_count": 11,
   "metadata": {},
   "outputs": [
    {
     "data": {
      "text/plain": [
       "['166', '267', '453', '480', '653', '962', '978', '1085']"
      ]
     },
     "execution_count": 11,
     "metadata": {},
     "output_type": "execute_result"
    }
   ],
   "source": [
    "unique_biclusters"
   ]
  },
  {
   "cell_type": "code",
   "execution_count": 12,
   "metadata": {},
   "outputs": [],
   "source": [
    "genes_in_unique_biclusters = GeneCoocurrenceByBiclusterObject.genes_in_unique_biclusters(unique_biclusters, related_biclusters_and_genes_for_each_input_gene)"
   ]
  },
  {
   "cell_type": "code",
   "execution_count": 13,
   "metadata": {},
   "outputs": [],
   "source": [
    "dict_of_genes_in_unique_biclusters_not_in_inputs = GeneCoocurrenceByBiclusterObject.genes_in_unique_biclusters_not_in_input_gene_list(curated_geneset, genes_in_unique_biclusters)"
   ]
  },
  {
   "cell_type": "code",
   "execution_count": 14,
   "metadata": {
    "scrolled": true
   },
   "outputs": [
    {
     "data": {
      "text/plain": [
       "defaultdict(dict,\n",
       "            {'MONDO:0006143__UBERON:0002469__MONDO:0010150__UBERON:0002107': 166,\n",
       "             'MONDO:0006256__UBERON:0000310__UBERON:0002107': 109,\n",
       "             'UBERON:0001157__DOID:2526__MONDO:0005036__UBERON:0000995': 163,\n",
       "             'DOID:4006__DOID:234__UBERON:0001157__DOID:1107__UBERON:0004648__DOID:2526__UBERON:0002367__DOID:1996__MONDO:0005036__UBERON:0000945__DOID:0050939': 77,\n",
       "             'DOID:1107__NCIT:C32668__UBERON:0002469__UBERON:0004648__MONDO:0005036': 168,\n",
       "             'DOID:4006__UBERON:0012249__MONDO:0006143__DOID:1107__MONDO:0010150__DOID:3907__UBERON:0001830': 133,\n",
       "             'DOID:4006__UBERON:0012249__MONDO:0006143__MONDO:0010150__UBERON:0001830__DOID:6171': 103,\n",
       "             'MONDO:0006256__UBERON:0012249__MONDO:0010150__DOID:3910__DOID:3907__MONDO:0005036': 129})"
      ]
     },
     "execution_count": 14,
     "metadata": {},
     "output_type": "execute_result"
    }
   ],
   "source": [
    "dict_of_genes_in_unique_biclusters_not_in_inputs"
   ]
  },
  {
   "cell_type": "markdown",
   "metadata": {},
   "source": [
    "## The above is a dictionary which represents the genes, present in uniquely occurring biclusters, for a given set of input genes. The form of the dictionary is {output_gene : # of occurrences of this gene across relevant biclusters}"
   ]
  },
  {
   "cell_type": "markdown",
   "metadata": {},
   "source": [
    "## The above list is truncated by python... Let's find the gene with the most occurrences."
   ]
  },
  {
   "cell_type": "code",
   "execution_count": 8,
   "metadata": {},
   "outputs": [
    {
     "data": {
      "text/plain": [
       "<module 'biclusterco' from '/Users/colincurtis/Documents/renci/translator-workflows/WorkFlow9/biclusterco.py'>"
      ]
     },
     "execution_count": 8,
     "metadata": {},
     "output_type": "execute_result"
    }
   ],
   "source": [
    "importlib.reload(biclusterco) #this is a nice thing or locale module development"
   ]
  },
  {
   "cell_type": "code",
   "execution_count": 15,
   "metadata": {},
   "outputs": [],
   "source": [
    "sorted_list_of_output_genes = GeneCoocurrenceByBiclusterObject.sorted_list_of_output_genes(dict_of_genes_in_unique_biclusters_not_in_inputs)"
   ]
  },
  {
   "cell_type": "code",
   "execution_count": 16,
   "metadata": {},
   "outputs": [
    {
     "data": {
      "text/plain": [
       "[(168,\n",
       "  'DOID:1107__NCIT:C32668__UBERON:0002469__UBERON:0004648__MONDO:0005036'),\n",
       " (166, 'MONDO:0006143__UBERON:0002469__MONDO:0010150__UBERON:0002107'),\n",
       " (163, 'UBERON:0001157__DOID:2526__MONDO:0005036__UBERON:0000995'),\n",
       " (133,\n",
       "  'DOID:4006__UBERON:0012249__MONDO:0006143__DOID:1107__MONDO:0010150__DOID:3907__UBERON:0001830'),\n",
       " (129,\n",
       "  'MONDO:0006256__UBERON:0012249__MONDO:0010150__DOID:3910__DOID:3907__MONDO:0005036'),\n",
       " (109, 'MONDO:0006256__UBERON:0000310__UBERON:0002107'),\n",
       " (103,\n",
       "  'DOID:4006__UBERON:0012249__MONDO:0006143__MONDO:0010150__UBERON:0001830__DOID:6171'),\n",
       " (77,\n",
       "  'DOID:4006__DOID:234__UBERON:0001157__DOID:1107__UBERON:0004648__DOID:2526__UBERON:0002367__DOID:1996__MONDO:0005036__UBERON:0000945__DOID:0050939')]"
      ]
     },
     "execution_count": 16,
     "metadata": {},
     "output_type": "execute_result"
    }
   ],
   "source": [
    "sorted_list_of_output_genes"
   ]
  },
  {
   "cell_type": "code",
   "execution_count": 17,
   "metadata": {},
   "outputs": [
    {
     "data": {
      "text/plain": [
       "8"
      ]
     },
     "execution_count": 17,
     "metadata": {},
     "output_type": "execute_result"
    }
   ],
   "source": [
    "len(sorted_list_of_output_genes)"
   ]
  },
  {
   "cell_type": "code",
   "execution_count": null,
   "metadata": {},
   "outputs": [],
   "source": []
  }
 ],
 "metadata": {
  "kernelspec": {
   "display_name": "Python 3",
   "language": "python",
   "name": "python3"
  },
  "language_info": {
   "codemirror_mode": {
    "name": "ipython",
    "version": 3
   },
   "file_extension": ".py",
   "mimetype": "text/x-python",
   "name": "python",
   "nbconvert_exporter": "python",
   "pygments_lexer": "ipython3",
   "version": "3.7.0"
  }
 },
 "nbformat": 4,
 "nbformat_minor": 2
}
