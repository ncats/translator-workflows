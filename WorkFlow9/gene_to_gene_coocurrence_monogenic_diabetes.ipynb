{
 "cells": [
  {
   "cell_type": "markdown",
   "metadata": {},
   "source": [
    "# Workflow 9: Using MAK (biclusters) to Expand on an Input Monogenic Disease Gene List"
   ]
  },
  {
   "cell_type": "code",
   "execution_count": 1,
   "metadata": {},
   "outputs": [],
   "source": [
    "import bicluster_gene_to_gene, importlib, asyncio"
   ]
  },
  {
   "cell_type": "code",
   "execution_count": 2,
   "metadata": {},
   "outputs": [],
   "source": [
    "### insert a blurb about the coocurrence algorithm"
   ]
  },
  {
   "cell_type": "code",
   "execution_count": 3,
   "metadata": {},
   "outputs": [],
   "source": [
    "### insert a blurb about the MAK algorithm"
   ]
  },
  {
   "cell_type": "code",
   "execution_count": 4,
   "metadata": {},
   "outputs": [],
   "source": [
    "GeneCoocurrenceByBiclusterObject = bicluster_gene_to_gene.CoocurrenceByBicluster()"
   ]
  },
  {
   "cell_type": "code",
   "execution_count": 5,
   "metadata": {},
   "outputs": [],
   "source": [
    "monogenic_diabetes_sensu_strictiore_geneset = GeneCoocurrenceByBiclusterObject.run_getinput('https://raw.githubusercontent.com/ncats/translator-workflows/master/WorkFlow9/monogenic_diabetes_sensu_strictiore_genes_ensg_id_list.txt')"
   ]
  },
  {
   "cell_type": "markdown",
   "metadata": {},
   "source": [
    "## Below is the input monogenic diabetes (sensu strictiore) disease gene set"
   ]
  },
  {
   "cell_type": "code",
   "execution_count": 6,
   "metadata": {},
   "outputs": [
    {
     "data": {
      "text/plain": [
       "['ensg00000006071',\n",
       " 'ensg00000187486',\n",
       " 'ensg00000136573',\n",
       " 'ensg00000254647',\n",
       " 'ensg00000106331',\n",
       " 'ensg00000172059',\n",
       " 'ensg00000275410',\n",
       " 'ensg00000139515',\n",
       " 'ensg00000135100',\n",
       " 'ensg00000106633',\n",
       " 'ensg00000101076']"
      ]
     },
     "execution_count": 6,
     "metadata": {},
     "output_type": "execute_result"
    }
   ],
   "source": [
    "monogenic_diabetes_sensu_strictiore_geneset"
   ]
  },
  {
   "cell_type": "code",
   "execution_count": 7,
   "metadata": {},
   "outputs": [
    {
     "name": "stdout",
     "output_type": "stream",
     "text": [
      "11\n"
     ]
    }
   ],
   "source": [
    "print(len(monogenic_diabetes_sensu_strictiore_geneset)) # the number of input genes"
   ]
  },
  {
   "cell_type": "code",
   "execution_count": 8,
   "metadata": {},
   "outputs": [],
   "source": [
    "loop = asyncio.get_event_loop()"
   ]
  },
  {
   "cell_type": "code",
   "execution_count": 9,
   "metadata": {},
   "outputs": [],
   "source": [
    "related_biclusters_and_genes_for_each_input_gene = loop.run_until_complete(GeneCoocurrenceByBiclusterObject.gene_to_gene_biclusters_async(monogenic_diabetes_sensu_strictiore_geneset))"
   ]
  },
  {
   "cell_type": "code",
   "execution_count": 10,
   "metadata": {},
   "outputs": [],
   "source": [
    "bicluster_occurences_dict = GeneCoocurrenceByBiclusterObject.bicluster_occurences_dict(related_biclusters_and_genes_for_each_input_gene)"
   ]
  },
  {
   "cell_type": "code",
   "execution_count": 11,
   "metadata": {},
   "outputs": [],
   "source": [
    "unique_biclusters = GeneCoocurrenceByBiclusterObject.unique_biclusters(bicluster_occurences_dict)"
   ]
  },
  {
   "cell_type": "code",
   "execution_count": 12,
   "metadata": {},
   "outputs": [
    {
     "data": {
      "text/plain": [
       "35"
      ]
     },
     "execution_count": 12,
     "metadata": {},
     "output_type": "execute_result"
    }
   ],
   "source": [
    "len(unique_biclusters) #Number of biclusters found which contain at least one of the input gene set"
   ]
  },
  {
   "cell_type": "code",
   "execution_count": 13,
   "metadata": {},
   "outputs": [],
   "source": [
    "genes_in_unique_biclusters = GeneCoocurrenceByBiclusterObject.genes_in_unique_biclusters(unique_biclusters, related_biclusters_and_genes_for_each_input_gene)"
   ]
  },
  {
   "cell_type": "code",
   "execution_count": 14,
   "metadata": {},
   "outputs": [],
   "source": [
    "dict_of_genes_in_unique_biclusters_not_in_inputs = GeneCoocurrenceByBiclusterObject.genes_in_unique_biclusters_not_in_input_gene_list(monogenic_diabetes_sensu_strictiore_geneset, genes_in_unique_biclusters)"
   ]
  },
  {
   "cell_type": "code",
   "execution_count": 15,
   "metadata": {},
   "outputs": [],
   "source": [
    "sorted_list_of_output_genes = GeneCoocurrenceByBiclusterObject.sorted_list_of_output_genes(dict_of_genes_in_unique_biclusters_not_in_inputs)"
   ]
  },
  {
   "cell_type": "markdown",
   "metadata": {},
   "source": [
    "## Below is a list of genes found to co-occur with (at least one of) the genes in the input list. They are listed in descending order of bicluster co-occurrence frequency."
   ]
  },
  {
   "cell_type": "code",
   "execution_count": 16,
   "metadata": {},
   "outputs": [],
   "source": [
    "shorter_output_genes = sorted_list_of_output_genes#[:200] #if you want to shorten the list before filtering..."
   ]
  },
  {
   "cell_type": "code",
   "execution_count": 17,
   "metadata": {},
   "outputs": [
    {
     "data": {
      "text/plain": [
       "3154"
      ]
     },
     "execution_count": 17,
     "metadata": {},
     "output_type": "execute_result"
    }
   ],
   "source": [
    "len(shorter_output_genes) #before filtering out the input set, including other versions of input genes"
   ]
  },
  {
   "cell_type": "code",
   "execution_count": 18,
   "metadata": {},
   "outputs": [],
   "source": [
    "while monogenic_diabetes_sensu_strictiore_geneset:\n",
    "    input_gene = monogenic_diabetes_sensu_strictiore_geneset.pop().upper()\n",
    "    for index, value in enumerate(shorter_output_genes): #filtering out other versions of the input genes\n",
    "        if input_gene in value[1]:\n",
    "            del shorter_output_genes[index]\n",
    "            continue"
   ]
  },
  {
   "cell_type": "code",
   "execution_count": 19,
   "metadata": {},
   "outputs": [
    {
     "data": {
      "text/plain": [
       "3146"
      ]
     },
     "execution_count": 19,
     "metadata": {},
     "output_type": "execute_result"
    }
   ],
   "source": [
    "len(shorter_output_genes)"
   ]
  },
  {
   "cell_type": "code",
   "execution_count": 20,
   "metadata": {},
   "outputs": [
    {
     "data": {
      "text/plain": [
       "[(4, 'ENSG00000188822.6'),\n",
       " (4, 'ENSG00000177455.7'),\n",
       " (4, 'ENSG00000156738.13'),\n",
       " (4, 'ENSG00000137075.13'),\n",
       " (4, 'ENSG00000120756.8'),\n",
       " (4, 'ENSG00000095539.11'),\n",
       " (3, 'ENSG00000263264.1'),\n",
       " (3, 'ENSG00000253958.1'),\n",
       " (3, 'ENSG00000240505.4'),\n",
       " (3, 'ENSG00000237289.5'),\n",
       " (3, 'ENSG00000227507.2'),\n",
       " (3, 'ENSG00000226777.3'),\n",
       " (3, 'ENSG00000213413.2'),\n",
       " (3, 'ENSG00000204385.6'),\n",
       " (3, 'ENSG00000198794.7'),\n",
       " (3, 'ENSG00000187912.7'),\n",
       " (3, 'ENSG00000186566.7'),\n",
       " (3, 'ENSG00000186260.12'),\n",
       " (3, 'ENSG00000174123.6'),\n",
       " (3, 'ENSG00000170616.9'),\n",
       " (3, 'ENSG00000165863.12'),\n",
       " (3, 'ENSG00000163788.9'),\n",
       " (3, 'ENSG00000163534.10'),\n",
       " (3, 'ENSG00000160856.16'),\n",
       " (3, 'ENSG00000160460.11'),\n",
       " (3, 'ENSG00000160190.9'),\n",
       " (3, 'ENSG00000158874.7'),\n",
       " (3, 'ENSG00000158321.11'),\n",
       " (3, 'ENSG00000156650.8'),\n",
       " (3, 'ENSG00000150625.12'),\n",
       " (3, 'ENSG00000144583.4'),\n",
       " (3, 'ENSG00000140323.4'),\n",
       " (3, 'ENSG00000139910.15'),\n",
       " (3, 'ENSG00000139194.3'),\n",
       " (3, 'ENSG00000139193.3'),\n",
       " (3, 'ENSG00000138794.5'),\n",
       " (3, 'ENSG00000135469.9'),\n",
       " (3, 'ENSG00000133401.11'),\n",
       " (3, 'ENSG00000133169.5'),\n",
       " (3, 'ENSG00000132872.7'),\n",
       " (3, 'ENSG00000132704.11'),\n",
       " (3, 'ENSG00000125245.8'),\n",
       " (3, 'ENSG00000122224.13'),\n",
       " (3, 'ENSG00000122122.9'),\n",
       " (3, 'ENSG00000119431.5'),\n",
       " (3, 'ENSG00000108830.7'),\n",
       " (3, 'ENSG00000105369.5'),\n",
       " (3, 'ENSG00000105289.10'),\n",
       " (3, 'ENSG00000104894.7'),\n",
       " (3, 'ENSG00000102879.11'),\n",
       " (3, 'ENSG00000091157.9'),\n",
       " (3, 'ENSG00000053328.8'),\n",
       " (3, 'ENSG00000048471.9'),\n",
       " (3, 'ENSG00000023516.7'),\n",
       " (3, 'ENSG00000021574.7'),\n",
       " (3, 'ENSG00000008869.7'),\n",
       " (3, 'ENSG00000007312.8'),\n",
       " (2, 'ENSG00000273047.1'),\n",
       " (2, 'ENSG00000267824.1'),\n",
       " (2, 'ENSG00000262660.1'),\n",
       " (2, 'ENSG00000260903.2'),\n",
       " (2, 'ENSG00000258572.1'),\n",
       " (2, 'ENSG00000243989.3'),\n",
       " (2, 'ENSG00000243244.1'),\n",
       " (2, 'ENSG00000241106.2'),\n",
       " (2, 'ENSG00000240240.4'),\n",
       " (2, 'ENSG00000239961.2'),\n",
       " (2, 'ENSG00000228146.2'),\n",
       " (2, 'ENSG00000226979.4'),\n",
       " (2, 'ENSG00000225526.4'),\n",
       " (2, 'ENSG00000223572.5'),\n",
       " (2, 'ENSG00000222014.4'),\n",
       " (2, 'ENSG00000221946.3'),\n",
       " (2, 'ENSG00000213638.4'),\n",
       " (2, 'ENSG00000213160.5'),\n",
       " (2, 'ENSG00000204852.11'),\n",
       " (2, 'ENSG00000204564.7'),\n",
       " (2, 'ENSG00000204475.5'),\n",
       " (2, 'ENSG00000204219.5'),\n",
       " (2, 'ENSG00000204175.4'),\n",
       " (2, 'ENSG00000204161.9'),\n",
       " (2, 'ENSG00000203965.8'),\n",
       " (2, 'ENSG00000203896.5'),\n",
       " (2, 'ENSG00000198961.5'),\n",
       " (2, 'ENSG00000198947.10'),\n",
       " (2, 'ENSG00000198478.6'),\n",
       " (2, 'ENSG00000198205.5'),\n",
       " (2, 'ENSG00000197948.6'),\n",
       " (2, 'ENSG00000197540.3'),\n",
       " (2, 'ENSG00000197429.6'),\n",
       " (2, 'ENSG00000197283.8'),\n",
       " (2, 'ENSG00000196950.9'),\n",
       " (2, 'ENSG00000196132.7'),\n",
       " (2, 'ENSG00000188987.2'),\n",
       " (2, 'ENSG00000188869.8'),\n",
       " (2, 'ENSG00000188761.7'),\n",
       " (2, 'ENSG00000188522.10'),\n",
       " (2, 'ENSG00000188404.4'),\n",
       " (2, 'ENSG00000187800.9'),\n",
       " (2, 'ENSG00000187492.4')]"
      ]
     },
     "execution_count": 20,
     "metadata": {},
     "output_type": "execute_result"
    }
   ],
   "source": [
    "shorter_output_genes[:100] # the filtered output"
   ]
  },
  {
   "cell_type": "code",
   "execution_count": null,
   "metadata": {},
   "outputs": [],
   "source": []
  }
 ],
 "metadata": {
  "kernelspec": {
   "display_name": "Python 3",
   "language": "python",
   "name": "python3"
  },
  "language_info": {
   "codemirror_mode": {
    "name": "ipython",
    "version": 3
   },
   "file_extension": ".py",
   "mimetype": "text/x-python",
   "name": "python",
   "nbconvert_exporter": "python",
   "pygments_lexer": "ipython3",
   "version": "3.7.0"
  }
 },
 "nbformat": 4,
 "nbformat_minor": 2
}
