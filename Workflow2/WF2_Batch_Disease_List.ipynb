{
 "cells": [
  {
   "cell_type": "markdown",
   "metadata": {},
   "source": [
    "# Batch Execution of Workflow 2 on a TSV List of Diseases\n",
    "\n",
    "The sample 'diseases.tsv' file contains a list of target diseases, where the first and third column are the disease name and  MONDO identifier, respectively. This workflow can read in this file and apply the workflow 2 (MOD0/1A/1B1/1E)."
   ]
  },
  {
   "cell_type": "markdown",
   "metadata": {},
   "source": [
    "# Steps which may best happen before you run the workflow locally\n",
    "* be running python3.6+  (say, in a virtual enviroment)\n",
    "* you will need to have  `pip install jupyter` into the venv.\n",
    "* have cloned this repo using `--recursive`\n",
    "\n",
    "This workflow invokes \"owltools\" (https://github.com/owlcollab/owltools/wiki/Install-OWLTools)\n",
    "which is a 37M Java language tool. This needs has to be installed into a location visible to the Notebook (like ```${HOME}/bin```).  The 0.3.0 release application binary can be used (it is a bash wrapper around a Java JAR but your download tool (e.g. Mac OSX) may inadvertently give it the cryptic file extension '.dms' (No... it is **NOT** an Amiga DMS archive!)  Just rename the file (if necessary) to ```owltools```,  make it executable and move it into a suitable location like ```/anaconda3/bin``` or ```/usr/bin```.\n",
    "\n",
    "Alternately,\n",
    "\n",
    "```curl http://build.berkeleybop.org/userContent/owltools/owltools > ~/bin/owltools && chmod +x /usr/bin/owltools```\n",
    "\n",
    "should do the job."
   ]
  },
  {
   "cell_type": "markdown",
   "metadata": {},
   "source": [
    "# Install Python Dependencies (including the NCATS MVP Module Library)"
   ]
  },
  {
   "cell_type": "code",
   "execution_count": 1,
   "metadata": {},
   "outputs": [
    {
     "name": "stdout",
     "output_type": "stream",
     "text": [
      "Requirement already satisfied: ontobio in /anaconda3/lib/python3.7/site-packages (from -r requirements.txt (line 1)) (1.7.2)\n",
      "Requirement already satisfied: mygene==3.0.0 in /anaconda3/lib/python3.7/site-packages (from -r requirements.txt (line 2)) (3.0.0)\n",
      "Requirement already satisfied: numpy==1.16.1 in /anaconda3/lib/python3.7/site-packages (from -r requirements.txt (line 7)) (1.16.1)\n",
      "Requirement already satisfied: pandas==0.23.4 in /anaconda3/lib/python3.7/site-packages (from -r requirements.txt (line 8)) (0.23.4)\n",
      "Requirement already satisfied: typing>=0.0 in /anaconda3/lib/python3.7/site-packages (from -r requirements.txt (line 10)) (3.6.6)\n",
      "Requirement already satisfied: graphviz in /anaconda3/lib/python3.7/site-packages (from -r requirements.txt (line 11)) (0.10.1)\n",
      "Requirement already satisfied: html3 in /anaconda3/lib/python3.7/site-packages (from -r requirements.txt (line 13)) (1.17)\n",
      "Requirement already satisfied: pyyaml>=4.2b1 in /anaconda3/lib/python3.7/site-packages (from ontobio->-r requirements.txt (line 1)) (4.2b4)\n",
      "Requirement already satisfied: scipy in /anaconda3/lib/python3.7/site-packages (from ontobio->-r requirements.txt (line 1)) (1.2.1)\n",
      "Requirement already satisfied: jsobject in /anaconda3/lib/python3.7/site-packages (from ontobio->-r requirements.txt (line 1)) (0.10.2)\n",
      "Requirement already satisfied: requests in /anaconda3/lib/python3.7/site-packages (from ontobio->-r requirements.txt (line 1)) (2.21.0)\n",
      "Requirement already satisfied: cachier in /anaconda3/lib/python3.7/site-packages (from ontobio->-r requirements.txt (line 1)) (1.2.5)\n",
      "Requirement already satisfied: prefixcommons in /anaconda3/lib/python3.7/site-packages (from ontobio->-r requirements.txt (line 1)) (0.1.7)\n",
      "Requirement already satisfied: yamldown in /anaconda3/lib/python3.7/site-packages (from ontobio->-r requirements.txt (line 1)) (0.1.6)\n",
      "Requirement already satisfied: click in /anaconda3/lib/python3.7/site-packages (from ontobio->-r requirements.txt (line 1)) (7.0)\n",
      "Requirement already satisfied: marshmallow==3.0.0b3 in /anaconda3/lib/python3.7/site-packages (from ontobio->-r requirements.txt (line 1)) (3.0.0b3)\n",
      "Requirement already satisfied: sparqlwrapper in /anaconda3/lib/python3.7/site-packages (from ontobio->-r requirements.txt (line 1)) (1.8.2)\n",
      "Requirement already satisfied: pysolr in /anaconda3/lib/python3.7/site-packages (from ontobio->-r requirements.txt (line 1)) (3.8.1)\n",
      "Requirement already satisfied: networkx==2.2 in /anaconda3/lib/python3.7/site-packages (from ontobio->-r requirements.txt (line 1)) (2.2)\n",
      "Requirement already satisfied: python-dateutil>=2.5.0 in /anaconda3/lib/python3.7/site-packages (from pandas==0.23.4->-r requirements.txt (line 8)) (2.8.0)\n",
      "Requirement already satisfied: pytz>=2011k in /anaconda3/lib/python3.7/site-packages (from pandas==0.23.4->-r requirements.txt (line 8)) (2018.9)\n",
      "Requirement already satisfied: certifi>=2017.4.17 in /anaconda3/lib/python3.7/site-packages (from requests->ontobio->-r requirements.txt (line 1)) (2018.11.29)\n",
      "Requirement already satisfied: urllib3<1.25,>=1.21.1 in /anaconda3/lib/python3.7/site-packages (from requests->ontobio->-r requirements.txt (line 1)) (1.24.1)\n",
      "Requirement already satisfied: idna<2.9,>=2.5 in /anaconda3/lib/python3.7/site-packages (from requests->ontobio->-r requirements.txt (line 1)) (2.8)\n",
      "Requirement already satisfied: chardet<3.1.0,>=3.0.2 in /anaconda3/lib/python3.7/site-packages (from requests->ontobio->-r requirements.txt (line 1)) (3.0.4)\n",
      "Requirement already satisfied: watchdog in /anaconda3/lib/python3.7/site-packages (from cachier->ontobio->-r requirements.txt (line 1)) (0.9.0)\n",
      "Requirement already satisfied: portalocker in /anaconda3/lib/python3.7/site-packages (from cachier->ontobio->-r requirements.txt (line 1)) (1.4.0)\n",
      "Requirement already satisfied: rdflib>=4.0 in /anaconda3/lib/python3.7/site-packages (from sparqlwrapper->ontobio->-r requirements.txt (line 1)) (4.2.2)\n",
      "Requirement already satisfied: decorator>=4.3.0 in /anaconda3/lib/python3.7/site-packages (from networkx==2.2->ontobio->-r requirements.txt (line 1)) (4.3.2)\n",
      "Requirement already satisfied: six>=1.5 in /anaconda3/lib/python3.7/site-packages (from python-dateutil>=2.5.0->pandas==0.23.4->-r requirements.txt (line 8)) (1.12.0)\n",
      "Requirement already satisfied: argh>=0.24.1 in /anaconda3/lib/python3.7/site-packages (from watchdog->cachier->ontobio->-r requirements.txt (line 1)) (0.26.2)\n",
      "Requirement already satisfied: pathtools>=0.1.1 in /anaconda3/lib/python3.7/site-packages (from watchdog->cachier->ontobio->-r requirements.txt (line 1)) (0.1.2)\n",
      "Requirement already satisfied: pyparsing in /anaconda3/lib/python3.7/site-packages (from rdflib>=4.0->sparqlwrapper->ontobio->-r requirements.txt (line 1)) (2.3.1)\n",
      "Requirement already satisfied: isodate in /anaconda3/lib/python3.7/site-packages (from rdflib>=4.0->sparqlwrapper->ontobio->-r requirements.txt (line 1)) (0.6.0)\n"
     ]
    }
   ],
   "source": [
    "import sys\n",
    "import shutil\n",
    "\n",
    "pyptha = sys.executable.split('/')\n",
    "pyptha[-2]= 'lib'\n",
    "pypth='/'.join(pyptha) + '*/site-packages'\n",
    "\n",
    "# Hack to get around problematic updating of distutils installed PyYAML and a slightly older pandas requiring a compatible numpy\n",
    "shutil.rmtree(pypth + '/PyYAML*', ignore_errors=True)\n",
    "shutil.rmtree(pypth + '/numpy*', ignore_errors=True)\n",
    "\n",
    "sys.path.append(\"../mvp-module-library\")\n",
    "# Install pip requirements\n",
    "!{sys.executable} -m pip install -r requirements.txt"
   ]
  },
  {
   "cell_type": "code",
   "execution_count": 2,
   "metadata": {
    "collapsed": true
   },
   "outputs": [],
   "source": [
    "from BioLink.biolink_client import BioLinkWrapper\n",
    "import pandas as pd\n",
    "from os import makedirs\n",
    "from html3.html3 import XHTML"
   ]
  },
  {
   "cell_type": "code",
   "execution_count": 3,
   "metadata": {},
   "outputs": [],
   "source": [
    "def output_file(tag,title,ext):\n",
    "    basepath = \"./Tidbit/\"+tag\n",
    "    filename = title.replace(\" \",\"_\")\n",
    "    filepath = basepath+\"/\"+filename+\".\"+ext\n",
    "    makedirs(basepath,exist_ok=True)\n",
    "    output = open(filepath,\"w+\")\n",
    "    output.info = { 'tag' : tag, 'title' : title }\n",
    "    return output\n",
    "\n",
    "def dump_html(output,body):\n",
    "    title = output.info['title']+\" for \"+output.info['tag']\n",
    "    \n",
    "    doc = XHTML()\n",
    "    \n",
    "    doc.head.title(title)\n",
    "    doc.body.h1(title)\n",
    "    doc.body.p(body.to_html(), escape=False)\n",
    "    \n",
    "    output.write(doc.__str__())"
   ]
  },
  {
   "cell_type": "markdown",
   "metadata": {},
   "source": [
    "# Mod0 Look up Disease Associated Genes"
   ]
  },
  {
   "cell_type": "code",
   "execution_count": 4,
   "metadata": {},
   "outputs": [],
   "source": [
    "from Modules.Mod0_lookups import LookUp\n",
    "\n",
    "def diseaseLookUp(input_disease_symbol, input_disease_mondo):\n",
    "    \n",
    "    # workflow input is a disease identifier\n",
    "    lu = LookUp()\n",
    "    \n",
    "    input_object = {\n",
    "        'input': input_disease_mondo,\n",
    "        'parameters': {\n",
    "            'taxon': 'human',\n",
    "            'threshold': None,\n",
    "        },\n",
    "    }\n",
    "\n",
    "    lu.load_input_object(input_object=input_object)\n",
    "    \n",
    "    # get genes associated with disease from Biolink\n",
    "    disease_associated_genes = lu.disease_geneset_lookup()\n",
    "    \n",
    "    # create list of gene curies for downstream module input\n",
    "    input_curie_set = disease_associated_genes[['hit_id', 'hit_symbol']].to_dict(orient='records')\n",
    "    \n",
    "    # show the disease associated genes\n",
    "    disease_associated_genes['modules'] = 'Mod0'\n",
    "    \n",
    "    # save the seed gene definition and gene list to a \n",
    "    # file under the \"Tidbit/<symbol>\" subdirectory\n",
    "    \n",
    "    output = output_file(input_disease_symbol,\"Definition\",\"json\")\n",
    "    lu.echo_input_object(output)\n",
    "    output.close()\n",
    "    \n",
    "    output = output_file(input_disease_symbol,\"Disease Associated Genes\",\"html\")\n",
    "    dump_html(output,disease_associated_genes)\n",
    "    output.close()\n",
    "    \n",
    "    # genes to investigate\n",
    "    return lu.input_object, disease_associated_genes, input_curie_set\n"
   ]
  },
  {
   "cell_type": "code",
   "execution_count": 5,
   "metadata": {},
   "outputs": [
    {
     "ename": "SSLError",
     "evalue": "HTTPSConnectionPool(host='api.monarchinitiative.org', port=443): Max retries exceeded with url: /api/bioentity/disease/MONDO:0008667/genes?fetch_objects=true (Caused by SSLError(SSLError(\"bad handshake: SysCallError(-1, 'Unexpected EOF')\")))",
     "output_type": "error",
     "traceback": [
      "\u001b[0;31m---------------------------------------------------------------------------\u001b[0m",
      "\u001b[0;31mSysCallError\u001b[0m                              Traceback (most recent call last)",
      "\u001b[0;32m/anaconda3/lib/python3.7/site-packages/urllib3/contrib/pyopenssl.py\u001b[0m in \u001b[0;36mwrap_socket\u001b[0;34m(self, sock, server_side, do_handshake_on_connect, suppress_ragged_eofs, server_hostname)\u001b[0m\n\u001b[1;32m    452\u001b[0m             \u001b[0;32mtry\u001b[0m\u001b[0;34m:\u001b[0m\u001b[0;34m\u001b[0m\u001b[0;34m\u001b[0m\u001b[0m\n\u001b[0;32m--> 453\u001b[0;31m                 \u001b[0mcnx\u001b[0m\u001b[0;34m.\u001b[0m\u001b[0mdo_handshake\u001b[0m\u001b[0;34m(\u001b[0m\u001b[0;34m)\u001b[0m\u001b[0;34m\u001b[0m\u001b[0;34m\u001b[0m\u001b[0m\n\u001b[0m\u001b[1;32m    454\u001b[0m             \u001b[0;32mexcept\u001b[0m \u001b[0mOpenSSL\u001b[0m\u001b[0;34m.\u001b[0m\u001b[0mSSL\u001b[0m\u001b[0;34m.\u001b[0m\u001b[0mWantReadError\u001b[0m\u001b[0;34m:\u001b[0m\u001b[0;34m\u001b[0m\u001b[0;34m\u001b[0m\u001b[0m\n",
      "\u001b[0;32m/anaconda3/lib/python3.7/site-packages/OpenSSL/SSL.py\u001b[0m in \u001b[0;36mdo_handshake\u001b[0;34m(self)\u001b[0m\n\u001b[1;32m   1906\u001b[0m         \u001b[0mresult\u001b[0m \u001b[0;34m=\u001b[0m \u001b[0m_lib\u001b[0m\u001b[0;34m.\u001b[0m\u001b[0mSSL_do_handshake\u001b[0m\u001b[0;34m(\u001b[0m\u001b[0mself\u001b[0m\u001b[0;34m.\u001b[0m\u001b[0m_ssl\u001b[0m\u001b[0;34m)\u001b[0m\u001b[0;34m\u001b[0m\u001b[0;34m\u001b[0m\u001b[0m\n\u001b[0;32m-> 1907\u001b[0;31m         \u001b[0mself\u001b[0m\u001b[0;34m.\u001b[0m\u001b[0m_raise_ssl_error\u001b[0m\u001b[0;34m(\u001b[0m\u001b[0mself\u001b[0m\u001b[0;34m.\u001b[0m\u001b[0m_ssl\u001b[0m\u001b[0;34m,\u001b[0m \u001b[0mresult\u001b[0m\u001b[0;34m)\u001b[0m\u001b[0;34m\u001b[0m\u001b[0;34m\u001b[0m\u001b[0m\n\u001b[0m\u001b[1;32m   1908\u001b[0m \u001b[0;34m\u001b[0m\u001b[0m\n",
      "\u001b[0;32m/anaconda3/lib/python3.7/site-packages/OpenSSL/SSL.py\u001b[0m in \u001b[0;36m_raise_ssl_error\u001b[0;34m(self, ssl, result)\u001b[0m\n\u001b[1;32m   1631\u001b[0m                         \u001b[0;32mraise\u001b[0m \u001b[0mSysCallError\u001b[0m\u001b[0;34m(\u001b[0m\u001b[0merrno\u001b[0m\u001b[0;34m,\u001b[0m \u001b[0merrorcode\u001b[0m\u001b[0;34m.\u001b[0m\u001b[0mget\u001b[0m\u001b[0;34m(\u001b[0m\u001b[0merrno\u001b[0m\u001b[0;34m)\u001b[0m\u001b[0;34m)\u001b[0m\u001b[0;34m\u001b[0m\u001b[0;34m\u001b[0m\u001b[0m\n\u001b[0;32m-> 1632\u001b[0;31m                 \u001b[0;32mraise\u001b[0m \u001b[0mSysCallError\u001b[0m\u001b[0;34m(\u001b[0m\u001b[0;34m-\u001b[0m\u001b[0;36m1\u001b[0m\u001b[0;34m,\u001b[0m \u001b[0;34m\"Unexpected EOF\"\u001b[0m\u001b[0;34m)\u001b[0m\u001b[0;34m\u001b[0m\u001b[0;34m\u001b[0m\u001b[0m\n\u001b[0m\u001b[1;32m   1633\u001b[0m             \u001b[0;32melse\u001b[0m\u001b[0;34m:\u001b[0m\u001b[0;34m\u001b[0m\u001b[0;34m\u001b[0m\u001b[0m\n",
      "\u001b[0;31mSysCallError\u001b[0m: (-1, 'Unexpected EOF')",
      "\nDuring handling of the above exception, another exception occurred:\n",
      "\u001b[0;31mSSLError\u001b[0m                                  Traceback (most recent call last)",
      "\u001b[0;32m/anaconda3/lib/python3.7/site-packages/urllib3/connectionpool.py\u001b[0m in \u001b[0;36murlopen\u001b[0;34m(self, method, url, body, headers, retries, redirect, assert_same_host, timeout, pool_timeout, release_conn, chunked, body_pos, **response_kw)\u001b[0m\n\u001b[1;32m    599\u001b[0m                                                   \u001b[0mbody\u001b[0m\u001b[0;34m=\u001b[0m\u001b[0mbody\u001b[0m\u001b[0;34m,\u001b[0m \u001b[0mheaders\u001b[0m\u001b[0;34m=\u001b[0m\u001b[0mheaders\u001b[0m\u001b[0;34m,\u001b[0m\u001b[0;34m\u001b[0m\u001b[0;34m\u001b[0m\u001b[0m\n\u001b[0;32m--> 600\u001b[0;31m                                                   chunked=chunked)\n\u001b[0m\u001b[1;32m    601\u001b[0m \u001b[0;34m\u001b[0m\u001b[0m\n",
      "\u001b[0;32m/anaconda3/lib/python3.7/site-packages/urllib3/connectionpool.py\u001b[0m in \u001b[0;36m_make_request\u001b[0;34m(self, conn, method, url, timeout, chunked, **httplib_request_kw)\u001b[0m\n\u001b[1;32m    342\u001b[0m         \u001b[0;32mtry\u001b[0m\u001b[0;34m:\u001b[0m\u001b[0;34m\u001b[0m\u001b[0;34m\u001b[0m\u001b[0m\n\u001b[0;32m--> 343\u001b[0;31m             \u001b[0mself\u001b[0m\u001b[0;34m.\u001b[0m\u001b[0m_validate_conn\u001b[0m\u001b[0;34m(\u001b[0m\u001b[0mconn\u001b[0m\u001b[0;34m)\u001b[0m\u001b[0;34m\u001b[0m\u001b[0;34m\u001b[0m\u001b[0m\n\u001b[0m\u001b[1;32m    344\u001b[0m         \u001b[0;32mexcept\u001b[0m \u001b[0;34m(\u001b[0m\u001b[0mSocketTimeout\u001b[0m\u001b[0;34m,\u001b[0m \u001b[0mBaseSSLError\u001b[0m\u001b[0;34m)\u001b[0m \u001b[0;32mas\u001b[0m \u001b[0me\u001b[0m\u001b[0;34m:\u001b[0m\u001b[0;34m\u001b[0m\u001b[0;34m\u001b[0m\u001b[0m\n",
      "\u001b[0;32m/anaconda3/lib/python3.7/site-packages/urllib3/connectionpool.py\u001b[0m in \u001b[0;36m_validate_conn\u001b[0;34m(self, conn)\u001b[0m\n\u001b[1;32m    838\u001b[0m         \u001b[0;32mif\u001b[0m \u001b[0;32mnot\u001b[0m \u001b[0mgetattr\u001b[0m\u001b[0;34m(\u001b[0m\u001b[0mconn\u001b[0m\u001b[0;34m,\u001b[0m \u001b[0;34m'sock'\u001b[0m\u001b[0;34m,\u001b[0m \u001b[0;32mNone\u001b[0m\u001b[0;34m)\u001b[0m\u001b[0;34m:\u001b[0m  \u001b[0;31m# AppEngine might not have  `.sock`\u001b[0m\u001b[0;34m\u001b[0m\u001b[0;34m\u001b[0m\u001b[0m\n\u001b[0;32m--> 839\u001b[0;31m             \u001b[0mconn\u001b[0m\u001b[0;34m.\u001b[0m\u001b[0mconnect\u001b[0m\u001b[0;34m(\u001b[0m\u001b[0;34m)\u001b[0m\u001b[0;34m\u001b[0m\u001b[0;34m\u001b[0m\u001b[0m\n\u001b[0m\u001b[1;32m    840\u001b[0m \u001b[0;34m\u001b[0m\u001b[0m\n",
      "\u001b[0;32m/anaconda3/lib/python3.7/site-packages/urllib3/connection.py\u001b[0m in \u001b[0;36mconnect\u001b[0;34m(self)\u001b[0m\n\u001b[1;32m    343\u001b[0m             \u001b[0mserver_hostname\u001b[0m\u001b[0;34m=\u001b[0m\u001b[0mserver_hostname\u001b[0m\u001b[0;34m,\u001b[0m\u001b[0;34m\u001b[0m\u001b[0;34m\u001b[0m\u001b[0m\n\u001b[0;32m--> 344\u001b[0;31m             ssl_context=context)\n\u001b[0m\u001b[1;32m    345\u001b[0m \u001b[0;34m\u001b[0m\u001b[0m\n",
      "\u001b[0;32m/anaconda3/lib/python3.7/site-packages/urllib3/util/ssl_.py\u001b[0m in \u001b[0;36mssl_wrap_socket\u001b[0;34m(sock, keyfile, certfile, cert_reqs, ca_certs, server_hostname, ssl_version, ciphers, ssl_context, ca_cert_dir)\u001b[0m\n\u001b[1;32m    343\u001b[0m         \u001b[0;32mif\u001b[0m \u001b[0mHAS_SNI\u001b[0m \u001b[0;32mand\u001b[0m \u001b[0mserver_hostname\u001b[0m \u001b[0;32mis\u001b[0m \u001b[0;32mnot\u001b[0m \u001b[0;32mNone\u001b[0m\u001b[0;34m:\u001b[0m\u001b[0;34m\u001b[0m\u001b[0;34m\u001b[0m\u001b[0m\n\u001b[0;32m--> 344\u001b[0;31m             \u001b[0;32mreturn\u001b[0m \u001b[0mcontext\u001b[0m\u001b[0;34m.\u001b[0m\u001b[0mwrap_socket\u001b[0m\u001b[0;34m(\u001b[0m\u001b[0msock\u001b[0m\u001b[0;34m,\u001b[0m \u001b[0mserver_hostname\u001b[0m\u001b[0;34m=\u001b[0m\u001b[0mserver_hostname\u001b[0m\u001b[0;34m)\u001b[0m\u001b[0;34m\u001b[0m\u001b[0;34m\u001b[0m\u001b[0m\n\u001b[0m\u001b[1;32m    345\u001b[0m \u001b[0;34m\u001b[0m\u001b[0m\n",
      "\u001b[0;32m/anaconda3/lib/python3.7/site-packages/urllib3/contrib/pyopenssl.py\u001b[0m in \u001b[0;36mwrap_socket\u001b[0;34m(self, sock, server_side, do_handshake_on_connect, suppress_ragged_eofs, server_hostname)\u001b[0m\n\u001b[1;32m    458\u001b[0m             \u001b[0;32mexcept\u001b[0m \u001b[0mOpenSSL\u001b[0m\u001b[0;34m.\u001b[0m\u001b[0mSSL\u001b[0m\u001b[0;34m.\u001b[0m\u001b[0mError\u001b[0m \u001b[0;32mas\u001b[0m \u001b[0me\u001b[0m\u001b[0;34m:\u001b[0m\u001b[0;34m\u001b[0m\u001b[0;34m\u001b[0m\u001b[0m\n\u001b[0;32m--> 459\u001b[0;31m                 \u001b[0;32mraise\u001b[0m \u001b[0mssl\u001b[0m\u001b[0;34m.\u001b[0m\u001b[0mSSLError\u001b[0m\u001b[0;34m(\u001b[0m\u001b[0;34m'bad handshake: %r'\u001b[0m \u001b[0;34m%\u001b[0m \u001b[0me\u001b[0m\u001b[0;34m)\u001b[0m\u001b[0;34m\u001b[0m\u001b[0;34m\u001b[0m\u001b[0m\n\u001b[0m\u001b[1;32m    460\u001b[0m             \u001b[0;32mbreak\u001b[0m\u001b[0;34m\u001b[0m\u001b[0;34m\u001b[0m\u001b[0m\n",
      "\u001b[0;31mSSLError\u001b[0m: (\"bad handshake: SysCallError(-1, 'Unexpected EOF')\",)",
      "\nDuring handling of the above exception, another exception occurred:\n",
      "\u001b[0;31mMaxRetryError\u001b[0m                             Traceback (most recent call last)",
      "\u001b[0;32m/anaconda3/lib/python3.7/site-packages/requests/adapters.py\u001b[0m in \u001b[0;36msend\u001b[0;34m(self, request, stream, timeout, verify, cert, proxies)\u001b[0m\n\u001b[1;32m    448\u001b[0m                     \u001b[0mretries\u001b[0m\u001b[0;34m=\u001b[0m\u001b[0mself\u001b[0m\u001b[0;34m.\u001b[0m\u001b[0mmax_retries\u001b[0m\u001b[0;34m,\u001b[0m\u001b[0;34m\u001b[0m\u001b[0;34m\u001b[0m\u001b[0m\n\u001b[0;32m--> 449\u001b[0;31m                     \u001b[0mtimeout\u001b[0m\u001b[0;34m=\u001b[0m\u001b[0mtimeout\u001b[0m\u001b[0;34m\u001b[0m\u001b[0;34m\u001b[0m\u001b[0m\n\u001b[0m\u001b[1;32m    450\u001b[0m                 )\n",
      "\u001b[0;32m/anaconda3/lib/python3.7/site-packages/urllib3/connectionpool.py\u001b[0m in \u001b[0;36murlopen\u001b[0;34m(self, method, url, body, headers, retries, redirect, assert_same_host, timeout, pool_timeout, release_conn, chunked, body_pos, **response_kw)\u001b[0m\n\u001b[1;32m    637\u001b[0m             retries = retries.increment(method, url, error=e, _pool=self,\n\u001b[0;32m--> 638\u001b[0;31m                                         _stacktrace=sys.exc_info()[2])\n\u001b[0m\u001b[1;32m    639\u001b[0m             \u001b[0mretries\u001b[0m\u001b[0;34m.\u001b[0m\u001b[0msleep\u001b[0m\u001b[0;34m(\u001b[0m\u001b[0;34m)\u001b[0m\u001b[0;34m\u001b[0m\u001b[0;34m\u001b[0m\u001b[0m\n",
      "\u001b[0;32m/anaconda3/lib/python3.7/site-packages/urllib3/util/retry.py\u001b[0m in \u001b[0;36mincrement\u001b[0;34m(self, method, url, response, error, _pool, _stacktrace)\u001b[0m\n\u001b[1;32m    397\u001b[0m         \u001b[0;32mif\u001b[0m \u001b[0mnew_retry\u001b[0m\u001b[0;34m.\u001b[0m\u001b[0mis_exhausted\u001b[0m\u001b[0;34m(\u001b[0m\u001b[0;34m)\u001b[0m\u001b[0;34m:\u001b[0m\u001b[0;34m\u001b[0m\u001b[0;34m\u001b[0m\u001b[0m\n\u001b[0;32m--> 398\u001b[0;31m             \u001b[0;32mraise\u001b[0m \u001b[0mMaxRetryError\u001b[0m\u001b[0;34m(\u001b[0m\u001b[0m_pool\u001b[0m\u001b[0;34m,\u001b[0m \u001b[0murl\u001b[0m\u001b[0;34m,\u001b[0m \u001b[0merror\u001b[0m \u001b[0;32mor\u001b[0m \u001b[0mResponseError\u001b[0m\u001b[0;34m(\u001b[0m\u001b[0mcause\u001b[0m\u001b[0;34m)\u001b[0m\u001b[0;34m)\u001b[0m\u001b[0;34m\u001b[0m\u001b[0;34m\u001b[0m\u001b[0m\n\u001b[0m\u001b[1;32m    399\u001b[0m \u001b[0;34m\u001b[0m\u001b[0m\n",
      "\u001b[0;31mMaxRetryError\u001b[0m: HTTPSConnectionPool(host='api.monarchinitiative.org', port=443): Max retries exceeded with url: /api/bioentity/disease/MONDO:0008667/genes?fetch_objects=true (Caused by SSLError(SSLError(\"bad handshake: SysCallError(-1, 'Unexpected EOF')\")))",
      "\nDuring handling of the above exception, another exception occurred:\n",
      "\u001b[0;31mSSLError\u001b[0m                                  Traceback (most recent call last)",
      "\u001b[0;32m<ipython-input-5-bf7990faf5bc>\u001b[0m in \u001b[0;36m<module>\u001b[0;34m\u001b[0m\n\u001b[1;32m      2\u001b[0m \u001b[0minput_disease_mondo\u001b[0m \u001b[0;34m=\u001b[0m \u001b[0;34m'MONDO:0008667'\u001b[0m\u001b[0;34m\u001b[0m\u001b[0;34m\u001b[0m\u001b[0m\n\u001b[1;32m      3\u001b[0m \u001b[0;34m\u001b[0m\u001b[0m\n\u001b[0;32m----> 4\u001b[0;31m \u001b[0minput_object\u001b[0m\u001b[0;34m,\u001b[0m \u001b[0mdisease_associated_genes\u001b[0m\u001b[0;34m,\u001b[0m \u001b[0minput_curie_set\u001b[0m \u001b[0;34m=\u001b[0m \u001b[0mdiseaseLookUp\u001b[0m\u001b[0;34m(\u001b[0m\u001b[0minput_disease_symbol\u001b[0m\u001b[0;34m,\u001b[0m \u001b[0minput_disease_mondo\u001b[0m\u001b[0;34m)\u001b[0m\u001b[0;34m\u001b[0m\u001b[0;34m\u001b[0m\u001b[0m\n\u001b[0m\u001b[1;32m      5\u001b[0m \u001b[0;34m\u001b[0m\u001b[0m\n\u001b[1;32m      6\u001b[0m \u001b[0;31m#  Echo to console\u001b[0m\u001b[0;34m\u001b[0m\u001b[0;34m\u001b[0m\u001b[0;34m\u001b[0m\u001b[0m\n",
      "\u001b[0;32m<ipython-input-4-883fe5fa6f69>\u001b[0m in \u001b[0;36mdiseaseLookUp\u001b[0;34m(input_disease_symbol, input_disease_mondo)\u001b[0m\n\u001b[1;32m     17\u001b[0m \u001b[0;34m\u001b[0m\u001b[0m\n\u001b[1;32m     18\u001b[0m     \u001b[0;31m# get genes associated with disease from Biolink\u001b[0m\u001b[0;34m\u001b[0m\u001b[0;34m\u001b[0m\u001b[0;34m\u001b[0m\u001b[0m\n\u001b[0;32m---> 19\u001b[0;31m     \u001b[0mdisease_associated_genes\u001b[0m \u001b[0;34m=\u001b[0m \u001b[0mlu\u001b[0m\u001b[0;34m.\u001b[0m\u001b[0mdisease_geneset_lookup\u001b[0m\u001b[0;34m(\u001b[0m\u001b[0;34m)\u001b[0m\u001b[0;34m\u001b[0m\u001b[0;34m\u001b[0m\u001b[0m\n\u001b[0m\u001b[1;32m     20\u001b[0m \u001b[0;34m\u001b[0m\u001b[0m\n\u001b[1;32m     21\u001b[0m     \u001b[0;31m# create list of gene curies for downstream module input\u001b[0m\u001b[0;34m\u001b[0m\u001b[0;34m\u001b[0m\u001b[0;34m\u001b[0m\u001b[0m\n",
      "\u001b[0;32m~/PycharmProjects/ncats-translator-workflows/Workflow2/Modules/Mod0_lookups.py\u001b[0m in \u001b[0;36mdisease_geneset_lookup\u001b[0;34m(self)\u001b[0m\n\u001b[1;32m     49\u001b[0m         \u001b[0minput_disease_id\u001b[0m \u001b[0;34m=\u001b[0m \u001b[0mself\u001b[0m\u001b[0;34m.\u001b[0m\u001b[0minput_object\u001b[0m\u001b[0;34m[\u001b[0m\u001b[0;34m'id'\u001b[0m\u001b[0;34m]\u001b[0m\u001b[0;34m\u001b[0m\u001b[0;34m\u001b[0m\u001b[0m\n\u001b[1;32m     50\u001b[0m         \u001b[0minput_disease_label\u001b[0m \u001b[0;34m=\u001b[0m \u001b[0mself\u001b[0m\u001b[0;34m.\u001b[0m\u001b[0minput_object\u001b[0m\u001b[0;34m[\u001b[0m\u001b[0;34m'label'\u001b[0m\u001b[0;34m]\u001b[0m\u001b[0;34m\u001b[0m\u001b[0;34m\u001b[0m\u001b[0m\n\u001b[0;32m---> 51\u001b[0;31m         \u001b[0minput_gene_set\u001b[0m \u001b[0;34m=\u001b[0m \u001b[0mself\u001b[0m\u001b[0;34m.\u001b[0m\u001b[0mblw\u001b[0m\u001b[0;34m.\u001b[0m\u001b[0mdisease2genes\u001b[0m\u001b[0;34m(\u001b[0m\u001b[0minput_disease_id\u001b[0m\u001b[0;34m)\u001b[0m\u001b[0;34m\u001b[0m\u001b[0;34m\u001b[0m\u001b[0m\n\u001b[0m\u001b[1;32m     52\u001b[0m         \u001b[0minput_gene_set\u001b[0m \u001b[0;34m=\u001b[0m \u001b[0;34m[\u001b[0m\u001b[0mself\u001b[0m\u001b[0;34m.\u001b[0m\u001b[0mblw\u001b[0m\u001b[0;34m.\u001b[0m\u001b[0mparse_association\u001b[0m\u001b[0;34m(\u001b[0m\u001b[0minput_disease_id\u001b[0m\u001b[0;34m,\u001b[0m \u001b[0minput_disease_label\u001b[0m\u001b[0;34m,\u001b[0m \u001b[0mx\u001b[0m\u001b[0;34m)\u001b[0m \u001b[0;32mfor\u001b[0m \u001b[0mx\u001b[0m \u001b[0;32min\u001b[0m \u001b[0minput_gene_set\u001b[0m\u001b[0;34m[\u001b[0m\u001b[0;34m'associations'\u001b[0m\u001b[0;34m]\u001b[0m\u001b[0;34m]\u001b[0m\u001b[0;34m\u001b[0m\u001b[0;34m\u001b[0m\u001b[0m\n\u001b[1;32m     53\u001b[0m         \u001b[0;31m# for input_gene in input_gene_set:\u001b[0m\u001b[0;34m\u001b[0m\u001b[0;34m\u001b[0m\u001b[0;34m\u001b[0m\u001b[0m\n",
      "\u001b[0;32m~/PycharmProjects/ncats-translator-workflows/mvp-module-library/BioLink/biolink_client.py\u001b[0m in \u001b[0;36mdisease2genes\u001b[0;34m(self, disease_curie)\u001b[0m\n\u001b[1;32m     18\u001b[0m         \u001b[0mparams\u001b[0m\u001b[0;34m.\u001b[0m\u001b[0mupdate\u001b[0m\u001b[0;34m(\u001b[0m\u001b[0mself\u001b[0m\u001b[0;34m.\u001b[0m\u001b[0mparams\u001b[0m\u001b[0;34m)\u001b[0m\u001b[0;34m\u001b[0m\u001b[0;34m\u001b[0m\u001b[0m\n\u001b[1;32m     19\u001b[0m         \u001b[0murl\u001b[0m \u001b[0;34m=\u001b[0m \u001b[0;34m'{0}bioentity/disease/{1}/genes'\u001b[0m\u001b[0;34m.\u001b[0m\u001b[0mformat\u001b[0m\u001b[0;34m(\u001b[0m\u001b[0mself\u001b[0m\u001b[0;34m.\u001b[0m\u001b[0mendpoint\u001b[0m\u001b[0;34m,\u001b[0m \u001b[0mdisease_curie\u001b[0m\u001b[0;34m)\u001b[0m\u001b[0;34m\u001b[0m\u001b[0;34m\u001b[0m\u001b[0m\n\u001b[0;32m---> 20\u001b[0;31m         \u001b[0mresponse\u001b[0m \u001b[0;34m=\u001b[0m \u001b[0mrequests\u001b[0m\u001b[0;34m.\u001b[0m\u001b[0mget\u001b[0m\u001b[0;34m(\u001b[0m\u001b[0murl\u001b[0m\u001b[0;34m,\u001b[0m \u001b[0mparams\u001b[0m\u001b[0;34m)\u001b[0m\u001b[0;34m\u001b[0m\u001b[0;34m\u001b[0m\u001b[0m\n\u001b[0m\u001b[1;32m     21\u001b[0m         \u001b[0;32mreturn\u001b[0m \u001b[0mresponse\u001b[0m\u001b[0;34m.\u001b[0m\u001b[0mjson\u001b[0m\u001b[0;34m(\u001b[0m\u001b[0;34m)\u001b[0m\u001b[0;34m\u001b[0m\u001b[0;34m\u001b[0m\u001b[0m\n\u001b[1;32m     22\u001b[0m \u001b[0;34m\u001b[0m\u001b[0m\n",
      "\u001b[0;32m/anaconda3/lib/python3.7/site-packages/requests/api.py\u001b[0m in \u001b[0;36mget\u001b[0;34m(url, params, **kwargs)\u001b[0m\n\u001b[1;32m     73\u001b[0m \u001b[0;34m\u001b[0m\u001b[0m\n\u001b[1;32m     74\u001b[0m     \u001b[0mkwargs\u001b[0m\u001b[0;34m.\u001b[0m\u001b[0msetdefault\u001b[0m\u001b[0;34m(\u001b[0m\u001b[0;34m'allow_redirects'\u001b[0m\u001b[0;34m,\u001b[0m \u001b[0;32mTrue\u001b[0m\u001b[0;34m)\u001b[0m\u001b[0;34m\u001b[0m\u001b[0;34m\u001b[0m\u001b[0m\n\u001b[0;32m---> 75\u001b[0;31m     \u001b[0;32mreturn\u001b[0m \u001b[0mrequest\u001b[0m\u001b[0;34m(\u001b[0m\u001b[0;34m'get'\u001b[0m\u001b[0;34m,\u001b[0m \u001b[0murl\u001b[0m\u001b[0;34m,\u001b[0m \u001b[0mparams\u001b[0m\u001b[0;34m=\u001b[0m\u001b[0mparams\u001b[0m\u001b[0;34m,\u001b[0m \u001b[0;34m**\u001b[0m\u001b[0mkwargs\u001b[0m\u001b[0;34m)\u001b[0m\u001b[0;34m\u001b[0m\u001b[0;34m\u001b[0m\u001b[0m\n\u001b[0m\u001b[1;32m     76\u001b[0m \u001b[0;34m\u001b[0m\u001b[0m\n\u001b[1;32m     77\u001b[0m \u001b[0;34m\u001b[0m\u001b[0m\n",
      "\u001b[0;32m/anaconda3/lib/python3.7/site-packages/requests/api.py\u001b[0m in \u001b[0;36mrequest\u001b[0;34m(method, url, **kwargs)\u001b[0m\n\u001b[1;32m     58\u001b[0m     \u001b[0;31m# cases, and look like a memory leak in others.\u001b[0m\u001b[0;34m\u001b[0m\u001b[0;34m\u001b[0m\u001b[0;34m\u001b[0m\u001b[0m\n\u001b[1;32m     59\u001b[0m     \u001b[0;32mwith\u001b[0m \u001b[0msessions\u001b[0m\u001b[0;34m.\u001b[0m\u001b[0mSession\u001b[0m\u001b[0;34m(\u001b[0m\u001b[0;34m)\u001b[0m \u001b[0;32mas\u001b[0m \u001b[0msession\u001b[0m\u001b[0;34m:\u001b[0m\u001b[0;34m\u001b[0m\u001b[0;34m\u001b[0m\u001b[0m\n\u001b[0;32m---> 60\u001b[0;31m         \u001b[0;32mreturn\u001b[0m \u001b[0msession\u001b[0m\u001b[0;34m.\u001b[0m\u001b[0mrequest\u001b[0m\u001b[0;34m(\u001b[0m\u001b[0mmethod\u001b[0m\u001b[0;34m=\u001b[0m\u001b[0mmethod\u001b[0m\u001b[0;34m,\u001b[0m \u001b[0murl\u001b[0m\u001b[0;34m=\u001b[0m\u001b[0murl\u001b[0m\u001b[0;34m,\u001b[0m \u001b[0;34m**\u001b[0m\u001b[0mkwargs\u001b[0m\u001b[0;34m)\u001b[0m\u001b[0;34m\u001b[0m\u001b[0;34m\u001b[0m\u001b[0m\n\u001b[0m\u001b[1;32m     61\u001b[0m \u001b[0;34m\u001b[0m\u001b[0m\n\u001b[1;32m     62\u001b[0m \u001b[0;34m\u001b[0m\u001b[0m\n",
      "\u001b[0;32m/anaconda3/lib/python3.7/site-packages/requests/sessions.py\u001b[0m in \u001b[0;36mrequest\u001b[0;34m(self, method, url, params, data, headers, cookies, files, auth, timeout, allow_redirects, proxies, hooks, stream, verify, cert, json)\u001b[0m\n\u001b[1;32m    531\u001b[0m         }\n\u001b[1;32m    532\u001b[0m         \u001b[0msend_kwargs\u001b[0m\u001b[0;34m.\u001b[0m\u001b[0mupdate\u001b[0m\u001b[0;34m(\u001b[0m\u001b[0msettings\u001b[0m\u001b[0;34m)\u001b[0m\u001b[0;34m\u001b[0m\u001b[0;34m\u001b[0m\u001b[0m\n\u001b[0;32m--> 533\u001b[0;31m         \u001b[0mresp\u001b[0m \u001b[0;34m=\u001b[0m \u001b[0mself\u001b[0m\u001b[0;34m.\u001b[0m\u001b[0msend\u001b[0m\u001b[0;34m(\u001b[0m\u001b[0mprep\u001b[0m\u001b[0;34m,\u001b[0m \u001b[0;34m**\u001b[0m\u001b[0msend_kwargs\u001b[0m\u001b[0;34m)\u001b[0m\u001b[0;34m\u001b[0m\u001b[0;34m\u001b[0m\u001b[0m\n\u001b[0m\u001b[1;32m    534\u001b[0m \u001b[0;34m\u001b[0m\u001b[0m\n\u001b[1;32m    535\u001b[0m         \u001b[0;32mreturn\u001b[0m \u001b[0mresp\u001b[0m\u001b[0;34m\u001b[0m\u001b[0;34m\u001b[0m\u001b[0m\n",
      "\u001b[0;32m/anaconda3/lib/python3.7/site-packages/requests/sessions.py\u001b[0m in \u001b[0;36msend\u001b[0;34m(self, request, **kwargs)\u001b[0m\n\u001b[1;32m    644\u001b[0m \u001b[0;34m\u001b[0m\u001b[0m\n\u001b[1;32m    645\u001b[0m         \u001b[0;31m# Send the request\u001b[0m\u001b[0;34m\u001b[0m\u001b[0;34m\u001b[0m\u001b[0;34m\u001b[0m\u001b[0m\n\u001b[0;32m--> 646\u001b[0;31m         \u001b[0mr\u001b[0m \u001b[0;34m=\u001b[0m \u001b[0madapter\u001b[0m\u001b[0;34m.\u001b[0m\u001b[0msend\u001b[0m\u001b[0;34m(\u001b[0m\u001b[0mrequest\u001b[0m\u001b[0;34m,\u001b[0m \u001b[0;34m**\u001b[0m\u001b[0mkwargs\u001b[0m\u001b[0;34m)\u001b[0m\u001b[0;34m\u001b[0m\u001b[0;34m\u001b[0m\u001b[0m\n\u001b[0m\u001b[1;32m    647\u001b[0m \u001b[0;34m\u001b[0m\u001b[0m\n\u001b[1;32m    648\u001b[0m         \u001b[0;31m# Total elapsed time of the request (approximately)\u001b[0m\u001b[0;34m\u001b[0m\u001b[0;34m\u001b[0m\u001b[0;34m\u001b[0m\u001b[0m\n",
      "\u001b[0;32m/anaconda3/lib/python3.7/site-packages/requests/adapters.py\u001b[0m in \u001b[0;36msend\u001b[0;34m(self, request, stream, timeout, verify, cert, proxies)\u001b[0m\n\u001b[1;32m    512\u001b[0m             \u001b[0;32mif\u001b[0m \u001b[0misinstance\u001b[0m\u001b[0;34m(\u001b[0m\u001b[0me\u001b[0m\u001b[0;34m.\u001b[0m\u001b[0mreason\u001b[0m\u001b[0;34m,\u001b[0m \u001b[0m_SSLError\u001b[0m\u001b[0;34m)\u001b[0m\u001b[0;34m:\u001b[0m\u001b[0;34m\u001b[0m\u001b[0;34m\u001b[0m\u001b[0m\n\u001b[1;32m    513\u001b[0m                 \u001b[0;31m# This branch is for urllib3 v1.22 and later.\u001b[0m\u001b[0;34m\u001b[0m\u001b[0;34m\u001b[0m\u001b[0;34m\u001b[0m\u001b[0m\n\u001b[0;32m--> 514\u001b[0;31m                 \u001b[0;32mraise\u001b[0m \u001b[0mSSLError\u001b[0m\u001b[0;34m(\u001b[0m\u001b[0me\u001b[0m\u001b[0;34m,\u001b[0m \u001b[0mrequest\u001b[0m\u001b[0;34m=\u001b[0m\u001b[0mrequest\u001b[0m\u001b[0;34m)\u001b[0m\u001b[0;34m\u001b[0m\u001b[0;34m\u001b[0m\u001b[0m\n\u001b[0m\u001b[1;32m    515\u001b[0m \u001b[0;34m\u001b[0m\u001b[0m\n\u001b[1;32m    516\u001b[0m             \u001b[0;32mraise\u001b[0m \u001b[0mConnectionError\u001b[0m\u001b[0;34m(\u001b[0m\u001b[0me\u001b[0m\u001b[0;34m,\u001b[0m \u001b[0mrequest\u001b[0m\u001b[0;34m=\u001b[0m\u001b[0mrequest\u001b[0m\u001b[0;34m)\u001b[0m\u001b[0;34m\u001b[0m\u001b[0;34m\u001b[0m\u001b[0m\n",
      "\u001b[0;31mSSLError\u001b[0m: HTTPSConnectionPool(host='api.monarchinitiative.org', port=443): Max retries exceeded with url: /api/bioentity/disease/MONDO:0008667/genes?fetch_objects=true (Caused by SSLError(SSLError(\"bad handshake: SysCallError(-1, 'Unexpected EOF')\")))"
     ]
    }
   ],
   "source": [
    "input_disease_symbol = \"VHL\"\n",
    "input_disease_mondo = 'MONDO:0008667'\n",
    "\n",
    "input_object, disease_associated_genes, input_curie_set = diseaseLookUp(input_disease_symbol, input_disease_mondo)\n",
    "\n",
    "#  Echo to console\n",
    "disease_associated_genes"
   ]
  },
  {
   "cell_type": "markdown",
   "metadata": {},
   "source": [
    "# Retrieve Similar Genes "
   ]
  },
  {
   "cell_type": "code",
   "execution_count": null,
   "metadata": {},
   "outputs": [],
   "source": [
    "def load_genes(model,data,threshold):\n",
    "    \n",
    "    # Module specification\n",
    "    inputParameters = {\n",
    "        'input': data,\n",
    "        'parameters': {\n",
    "            'taxon': 'human',\n",
    "            'threshold': threshold,\n",
    "        },\n",
    "    }\n",
    "    \n",
    "    # Load the computation parameters\n",
    "    model.load_input_object(inputParameters)\n",
    "    model.load_gene_set()\n",
    "    \n",
    "def similarity( model, data, threshold, input_disease_symbol, module, title ):\n",
    "\n",
    "    # Initialize\n",
    "    load_genes(model,data,threshold)\n",
    "    model.load_associations()\n",
    "    \n",
    "    # Perform the comparison\n",
    "    results = model.compute_similarity()\n",
    "    \n",
    "    # Process the results\n",
    "    results_table = pd.DataFrame(results)\n",
    "    results_table = results_table[~results_table['hit_id'].isin(disease_associated_genes['hit_id'].tolist())].sort_values('score', ascending=False)\n",
    "    results_table['module'] = module\n",
    "    \n",
    "    # save the gene list to a file under the \"Tidbit\" subdirectory\n",
    "    output = output_file(input_disease_symbol,title,\"html\")\n",
    "    dump_html(output,results_table)\n",
    "    output.close()\n",
    "    \n",
    "    return results_table"
   ]
  },
  {
   "cell_type": "markdown",
   "metadata": {},
   "source": [
    "## Mod1A Functional Similarity\n",
    "### Find similar genes based on GO functional annotations using OntoBio Jaccard similarity"
   ]
  },
  {
   "cell_type": "code",
   "execution_count": null,
   "metadata": {
    "collapsed": true
   },
   "outputs": [],
   "source": [
    "from Modules.Mod1A_functional_sim import FunctionalSimilarity\n",
    "\n",
    "# Functional Simularity using Jaccard index threshold\n",
    "func_sim_human = FunctionalSimilarity()\n",
    "Mod1A_results = similarity( func_sim_human, input_curie_set, 0.75, input_disease_symbol, 'Mod1A', \"Functionally Similar Genes\" )\n",
    "\n",
    "Mod1A_results"
   ]
  },
  {
   "cell_type": "markdown",
   "metadata": {},
   "source": [
    "## MOD1B Phenotype Similarity\n",
    "### Find similar genes based on OwlSim calculated Phenotype Similarity"
   ]
  },
  {
   "cell_type": "code",
   "execution_count": null,
   "metadata": {
    "collapsed": true
   },
   "outputs": [],
   "source": [
    "from Modules.Mod1B1_phenotype_similarity import PhenotypeSimilarity\n",
    "\n",
    "# Phenotypic simulatiry using OwlSim calculation threshold\n",
    "pheno_sim_human = PhenotypeSimilarity()\n",
    "Mod1B_results = similarity( pheno_sim_human, input_curie_set, 0.50, input_disease_symbol, 'Mod1B', \"Phenotypically Similar Genes\" )\n",
    "\n",
    "Mod1B_results"
   ]
  },
  {
   "cell_type": "markdown",
   "metadata": {},
   "source": [
    "# Mod1E Protein Interaction"
   ]
  },
  {
   "cell_type": "code",
   "execution_count": null,
   "metadata": {},
   "outputs": [],
   "source": [
    "def gene_interactions( model, data, input_disease_symbol, module, title ):\n",
    "    \n",
    "    # Initialize\n",
    "    load_genes(model,data,None)\n",
    "        \n",
    "    results = model.get_interactions()\n",
    "    \n",
    "    results_table = pd.DataFrame(results)\n",
    "    \n",
    "    counts = results_table['hit_symbol'].value_counts().rename_axis('unique_values').to_frame('counts').reset_index()\n",
    "    high_counts = counts[counts['counts'] > 12]['unique_values'].tolist()\n",
    "    \n",
    "    final_results_table = pd.DataFrame(result_tables[result_tables['hit_symbol'].isin(high_counts)])\n",
    "    \n",
    "    final_results_table['module'] = module\n",
    "    \n",
    "    # save the gene list to a file under the \"Tidbit\" subdirectory\n",
    "    output = output_file(input_disease_symbol,title,\"html\")\n",
    "    dump_html(output,final_results_table.head())\n",
    "    output.close()\n",
    "    \n",
    "    return final_results_table"
   ]
  },
  {
   "cell_type": "markdown",
   "metadata": {},
   "source": [
    "# Find Interacting Genes\n",
    "## Mod1E Human"
   ]
  },
  {
   "cell_type": "code",
   "execution_count": null,
   "metadata": {
    "collapsed": true
   },
   "outputs": [],
   "source": [
    "from Modules.Mod1E_interactions import GeneInteractions\n",
    "\n",
    "interactions_human = GeneInteractions()\n",
    "Mod1E_results = gene_interactions( interactions_human, input_curie_set, input_disease_symbol, 'Mod1E', \"Gene Interactions\" )\n",
    "\n",
    "# Echo to console\n",
    "Mod1E_results.head()  "
   ]
  },
  {
   "cell_type": "markdown",
   "metadata": {},
   "source": [
    "# Publish Aggregate Results"
   ]
  },
  {
   "cell_type": "code",
   "execution_count": null,
   "metadata": {
    "collapsed": true
   },
   "outputs": [],
   "source": [
    "from Modules.StandardOutput import StandardOutput\n",
    "\n",
    "def aggregrate_results(resultsA,resultsB):\n",
    "    all_results = pd.concat([resultsA,resultsB])    \n",
    "    so = StandardOutput(results=all_results.to_dict(orient='records'), input_object=input_object)\n",
    "    return so.output_object\n",
    "\n",
    "std_api_response_json = aggregrate_results(Mod1A_results_human, Mod1B_results)\n",
    "\n",
    "# Echo to console\n",
    "std_api_response_json"
   ]
  },
  {
   "cell_type": "code",
   "execution_count": null,
   "metadata": {},
   "outputs": [],
   "source": [
    "import requests\n",
    "\n",
    "def file_index( output, input_disease_symbol, input_disease_mondo, rtx_ui_url ):\n",
    "    \n",
    "    title = \"Results for \"+input_disease_symbol+\"[\"+input_disease_mondo+\"]\n",
    "    \n",
    "    doc = XHTML()\n",
    "    \n",
    "    doc.head.title(title)\n",
    "    doc.body.h1(title)\n",
    "    ul = body.ul\n",
    "    ul.li.iframe(\"Input Disease Details\",        src=\"Definition.json\")\n",
    "    ul.li.iframe(\"Disease Associated Genes\",     src=\"Disease_Associated_Genes.html\")\n",
    "    ul.li.iframe(\"Functionally Similar Genes\",   src=\"Functionally_Similar_Genes.html\")\n",
    "    ul.li.iframe(\"Phenotypically Similar Genes\", src=\"Phenotypically_Similar_Genes.html\")\n",
    "    ul.li.iframe(\"Gene Interactions\",            src=\"Gene_Interactions.html\")\n",
    "    doc.body.p.a(\"RTX UI Display of Details\",           href=\"https://rtx.ncats.io/?r=%s\" % rtx_ui_url.json()['response_id'])\n",
    "    doc.body.p.a(\"Reasoner API formatted JSON results\", href=\"https://rtx.ncats.io/api/rtx/v1/response/%s\" % rtx_ui_url.json()['response_id'])  \n",
    "\n",
    "    output.write(doc)\n",
    "\n",
    "def publish_to_rtx( output, std_api_response_json, input_disease_symbol, title ):\n",
    "    \n",
    "    # get the URL for these results displayed in the RTX UI\n",
    "    RTX_UI_REQUEST_URL = \"https://rtx.ncats.io/api/rtx/v1/response/process\"\n",
    "    to_post = {\"options\": [\"Store\", \"ReturnResponseId\"], \"responses\": [std_api_response_json]}\n",
    "    rtx_ui_url = requests.post(RTX_UI_REQUEST_URL, json=to_post)\n",
    "    \n",
    "    # Write out a master index web page\n",
    "    output = output_file(input_disease_symbol,\"index\",\"html\")\n",
    "    write_file_index( output, rtx_ui_url )\n",
    "    output.close()\n",
    "    \n",
    "    return rtx_ui_url\n",
    "\n",
    "rtx_ui_url = publish_to_rtx(std_api_response_json)\n",
    "\n",
    "print(\"Please visit the following website: https://rtx.ncats.io/?r=%s\" % rtx_ui_url.json()['response_id'])\n",
    "print(\"Please visit the following link to retrieve JSON results: https://rtx.ncats.io/api/rtx/v1/response/%s\" % rtx_ui_url.json()['response_id'])"
   ]
  },
  {
   "cell_type": "code",
   "execution_count": null,
   "metadata": {},
   "outputs": [],
   "source": [
    "# Read a table of diseases and process\n",
    "with open(\"diseases.tsv\",\"r\") as diseases:\n",
    "    for entry in diseases.readlines():\n",
    "        field = entry.split(\"\\t\")\n",
    "        continue if field[1] == \"Disease\"\n",
    "        \n",
    "        input_disease_symbol = field[1]\n",
    "        input_disease_mondo  = field[3]\n",
    "        \n",
    "        # process\n",
    "        input_object, disease_associated_genes, input_curie_set = diseaseLookUp(input_disease_symbol, input_disease_mondo)\n",
    "        \n",
    "        # Functinoal Simularity using Jaccard index threshold\n",
    "        func_sim_human = FunctionalSimilarity()\n",
    "        Mod1A_results = similarity( func_sim_human, input_curie_set, 0.75, input_disease_symbol, 'Mod1A', \"Functionally Similar Genes\" )\n",
    "\n",
    "        # Phenotypic simulatiry using OwlSim calculation threshold\n",
    "        pheno_sim_human = PhenotypeSimilarity()\n",
    "        Mod1B_results = similarity( pheno_sim_human, input_curie_set, 0.50, input_disease_symbol, 'Mod1B', \"Phenotypically Similar Genes\" )\n",
    "\n",
    "        # Find Interacting Genes\n",
    "        interactions_human = GeneInteractions()\n",
    "        Mod1E_results = gene_interactions( interactions_human, input_curie_set, input_disease_symbol, 'Mod1E', \"Gene Interactions\" )\n",
    "        \n",
    "        std_api_response_json = aggregrate_results(Mod1A_results, Mod1B_results)\n",
    "        publish_to_rtx( output, input_disease_symbol, input_disease_mondo, std_api_response_json )"
   ]
  }
 ],
 "metadata": {
  "kernelspec": {
   "display_name": "Python 3",
   "language": "python",
   "name": "python3"
  },
  "language_info": {
   "codemirror_mode": {
    "name": "ipython",
    "version": 3
   },
   "file_extension": ".py",
   "mimetype": "text/x-python",
   "name": "python",
   "nbconvert_exporter": "python",
   "pygments_lexer": "ipython3",
   "version": "3.7.1"
  }
 },
 "nbformat": 4,
 "nbformat_minor": 2
}
