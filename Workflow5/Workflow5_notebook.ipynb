{
 "cells": [
  {
   "cell_type": "markdown",
   "metadata": {},
   "source": [
    "# Workflow 5\n",
    "## Green Team @ RENCI\n",
    "## Last Update: January 11, 2019"
   ]
  },
  {
   "cell_type": "markdown",
   "metadata": {},
   "source": [
    "<div class=\"alert alert-block alert-info\" style=\"font-size:24px; font-weight: normal\">\n",
    "<b> Module 1 - Identify a Cohort and subdivide it based on features/clusters of interest</b>\n",
    "</div>"
   ]
  },
  {
   "cell_type": "code",
   "execution_count": 2,
   "metadata": {},
   "outputs": [],
   "source": [
    "import iceesclient\n",
    "import importlib"
   ]
  },
  {
   "cell_type": "markdown",
   "metadata": {},
   "source": [
    "<div class=\"alert alert-block alert-warning\" style=\"font-size:16px\">\n",
    "<b> Note: iceesclient is a python client for the ICEES API, available at the ICEES API Repository: https://github.com/NCATS-Tangerine/icees-api/tree/master/iceesclient\n",
    "</div>"
   ]
  },
  {
   "cell_type": "code",
   "execution_count": 3,
   "metadata": {},
   "outputs": [],
   "source": [
    "DefineCohortObject = iceesclient.DefineCohort()"
   ]
  },
  {
   "cell_type": "code",
   "execution_count": 46,
   "metadata": {},
   "outputs": [],
   "source": [
    "SME_evaluation_Cohort_low_exposure = DefineCohortObject.run_define_cohort('AvgDailyPM2.5Exposure', '3','<')"
   ]
  },
  {
   "cell_type": "code",
   "execution_count": 47,
   "metadata": {},
   "outputs": [
    {
     "data": {
      "text/plain": [
       "{'cohort_id': 'COHORT:44', 'size': 1601}"
      ]
     },
     "execution_count": 47,
     "metadata": {},
     "output_type": "execute_result"
    }
   ],
   "source": [
    "SME_evaluation_Cohort_low_exposure['return value']"
   ]
  },
  {
   "cell_type": "markdown",
   "metadata": {},
   "source": [
    "<div class=\"alert alert-block alert-success\" style=\"font-size:16px; font-weight: normal\">\n",
    "<b> Having defined a cohort, look at the cohort definition (to verify how it was defined) and get the cohort features (to see what data is available for the cohort) </b>\n",
    "</div>"
   ]
  },
  {
   "cell_type": "code",
   "execution_count": 4,
   "metadata": {},
   "outputs": [],
   "source": [
    "CohortDefinitionObject = iceesclient.GetCohortDefinition()"
   ]
  },
  {
   "cell_type": "code",
   "execution_count": 48,
   "metadata": {},
   "outputs": [],
   "source": [
    "SME_evaluation_Cohort_definition = CohortDefinitionObject.run_get_cohort_definition('COHORT:44')"
   ]
  },
  {
   "cell_type": "code",
   "execution_count": 49,
   "metadata": {},
   "outputs": [
    {
     "data": {
      "text/plain": [
       "{'message': 'The browser (or proxy) sent a request that this server could not understand.'}"
      ]
     },
     "execution_count": 49,
     "metadata": {},
     "output_type": "execute_result"
    }
   ],
   "source": [
    "SME_evaluation_Cohort_definition['return value']"
   ]
  },
  {
   "cell_type": "code",
   "execution_count": 50,
   "metadata": {},
   "outputs": [],
   "source": [
    "FeaturesObject = iceesclient.GetFeatures()"
   ]
  },
  {
   "cell_type": "code",
   "execution_count": 51,
   "metadata": {},
   "outputs": [],
   "source": [
    "SME_evaluation_Cohort_features = FeaturesObject.run_get_features('COHORT:44')"
   ]
  },
  {
   "cell_type": "code",
   "execution_count": 52,
   "metadata": {},
   "outputs": [
    {
     "data": {
      "text/plain": [
       "{'message': 'The browser (or proxy) sent a request that this server could not understand.'}"
      ]
     },
     "execution_count": 52,
     "metadata": {},
     "output_type": "execute_result"
    }
   ],
   "source": [
    "SME_evaluation_Cohort_features['return value']"
   ]
  },
  {
   "cell_type": "code",
   "execution_count": 40,
   "metadata": {},
   "outputs": [],
   "source": [
    "FeatureAssociationObject = iceesclient.AssociationToAllFeatures()"
   ]
  },
  {
   "cell_type": "code",
   "execution_count": 41,
   "metadata": {},
   "outputs": [],
   "source": [
    "SME_evaluation_Cohort_1xN_feature_association = FeatureAssociationObject.run_association_to_all_features('TotalEDInpatientVisits','<', '2','0.1','COHORT:54')"
   ]
  },
  {
   "cell_type": "code",
   "execution_count": 42,
   "metadata": {},
   "outputs": [
    {
     "data": {
      "text/plain": [
       "{'return value': [{'feature_b': {'feature_qualifiers': [{'operator': '=',\n",
       "      'value': '0-2'},\n",
       "     {'operator': '=', 'value': '3-17'},\n",
       "     {'operator': '=', 'value': '18-34'},\n",
       "     {'operator': '=', 'value': '35-50'},\n",
       "     {'operator': '=', 'value': '51-69'},\n",
       "     {'operator': '=', 'value': '70+'}],\n",
       "    'feature_name': 'AgeStudyStart'},\n",
       "   'feature_a': {'feature_qualifiers': [{'operator': '<', 'value': 2},\n",
       "     {'operator': '>=', 'value': 2}],\n",
       "    'feature_name': 'TotalEDInpatientVisits'},\n",
       "   'total': 3408,\n",
       "   'feature_matrix': [[{'row_percentage': 0.9452054794520548,\n",
       "      'total_percentage': 0.08098591549295775,\n",
       "      'frequency': 276,\n",
       "      'column_percentage': 0.1029082774049217},\n",
       "     {'row_percentage': 0.0547945205479452,\n",
       "      'total_percentage': 0.004694835680751174,\n",
       "      'frequency': 16,\n",
       "      'column_percentage': 0.02203856749311295}],\n",
       "    [{'row_percentage': 0.9538461538461539,\n",
       "      'total_percentage': 0.14553990610328638,\n",
       "      'frequency': 496,\n",
       "      'column_percentage': 0.1849366144668158},\n",
       "     {'row_percentage': 0.046153846153846156,\n",
       "      'total_percentage': 0.007042253521126761,\n",
       "      'frequency': 24,\n",
       "      'column_percentage': 0.03305785123966942}],\n",
       "    [{'row_percentage': 0.6534653465346535,\n",
       "      'total_percentage': 0.11619718309859155,\n",
       "      'frequency': 396,\n",
       "      'column_percentage': 0.1476510067114094},\n",
       "     {'row_percentage': 0.3465346534653465,\n",
       "      'total_percentage': 0.061619718309859156,\n",
       "      'frequency': 210,\n",
       "      'column_percentage': 0.2892561983471074}],\n",
       "    [{'row_percentage': 0.7157894736842105,\n",
       "      'total_percentage': 0.1596244131455399,\n",
       "      'frequency': 544,\n",
       "      'column_percentage': 0.20283370618941088},\n",
       "     {'row_percentage': 0.28421052631578947,\n",
       "      'total_percentage': 0.06338028169014084,\n",
       "      'frequency': 216,\n",
       "      'column_percentage': 0.2975206611570248}],\n",
       "    [{'row_percentage': 0.7778936392075079,\n",
       "      'total_percentage': 0.21889671361502347,\n",
       "      'frequency': 746,\n",
       "      'column_percentage': 0.27815063385533184},\n",
       "     {'row_percentage': 0.22210636079249219,\n",
       "      'total_percentage': 0.0625,\n",
       "      'frequency': 213,\n",
       "      'column_percentage': 0.29338842975206614}],\n",
       "    [{'row_percentage': 0.8265682656826568,\n",
       "      'total_percentage': 0.06572769953051644,\n",
       "      'frequency': 224,\n",
       "      'column_percentage': 0.08351976137211037},\n",
       "     {'row_percentage': 0.17343173431734318,\n",
       "      'total_percentage': 0.013791079812206572,\n",
       "      'frequency': 47,\n",
       "      'column_percentage': 0.06473829201101929}]],\n",
       "   'rows': [{'percentage': 0.08568075117370892, 'frequency': 292},\n",
       "    {'percentage': 0.15258215962441316, 'frequency': 520},\n",
       "    {'percentage': 0.17781690140845072, 'frequency': 606},\n",
       "    {'percentage': 0.22300469483568075, 'frequency': 760},\n",
       "    {'percentage': 0.2813967136150235, 'frequency': 959},\n",
       "    {'percentage': 0.079518779342723, 'frequency': 271}],\n",
       "   'columns': [{'percentage': 0.7869718309859155, 'frequency': 2682},\n",
       "    {'percentage': 0.2130281690140845, 'frequency': 726}],\n",
       "   'p_value': 4.2841204023804765e-41,\n",
       "   'chi_squared': 220.38935460733464},\n",
       "  {'feature_b': {'feature_qualifiers': [{'operator': '=', 'value': 0},\n",
       "     {'operator': '=', 'value': 1}],\n",
       "    'feature_name': 'AsthmaDx'},\n",
       "   'feature_a': {'feature_qualifiers': [{'operator': '<', 'value': 2},\n",
       "     {'operator': '>=', 'value': 2}],\n",
       "    'feature_name': 'TotalEDInpatientVisits'},\n",
       "   'total': 3408,\n",
       "   'feature_matrix': [[{'row_percentage': 0.7737127371273713,\n",
       "      'total_percentage': 0.5026408450704225,\n",
       "      'frequency': 1713,\n",
       "      'column_percentage': 0.6387024608501118},\n",
       "     {'row_percentage': 0.22628726287262874,\n",
       "      'total_percentage': 0.14700704225352113,\n",
       "      'frequency': 501,\n",
       "      'column_percentage': 0.6900826446280992}],\n",
       "    [{'row_percentage': 0.8115577889447236,\n",
       "      'total_percentage': 0.28433098591549294,\n",
       "      'frequency': 969,\n",
       "      'column_percentage': 0.36129753914988816},\n",
       "     {'row_percentage': 0.1884422110552764,\n",
       "      'total_percentage': 0.06602112676056338,\n",
       "      'frequency': 225,\n",
       "      'column_percentage': 0.30991735537190085}]],\n",
       "   'rows': [{'percentage': 0.6496478873239436, 'frequency': 2214},\n",
       "    {'percentage': 0.3503521126760563, 'frequency': 1194}],\n",
       "   'columns': [{'percentage': 0.7869718309859155, 'frequency': 2682},\n",
       "    {'percentage': 0.2130281690140845, 'frequency': 726}],\n",
       "   'p_value': 0.08479346944461669,\n",
       "   'chi_squared': 6.626807325113961},\n",
       "  {'feature_b': {'feature_qualifiers': [{'operator': '=', 'value': 0},\n",
       "     {'operator': '=', 'value': 1}],\n",
       "    'feature_name': 'CoughDx'},\n",
       "   'feature_a': {'feature_qualifiers': [{'operator': '<', 'value': 2},\n",
       "     {'operator': '>=', 'value': 2}],\n",
       "    'feature_name': 'TotalEDInpatientVisits'},\n",
       "   'total': 3408,\n",
       "   'feature_matrix': [[{'row_percentage': 0.951715374841169,\n",
       "      'total_percentage': 0.2197769953051643,\n",
       "      'frequency': 749,\n",
       "      'column_percentage': 0.27926920208799405},\n",
       "     {'row_percentage': 0.048284625158831,\n",
       "      'total_percentage': 0.011150234741784037,\n",
       "      'frequency': 38,\n",
       "      'column_percentage': 0.05234159779614325}],\n",
       "    [{'row_percentage': 0.7375047691720718,\n",
       "      'total_percentage': 0.5671948356807511,\n",
       "      'frequency': 1933,\n",
       "      'column_percentage': 0.720730797912006},\n",
       "     {'row_percentage': 0.26249523082792825,\n",
       "      'total_percentage': 0.20187793427230047,\n",
       "      'frequency': 688,\n",
       "      'column_percentage': 0.9476584022038568}]],\n",
       "   'rows': [{'percentage': 0.23092723004694835, 'frequency': 787},\n",
       "    {'percentage': 0.7690727699530516, 'frequency': 2621}],\n",
       "   'columns': [{'percentage': 0.7869718309859155, 'frequency': 2682},\n",
       "    {'percentage': 0.2130281690140845, 'frequency': 726}],\n",
       "   'p_value': 1.0982297509223263e-35,\n",
       "   'chi_squared': 165.66390089500877},\n",
       "  {'feature_b': {'feature_qualifiers': [{'operator': '=', 'value': 0},\n",
       "     {'operator': '=', 'value': 1}],\n",
       "    'feature_name': 'PneumoniaDx'},\n",
       "   'feature_a': {'feature_qualifiers': [{'operator': '<', 'value': 2},\n",
       "     {'operator': '>=', 'value': 2}],\n",
       "    'feature_name': 'TotalEDInpatientVisits'},\n",
       "   'total': 3408,\n",
       "   'feature_matrix': [[{'row_percentage': 0.7919422730006013,\n",
       "      'total_percentage': 0.772887323943662,\n",
       "      'frequency': 2634,\n",
       "      'column_percentage': 0.9821029082774049},\n",
       "     {'row_percentage': 0.20805772699939867,\n",
       "      'total_percentage': 0.20305164319248825,\n",
       "      'frequency': 692,\n",
       "      'column_percentage': 0.953168044077135}],\n",
       "    [{'row_percentage': 0.5853658536585366,\n",
       "      'total_percentage': 0.014084507042253521,\n",
       "      'frequency': 48,\n",
       "      'column_percentage': 0.017897091722595078},\n",
       "     {'row_percentage': 0.4146341463414634,\n",
       "      'total_percentage': 0.009976525821596244,\n",
       "      'frequency': 34,\n",
       "      'column_percentage': 0.046831955922865015}]],\n",
       "   'rows': [{'percentage': 0.9759389671361502, 'frequency': 3326},\n",
       "    {'percentage': 0.024061032863849766, 'frequency': 82}],\n",
       "   'columns': [{'percentage': 0.7869718309859155, 'frequency': 2682},\n",
       "    {'percentage': 0.2130281690140845, 'frequency': 726}],\n",
       "   'p_value': 0.00014222510104190366,\n",
       "   'chi_squared': 20.370504263303367},\n",
       "  {'feature_b': {'feature_qualifiers': [{'operator': '=', 'value': 0},\n",
       "     {'operator': '=', 'value': 1}],\n",
       "    'feature_name': 'ObesityICD'},\n",
       "   'feature_a': {'feature_qualifiers': [{'operator': '<', 'value': 2},\n",
       "     {'operator': '>=', 'value': 2}],\n",
       "    'feature_name': 'TotalEDInpatientVisits'},\n",
       "   'total': 3408,\n",
       "   'feature_matrix': [[{'row_percentage': 0.7932048350212348,\n",
       "      'total_percentage': 0.7124413145539906,\n",
       "      'frequency': 2428,\n",
       "      'column_percentage': 0.9052945563012678},\n",
       "     {'row_percentage': 0.2067951649787651,\n",
       "      'total_percentage': 0.1857394366197183,\n",
       "      'frequency': 633,\n",
       "      'column_percentage': 0.871900826446281}],\n",
       "    [{'row_percentage': 0.7319884726224783,\n",
       "      'total_percentage': 0.07453051643192488,\n",
       "      'frequency': 254,\n",
       "      'column_percentage': 0.0947054436987323},\n",
       "     {'row_percentage': 0.2680115273775216,\n",
       "      'total_percentage': 0.027288732394366196,\n",
       "      'frequency': 93,\n",
       "      'column_percentage': 0.128099173553719}]],\n",
       "   'rows': [{'percentage': 0.8981807511737089, 'frequency': 3061},\n",
       "    {'percentage': 0.10181924882629108, 'frequency': 347}],\n",
       "   'columns': [{'percentage': 0.7869718309859155, 'frequency': 2682},\n",
       "    {'percentage': 0.2130281690140845, 'frequency': 726}],\n",
       "   'p_value': 0.07296420998531217,\n",
       "   'chi_squared': 6.966779014755932},\n",
       "  {'feature_b': {'feature_qualifiers': [{'operator': '=', 'value': 1},\n",
       "     {'operator': '=', 'value': 2},\n",
       "     {'operator': '=', 'value': 3},\n",
       "     {'operator': '=', 'value': 4}],\n",
       "    'feature_name': 'EstProbabilityHighSchoolMaxEducation'},\n",
       "   'feature_a': {'feature_qualifiers': [{'operator': '<', 'value': 2},\n",
       "     {'operator': '>=', 'value': 2}],\n",
       "    'feature_name': 'TotalEDInpatientVisits'},\n",
       "   'total': 3408,\n",
       "   'feature_matrix': [[{'row_percentage': 0.9056603773584906,\n",
       "      'total_percentage': 0.04225352112676056,\n",
       "      'frequency': 144,\n",
       "      'column_percentage': 0.053691275167785234},\n",
       "     {'row_percentage': 0.09433962264150944,\n",
       "      'total_percentage': 0.0044014084507042256,\n",
       "      'frequency': 15,\n",
       "      'column_percentage': 0.02066115702479339}],\n",
       "    [{'row_percentage': 0.7856093979441997,\n",
       "      'total_percentage': 0.31396713615023475,\n",
       "      'frequency': 1070,\n",
       "      'column_percentage': 0.3989560029828486},\n",
       "     {'row_percentage': 0.2143906020558003,\n",
       "      'total_percentage': 0.08568075117370892,\n",
       "      'frequency': 292,\n",
       "      'column_percentage': 0.4022038567493113}],\n",
       "    [{'row_percentage': 0.7856697819314642,\n",
       "      'total_percentage': 0.3700117370892019,\n",
       "      'frequency': 1261,\n",
       "      'column_percentage': 0.47017151379567484},\n",
       "     {'row_percentage': 0.21433021806853583,\n",
       "      'total_percentage': 0.10093896713615023,\n",
       "      'frequency': 344,\n",
       "      'column_percentage': 0.4738292011019284}],\n",
       "    [{'row_percentage': 0.7299270072992701,\n",
       "      'total_percentage': 0.05868544600938967,\n",
       "      'frequency': 200,\n",
       "      'column_percentage': 0.07457121551081283},\n",
       "     {'row_percentage': 0.27007299270072993,\n",
       "      'total_percentage': 0.02171361502347418,\n",
       "      'frequency': 74,\n",
       "      'column_percentage': 0.10192837465564739}]],\n",
       "   'rows': [{'percentage': 0.04665492957746479, 'frequency': 159},\n",
       "    {'percentage': 0.3996478873239437, 'frequency': 1362},\n",
       "    {'percentage': 0.4709507042253521, 'frequency': 1605},\n",
       "    {'percentage': 0.08039906103286384, 'frequency': 274}],\n",
       "   'columns': [{'percentage': 0.7869718309859155, 'frequency': 2682},\n",
       "    {'percentage': 0.2130281690140845, 'frequency': 726}],\n",
       "   'p_value': 0.009145470693262785,\n",
       "   'chi_squared': 18.71015344962011},\n",
       "  {'feature_b': {'feature_qualifiers': [{'operator': '=', 'value': 0},\n",
       "     {'operator': '=', 'value': 1}],\n",
       "    'feature_name': 'Prednisone'},\n",
       "   'feature_a': {'feature_qualifiers': [{'operator': '<', 'value': 2},\n",
       "     {'operator': '>=', 'value': 2}],\n",
       "    'feature_name': 'TotalEDInpatientVisits'},\n",
       "   'total': 3408,\n",
       "   'feature_matrix': [[{'row_percentage': 0.7973640856672158,\n",
       "      'total_percentage': 0.710093896713615,\n",
       "      'frequency': 2420,\n",
       "      'column_percentage': 0.9023117076808352},\n",
       "     {'row_percentage': 0.2026359143327842,\n",
       "      'total_percentage': 0.18045774647887325,\n",
       "      'frequency': 615,\n",
       "      'column_percentage': 0.8471074380165289}],\n",
       "    [{'row_percentage': 0.7024128686327078,\n",
       "      'total_percentage': 0.07687793427230047,\n",
       "      'frequency': 262,\n",
       "      'column_percentage': 0.0976882923191648},\n",
       "     {'row_percentage': 0.2975871313672922,\n",
       "      'total_percentage': 0.032570422535211266,\n",
       "      'frequency': 111,\n",
       "      'column_percentage': 0.15289256198347106}]],\n",
       "   'rows': [{'percentage': 0.8905516431924883, 'frequency': 3035},\n",
       "    {'percentage': 0.10944835680751173, 'frequency': 373}],\n",
       "   'columns': [{'percentage': 0.7869718309859155, 'frequency': 2682},\n",
       "    {'percentage': 0.2130281690140845, 'frequency': 726}],\n",
       "   'p_value': 0.00046924341542410093,\n",
       "   'chi_squared': 17.863756507153003},\n",
       "  {'feature_b': {'feature_qualifiers': [{'operator': '=', 'value': 0},\n",
       "     {'operator': '=', 'value': 1}],\n",
       "    'feature_name': 'Diphenhydramine'},\n",
       "   'feature_a': {'feature_qualifiers': [{'operator': '<', 'value': 2},\n",
       "     {'operator': '>=', 'value': 2}],\n",
       "    'feature_name': 'TotalEDInpatientVisits'},\n",
       "   'total': 3408,\n",
       "   'feature_matrix': [[{'row_percentage': 0.805414551607445,\n",
       "      'total_percentage': 0.6983568075117371,\n",
       "      'frequency': 2380,\n",
       "      'column_percentage': 0.8873974645786726},\n",
       "     {'row_percentage': 0.19458544839255498,\n",
       "      'total_percentage': 0.1687206572769953,\n",
       "      'frequency': 575,\n",
       "      'column_percentage': 0.7920110192837465}],\n",
       "    [{'row_percentage': 0.6666666666666666,\n",
       "      'total_percentage': 0.0886150234741784,\n",
       "      'frequency': 302,\n",
       "      'column_percentage': 0.11260253542132737},\n",
       "     {'row_percentage': 0.3333333333333333,\n",
       "      'total_percentage': 0.0443075117370892,\n",
       "      'frequency': 151,\n",
       "      'column_percentage': 0.20798898071625344}]],\n",
       "   'rows': [{'percentage': 0.8670774647887324, 'frequency': 2955},\n",
       "    {'percentage': 0.1329225352112676, 'frequency': 453}],\n",
       "   'columns': [{'percentage': 0.7869718309859155, 'frequency': 2682},\n",
       "    {'percentage': 0.2130281690140845, 'frequency': 726}],\n",
       "   'p_value': 8.794667411283228e-10,\n",
       "   'chi_squared': 45.10374696504037},\n",
       "  {'feature_b': {'feature_qualifiers': [{'operator': '=', 'value': 0},\n",
       "     {'operator': '=', 'value': 1}],\n",
       "    'feature_name': 'Ipratropium'},\n",
       "   'feature_a': {'feature_qualifiers': [{'operator': '<', 'value': 2},\n",
       "     {'operator': '>=', 'value': 2}],\n",
       "    'feature_name': 'TotalEDInpatientVisits'},\n",
       "   'total': 3408,\n",
       "   'feature_matrix': [[{'row_percentage': 0.7986219855934857,\n",
       "      'total_percentage': 0.7482394366197183,\n",
       "      'frequency': 2550,\n",
       "      'column_percentage': 0.9507829977628636},\n",
       "     {'row_percentage': 0.20137801440651426,\n",
       "      'total_percentage': 0.18867370892018778,\n",
       "      'frequency': 643,\n",
       "      'column_percentage': 0.8856749311294766}],\n",
       "    [{'row_percentage': 0.6139534883720931,\n",
       "      'total_percentage': 0.03873239436619718,\n",
       "      'frequency': 132,\n",
       "      'column_percentage': 0.049217002237136466},\n",
       "     {'row_percentage': 0.386046511627907,\n",
       "      'total_percentage': 0.024354460093896715,\n",
       "      'frequency': 83,\n",
       "      'column_percentage': 0.11432506887052342}]],\n",
       "   'rows': [{'percentage': 0.9369131455399061, 'frequency': 3193},\n",
       "    {'percentage': 0.06308685446009389, 'frequency': 215}],\n",
       "   'columns': [{'percentage': 0.7869718309859155, 'frequency': 2682},\n",
       "    {'percentage': 0.2130281690140845, 'frequency': 726}],\n",
       "   'p_value': 6.617016463969399e-09,\n",
       "   'chi_squared': 40.97577726598219},\n",
       "  {'feature_b': {'feature_qualifiers': [{'operator': '=', 'value': 0},\n",
       "     {'operator': '=', 'value': 1}],\n",
       "    'feature_name': 'Salmeterol'},\n",
       "   'feature_a': {'feature_qualifiers': [{'operator': '<', 'value': 2},\n",
       "     {'operator': '>=', 'value': 2}],\n",
       "    'feature_name': 'TotalEDInpatientVisits'},\n",
       "   'total': 3408,\n",
       "   'feature_matrix': [[{'row_percentage': 0.7881729920564872,\n",
       "      'total_percentage': 0.7860915492957746,\n",
       "      'frequency': 2679,\n",
       "      'column_percentage': 0.9988814317673378},\n",
       "     {'row_percentage': 0.2118270079435128,\n",
       "      'total_percentage': 0.2112676056338028,\n",
       "      'frequency': 720,\n",
       "      'column_percentage': 0.9917355371900827}],\n",
       "    [{'row_percentage': 0.3333333333333333,\n",
       "      'total_percentage': 0.0008802816901408451,\n",
       "      'frequency': 3,\n",
       "      'column_percentage': 0.0011185682326621924},\n",
       "     {'row_percentage': 0.6666666666666666,\n",
       "      'total_percentage': 0.0017605633802816902,\n",
       "      'frequency': 6,\n",
       "      'column_percentage': 0.008264462809917356}]],\n",
       "   'rows': [{'percentage': 0.9973591549295775, 'frequency': 3399},\n",
       "    {'percentage': 0.002640845070422535, 'frequency': 9}],\n",
       "   'columns': [{'percentage': 0.7869718309859155, 'frequency': 2682},\n",
       "    {'percentage': 0.2130281690140845, 'frequency': 726}],\n",
       "   'p_value': 0.01131772872771507,\n",
       "   'chi_squared': 11.076805142693598}],\n",
       " 'terms and conditions': \"The Translator Integrated Clinical and Environmental Exposures Service (ICEES) is providing you with Data that have been de-identified in accordance with 45 C.F.R. §§ 164.514(a) and (b) and that UNC Health Care System (UNCHCS) is permitted to provide under 45 C.F.R. § 164.502(d)(2). Recipient agrees to notify UNCHCS via NC TraCS in the event that Recipient receives any identifiable data in error and to take such measures to return the identifiable data and/or destroy it at the direction of UNCHCS.\\n\\nRestrictions on Recipient’s Use of Data. Recipient further agrees to use the data exclusively for the purposes and functionalities provided by the ICEES: cohort discovery; feature-rich cohort discovery; hypothesis-driven queries; and exploratory queries. Recipient agrees to use appropriate safeguards to protect the Data from misuse and unauthorized access or disclosure. Recipient will report to UNCHCS any unauthorized access, use, or disclosure of the Data not provided for by the Service of which Recipient becomes aware. Recipient will not attempt to identify the individuals whose information is contained in any Data transferred pursuant to this Service Agreement or attempt to contact those individuals. Recipient agrees not to sell the Data to any third party for any purpose. Recipient agrees not to disclose or publish the Data in any manner that would identify the Data as originating from UNCHCS. Finally, Recipient agrees to reasonably limit the number of queries to the Service per IP address within a given time interval, in order to prevent rapid ‘attacks’ on the Service.\\n\\nWe kindly request that Translator team members provide proper attribution for any products (e.g., manuscripts, podium presentations, software) derived from work related to Green Team's clinical datasets. Attribution should include acknowledgement of the funder (National Center for Advancing Translational Sciences [NCATS], Biomedical Data Translator Program awards, OT3TR002020 and OT2TR002514), the North Carolina Translational and Clinical Sciences (NC TraCS) Institute (NCATS, Center for Translational Science Award, UL1TR002489), UNC Hospitals and Health Care System, and all Green Team members who contributed to the work.\\n\"}"
      ]
     },
     "execution_count": 42,
     "metadata": {},
     "output_type": "execute_result"
    }
   ],
   "source": [
    "SME_evaluation_Cohort_1xN_feature_association"
   ]
  },
  {
   "cell_type": "markdown",
   "metadata": {},
   "source": [
    "<div class=\"alert alert-block alert-success\" style=\"font-size:16px; font-weight: normal\">\n",
    "<b> Above are the basic constituents for getting ICEES data to run analyses for SME evaluation.\n",
    "Next, we will set up a similar style series of commands to provide the data for\n",
    "a more exploratory cohort. As our defining variable, now use 'EstResidentialDensity'. The value may need to change as the binning strategy changes, currently the choice of value is arbitrary.</b>\n",
    "</div>"
   ]
  },
  {
   "cell_type": "code",
   "execution_count": null,
   "metadata": {},
   "outputs": [],
   "source": [
    "Exploratory_Cohort = DefineCohortObject.run_define_cohort('EstResidentialDensity', '3','<')"
   ]
  }
 ],
 "metadata": {
  "kernelspec": {
   "display_name": "Python 3",
   "language": "python",
   "name": "python3"
  },
  "language_info": {
   "codemirror_mode": {
    "name": "ipython",
    "version": 3
   },
   "file_extension": ".py",
   "mimetype": "text/x-python",
   "name": "python",
   "nbconvert_exporter": "python",
   "pygments_lexer": "ipython3",
   "version": "3.7.0"
  }
 },
 "nbformat": 4,
 "nbformat_minor": 2
}
