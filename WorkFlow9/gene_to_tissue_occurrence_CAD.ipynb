{
 "cells": [
  {
   "cell_type": "markdown",
   "metadata": {},
   "source": [
    "# Workflow 9: Gene to Tissue Occurrence for Monogenic Diabetes"
   ]
  },
  {
   "cell_type": "code",
   "execution_count": 1,
   "metadata": {},
   "outputs": [],
   "source": [
    "import bicluster_gene_to_tissue, importlib, asyncio"
   ]
  },
  {
   "cell_type": "code",
   "execution_count": 2,
   "metadata": {},
   "outputs": [],
   "source": [
    "gene_to_tissue = bicluster_gene_to_tissue.gene_to_tissue()"
   ]
  },
  {
   "cell_type": "code",
   "execution_count": 3,
   "metadata": {},
   "outputs": [],
   "source": [
    "monogenic_diabetes_sensu_strictiore_geneset = gene_to_tissue.run_getinput('https://raw.githubusercontent.com/ncats/translator-workflows/master/WorkFlow9/monogenic_diabetes_sensu_strictiore_genes_ensg_id_list.txt')"
   ]
  },
  {
   "cell_type": "code",
   "execution_count": 3,
   "metadata": {},
   "outputs": [],
   "source": [
    "CAD_geneset = {'ENSG00000121410',\n",
    "'ENSG00000268895',\n",
    "'ENSG00000148584',\n",
    "'ENSG00000070018',\n",
    "'ENSG00000175899',\n",
    "'ENSG00000245105',\n",
    "'ENSG00000166535',\n",
    "'ENSG00000256661',\n",
    "'ENSG00000256904',\n",
    "'ENSG00000256069',\n",
    "'ENSG00000234906',\n",
    "'ENSG00000068305',\n",
    "'ENSG00000070018'\n",
    "}"
   ]
  },
  {
   "cell_type": "code",
   "execution_count": 4,
   "metadata": {},
   "outputs": [],
   "source": [
    "loop = asyncio.get_event_loop()"
   ]
  },
  {
   "cell_type": "code",
   "execution_count": 7,
   "metadata": {},
   "outputs": [],
   "source": [
    "counted_tissues = loop.run_until_complete(gene_to_tissue.gene_to_tissue_biclusters_async(CAD_geneset))"
   ]
  },
  {
   "cell_type": "code",
   "execution_count": 8,
   "metadata": {},
   "outputs": [
    {
     "data": {
      "text/plain": [
       "[('MONDO:0007256', 30),\n",
       " ('UBERON:0002107', 24),\n",
       " ('DOID:3910', 17),\n",
       " ('MONDO:0006256', 17),\n",
       " ('DOID:4006', 17),\n",
       " ('MONDO:0005036', 15),\n",
       " ('UBERON:0002048', 15),\n",
       " ('DOID:3907', 14),\n",
       " ('DOID:4467', 12),\n",
       " ('UBERON:0000945', 11),\n",
       " ('UBERON:0000310', 11),\n",
       " ('DOID:1107', 10),\n",
       " ('UBERON:0001157', 9),\n",
       " ('MONDO:0017884', 8),\n",
       " ('DOID:0050939', 8),\n",
       " ('UBERON:0012249', 7),\n",
       " ('MONDO:0010150', 7),\n",
       " ('DOID:234', 7),\n",
       " ('DOID:2526', 6),\n",
       " ('UBERON:0002367', 6),\n",
       " ('MONDO:0006143', 6),\n",
       " ('NCIT:C32668', 6),\n",
       " ('UBERON:0004648', 6),\n",
       " ('NONE', 6),\n",
       " ('DOID:3963', 6),\n",
       " ('UBERON:0000995', 6),\n",
       " ('UBERON:0001159', 5),\n",
       " ('UBERON:0001225', 5),\n",
       " ('UBERON:0018707', 5),\n",
       " ('DOID:4947', 5),\n",
       " ('UBERON:0002469', 4),\n",
       " ('DOID:1996', 4),\n",
       " ('UBERON:0001830', 4),\n",
       " ('UBERON:0002046', 2),\n",
       " ('UBERON:0000458', 1)]"
      ]
     },
     "execution_count": 8,
     "metadata": {},
     "output_type": "execute_result"
    }
   ],
   "source": [
    "counted_tissues"
   ]
  },
  {
   "cell_type": "code",
   "execution_count": null,
   "metadata": {},
   "outputs": [],
   "source": []
  }
 ],
 "metadata": {
  "kernelspec": {
   "display_name": "Python 3",
   "language": "python",
   "name": "python3"
  },
  "language_info": {
   "codemirror_mode": {
    "name": "ipython",
    "version": 3
   },
   "file_extension": ".py",
   "mimetype": "text/x-python",
   "name": "python",
   "nbconvert_exporter": "python",
   "pygments_lexer": "ipython3",
   "version": "3.7.0b4"
  }
 },
 "nbformat": 4,
 "nbformat_minor": 2
}
