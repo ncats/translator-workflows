{
 "cells": [
  {
   "cell_type": "markdown",
   "metadata": {},
   "source": [
    "# Batch Execution of Workflow 2 on a TSV List of Diseases\n",
    "\n",
    "The sample 'diseases.tsv' file contains a list of target diseases, where the first and third column are the disease name and  MONDO identifier, respectively. This workflow can read in this file and apply the workflow 2 (MOD0/1A/1B1/1E)."
   ]
  },
  {
   "cell_type": "markdown",
   "metadata": {},
   "source": [
    "# Steps which may best happen before you run the workflow locally\n",
    "* be running python3.6+  (say, in a virtual enviroment)\n",
    "* you will need to have  `pip install jupyter` into the venv.\n",
    "* have cloned this repo using `--recursive`\n",
    "\n",
    "This workflow invokes \"owltools\" (https://github.com/owlcollab/owltools/wiki/Install-OWLTools)\n",
    "which is a 37M Java language tool. This needs has to be installed into a location visible to the Notebook (like ```${HOME}/bin```).  The 0.3.0 release application binary can be used (it is a bash wrapper around a Java JAR but your download tool (e.g. Mac OSX) may inadvertently give it the cryptic file extension '.dms' (No... it is **NOT** an Amiga DMS archive!)  Just rename the file (if necessary) to ```owltools```,  make it executable and move it into a suitable location like ```/anaconda3/bin``` or ```/usr/bin```.\n",
    "\n",
    "Alternately,\n",
    "\n",
    "```curl http://build.berkeleybop.org/userContent/owltools/owltools > ~/bin/owltools && chmod +x /usr/bin/owltools```\n",
    "\n",
    "should do the job."
   ]
  },
  {
   "cell_type": "markdown",
   "metadata": {},
   "source": [
    "# Install Python Dependencies (including the NCATS MVP Module Library)"
   ]
  },
  {
   "cell_type": "code",
   "execution_count": null,
   "metadata": {},
   "outputs": [],
   "source": [
    "import sys\n",
    "import shutil\n",
    "\n",
    "pyptha = sys.executable.split('/')\n",
    "pyptha[-2]= 'lib'\n",
    "pypth='/'.join(pyptha) + '*/site-packages'\n",
    "\n",
    "# Hack to get around problematic updating of distutils installed PyYAML and a slightly older pandas requiring a compatible numpy\n",
    "shutil.rmtree(pypth + '/PyYAML*', ignore_errors=True)\n",
    "shutil.rmtree(pypth + '/numpy*', ignore_errors=True)\n",
    "\n",
    "sys.path.append(\"../mvp-module-library\")\n",
    "# Install pip requirements\n",
    "!{sys.executable} -m pip install -r requirements.txt"
   ]
  },
  {
   "cell_type": "code",
   "execution_count": null,
   "metadata": {
    "collapsed": true
   },
   "outputs": [],
   "source": [
    "from BioLink.biolink_client import BioLinkWrapper\n",
    "import pandas as pd\n",
    "from os import makedirs\n",
    "from html3.html3 import XHTML"
   ]
  },
  {
   "cell_type": "code",
   "execution_count": null,
   "metadata": {},
   "outputs": [],
   "source": [
    "def output_file(tag,title,ext):\n",
    "    basepath = \"./Tidbit/\"+tag\n",
    "    filename = title.replace(\" \",\"_\")\n",
    "    filepath = basepath+\"/\"+filename+\".\"+ext\n",
    "    makedirs(basepath,exist_ok=True)\n",
    "    output = open(filepath,\"w+\")\n",
    "    output.info = { 'tag' : tag, 'title' : title }\n",
    "    return output\n",
    "\n",
    "def dump_html(output,body):\n",
    "    title = output.info['title']+\" for \"+output.info['tag']\n",
    "    \n",
    "    doc = XHTML()\n",
    "    \n",
    "    doc.head.title(title)\n",
    "    doc.body.h1(title)\n",
    "    doc.body.p(body.to_html(), escape=False)\n",
    "    \n",
    "    output.write(doc.__str__())"
   ]
  },
  {
   "cell_type": "markdown",
   "metadata": {},
   "source": [
    "# Mod0 Look up Disease Associated Genes"
   ]
  },
  {
   "cell_type": "code",
   "execution_count": null,
   "metadata": {},
   "outputs": [],
   "source": [
    "from Modules.Mod0_lookups import LookUp\n",
    "\n",
    "def diseaseLookUp(input_disease_symbol, input_disease_mondo):\n",
    "    \n",
    "    # workflow input is a disease identifier\n",
    "    lu = LookUp()\n",
    "    \n",
    "    input_object = {\n",
    "        'input': input_disease_mondo,\n",
    "        'parameters': {\n",
    "            'taxon': 'human',\n",
    "            'threshold': None,\n",
    "        },\n",
    "    }\n",
    "\n",
    "    lu.load_input_object(input_object=input_object)\n",
    "    \n",
    "    # get genes associated with disease from Biolink\n",
    "    disease_associated_genes = lu.disease_geneset_lookup()\n",
    "    \n",
    "    # create list of gene curies for downstream module input\n",
    "    input_curie_set = disease_associated_genes[['hit_id', 'hit_symbol']].to_dict(orient='records')\n",
    "    \n",
    "    # show the disease associated genes\n",
    "    disease_associated_genes['modules'] = 'Mod0'\n",
    "    \n",
    "    # save the seed gene definition and gene list to a \n",
    "    # file under the \"Tidbit/<symbol>\" subdirectory\n",
    "    \n",
    "    output = output_file(input_disease_symbol,\"Definition\",\"json\")\n",
    "    lu.echo_input_object(output)\n",
    "    output.close()\n",
    "    \n",
    "    output = output_file(input_disease_symbol,\"Disease Associated Genes\",\"html\")\n",
    "    dump_html(output,disease_associated_genes)\n",
    "    output.close()\n",
    "    \n",
    "    # genes to investigate\n",
    "    return lu.input_object, disease_associated_genes, input_curie_set\n"
   ]
  },
  {
   "cell_type": "code",
   "execution_count": null,
   "metadata": {},
   "outputs": [],
   "source": [
    "input_disease_symbol = \"VHL\"\n",
    "input_disease_mondo = 'MONDO:0008667'\n",
    "\n",
    "input_object, disease_associated_genes, input_curie_set = diseaseLookUp(input_disease_symbol, input_disease_mondo)\n",
    "\n",
    "#  Echo to console\n",
    "disease_associated_genes"
   ]
  },
  {
   "cell_type": "markdown",
   "metadata": {},
   "source": [
    "# Retrieve Similar Genes "
   ]
  },
  {
   "cell_type": "code",
   "execution_count": null,
   "metadata": {},
   "outputs": [],
   "source": [
    "def load_genes(model,data,threshold):\n",
    "    \n",
    "    # Module specification\n",
    "    inputParameters = {\n",
    "        'input': data,\n",
    "        'parameters': {\n",
    "            'taxon': 'human',\n",
    "            'threshold': threshold,\n",
    "        },\n",
    "    }\n",
    "    \n",
    "    # Load the computation parameters\n",
    "    model.load_input_object(inputParameters)\n",
    "    model.load_gene_set()\n",
    "    \n",
    "def similarity( model, data, threshold, input_disease_symbol, module, title ):\n",
    "\n",
    "    # Initialize\n",
    "    load_genes(model,data,threshold)\n",
    "    model.load_associations()\n",
    "    \n",
    "    # Perform the comparison\n",
    "    results = model.compute_similarity()\n",
    "    \n",
    "    # Process the results\n",
    "    results_table = pd.DataFrame(results)\n",
    "    results_table = results_table[~results_table['hit_id'].isin(disease_associated_genes['hit_id'].tolist())].sort_values('score', ascending=False)\n",
    "    results_table['module'] = module\n",
    "    \n",
    "    # save the gene list to a file under the \"Tidbit\" subdirectory\n",
    "    output = output_file(input_disease_symbol,title,\"html\")\n",
    "    dump_html(output,results_table)\n",
    "    output.close()\n",
    "    \n",
    "    return results_table"
   ]
  },
  {
   "cell_type": "markdown",
   "metadata": {},
   "source": [
    "## Mod1A Functional Similarity\n",
    "### Find similar genes based on GO functional annotations using OntoBio Jaccard similarity"
   ]
  },
  {
   "cell_type": "code",
   "execution_count": null,
   "metadata": {
    "collapsed": true
   },
   "outputs": [],
   "source": [
    "from Modules.Mod1A_functional_sim import FunctionalSimilarity\n",
    "\n",
    "# Functional Simularity using Jaccard index threshold\n",
    "func_sim_human = FunctionalSimilarity()\n",
    "Mod1A_results = similarity( func_sim_human, input_curie_set, 0.75, input_disease_symbol, 'Mod1A', \"Functionally Similar Genes\" )\n",
    "\n",
    "Mod1A_results"
   ]
  },
  {
   "cell_type": "markdown",
   "metadata": {},
   "source": [
    "## MOD1B Phenotype Similarity\n",
    "### Find similar genes based on OwlSim calculated Phenotype Similarity"
   ]
  },
  {
   "cell_type": "code",
   "execution_count": null,
   "metadata": {
    "collapsed": true
   },
   "outputs": [],
   "source": [
    "from Modules.Mod1B1_phenotype_similarity import PhenotypeSimilarity\n",
    "\n",
    "# Phenotypic simulatiry using OwlSim calculation threshold\n",
    "pheno_sim_human = PhenotypeSimilarity()\n",
    "Mod1B_results = similarity( pheno_sim_human, input_curie_set, 0.50, input_disease_symbol, 'Mod1B', \"Phenotypically Similar Genes\" )\n",
    "\n",
    "Mod1B_results"
   ]
  },
  {
   "cell_type": "markdown",
   "metadata": {},
   "source": [
    "# Mod1E Protein Interaction"
   ]
  },
  {
   "cell_type": "code",
   "execution_count": null,
   "metadata": {},
   "outputs": [],
   "source": [
    "def gene_interactions( model, data, input_disease_symbol, module, title ):\n",
    "    \n",
    "    # Initialize\n",
    "    load_genes(model,data,None)\n",
    "        \n",
    "    results = model.get_interactions()\n",
    "    \n",
    "    results_table = pd.DataFrame(results)\n",
    "    \n",
    "    counts = results_table['hit_symbol'].value_counts().rename_axis('unique_values').to_frame('counts').reset_index()\n",
    "    high_counts = counts[counts['counts'] > 12]['unique_values'].tolist()\n",
    "    \n",
    "    final_results_table = pd.DataFrame(result_tables[result_tables['hit_symbol'].isin(high_counts)])\n",
    "    \n",
    "    final_results_table['module'] = module\n",
    "    \n",
    "    # save the gene list to a file under the \"Tidbit\" subdirectory\n",
    "    output = output_file(input_disease_symbol,title,\"html\")\n",
    "    dump_html(output,final_results_table.head())\n",
    "    output.close()\n",
    "    \n",
    "    return final_results_table"
   ]
  },
  {
   "cell_type": "markdown",
   "metadata": {},
   "source": [
    "# Find Interacting Genes\n",
    "## Mod1E Human"
   ]
  },
  {
   "cell_type": "code",
   "execution_count": null,
   "metadata": {
    "collapsed": true
   },
   "outputs": [],
   "source": [
    "from Modules.Mod1E_interactions import GeneInteractions\n",
    "\n",
    "interactions_human = GeneInteractions()\n",
    "Mod1E_results = gene_interactions( interactions_human, input_curie_set, input_disease_symbol, 'Mod1E', \"Gene Interactions\" )\n",
    "\n",
    "# Echo to console\n",
    "Mod1E_results.head()  "
   ]
  },
  {
   "cell_type": "markdown",
   "metadata": {},
   "source": [
    "# Publish Aggregate Results"
   ]
  },
  {
   "cell_type": "code",
   "execution_count": null,
   "metadata": {
    "collapsed": true
   },
   "outputs": [],
   "source": [
    "from Modules.StandardOutput import StandardOutput\n",
    "\n",
    "def aggregrate_results(resultsA,resultsB):\n",
    "    all_results = pd.concat([resultsA,resultsB])    \n",
    "    so = StandardOutput(results=all_results.to_dict(orient='records'), input_object=input_object)\n",
    "    return so.output_object\n",
    "\n",
    "std_api_response_json = aggregrate_results(Mod1A_results_human, Mod1B_results)\n",
    "\n",
    "# Echo to console\n",
    "std_api_response_json"
   ]
  },
  {
   "cell_type": "code",
   "execution_count": null,
   "metadata": {},
   "outputs": [],
   "source": [
    "import requests\n",
    "\n",
    "def file_index( output, input_disease_symbol, input_disease_mondo, rtx_ui_url ):\n",
    "    \n",
    "    title = \"Results for \"+input_disease_symbol+\"[\"+input_disease_mondo+\"]\n",
    "    \n",
    "    doc = XHTML()\n",
    "    \n",
    "    doc.head.title(title)\n",
    "    doc.body.h1(title)\n",
    "    ul = body.ul\n",
    "    ul.li.iframe(\"Input Disease Details\",        src=\"Definition.json\")\n",
    "    ul.li.iframe(\"Disease Associated Genes\",     src=\"Disease_Associated_Genes.html\")\n",
    "    ul.li.iframe(\"Functionally Similar Genes\",   src=\"Functionally_Similar_Genes.html\")\n",
    "    ul.li.iframe(\"Phenotypically Similar Genes\", src=\"Phenotypically_Similar_Genes.html\")\n",
    "    ul.li.iframe(\"Gene Interactions\",            src=\"Gene_Interactions.html\")\n",
    "    doc.body.p.a(\"RTX UI Display of Details\",           href=\"https://rtx.ncats.io/?r=%s\" % rtx_ui_url.json()['response_id'])\n",
    "    doc.body.p.a(\"Reasoner API formatted JSON results\", href=\"https://rtx.ncats.io/api/rtx/v1/response/%s\" % rtx_ui_url.json()['response_id'])  \n",
    "\n",
    "    output.write(doc)\n",
    "\n",
    "def publish_to_rtx( output, std_api_response_json, input_disease_symbol, title ):\n",
    "    \n",
    "    # get the URL for these results displayed in the RTX UI\n",
    "    RTX_UI_REQUEST_URL = \"https://rtx.ncats.io/api/rtx/v1/response/process\"\n",
    "    to_post = {\"options\": [\"Store\", \"ReturnResponseId\"], \"responses\": [std_api_response_json]}\n",
    "    rtx_ui_url = requests.post(RTX_UI_REQUEST_URL, json=to_post)\n",
    "    \n",
    "    # Write out a master index web page\n",
    "    output = output_file(input_disease_symbol,\"index\",\"html\")\n",
    "    write_file_index( output, rtx_ui_url )\n",
    "    output.close()\n",
    "    \n",
    "    return rtx_ui_url\n",
    "\n",
    "rtx_ui_url = publish_to_rtx(std_api_response_json)\n",
    "\n",
    "print(\"Please visit the following website: https://rtx.ncats.io/?r=%s\" % rtx_ui_url.json()['response_id'])\n",
    "print(\"Please visit the following link to retrieve JSON results: https://rtx.ncats.io/api/rtx/v1/response/%s\" % rtx_ui_url.json()['response_id'])"
   ]
  },
  {
   "cell_type": "code",
   "execution_count": null,
   "metadata": {},
   "outputs": [],
   "source": [
    "# Read a table of diseases and process\n",
    "with open(\"diseases.tsv\",\"r\") as diseases:\n",
    "    for entry in diseases.readlines():\n",
    "        field = entry.split(\"\\t\")\n",
    "        continue if field[1] == \"Disease\"\n",
    "        \n",
    "        input_disease_symbol = field[1]\n",
    "        input_disease_mondo  = field[3]\n",
    "        \n",
    "        # process\n",
    "        input_object, disease_associated_genes, input_curie_set = diseaseLookUp(input_disease_symbol, input_disease_mondo)\n",
    "        \n",
    "        # Functinoal Simularity using Jaccard index threshold\n",
    "        func_sim_human = FunctionalSimilarity()\n",
    "        Mod1A_results = similarity( func_sim_human, input_curie_set, 0.75, input_disease_symbol, 'Mod1A', \"Functionally Similar Genes\" )\n",
    "\n",
    "        # Phenotypic simulatiry using OwlSim calculation threshold\n",
    "        pheno_sim_human = PhenotypeSimilarity()\n",
    "        Mod1B_results = similarity( pheno_sim_human, input_curie_set, 0.50, input_disease_symbol, 'Mod1B', \"Phenotypically Similar Genes\" )\n",
    "\n",
    "        # Find Interacting Genes\n",
    "        interactions_human = GeneInteractions()\n",
    "        Mod1E_results = gene_interactions( interactions_human, input_curie_set, input_disease_symbol, 'Mod1E', \"Gene Interactions\" )\n",
    "        \n",
    "        std_api_response_json = aggregrate_results(Mod1A_results, Mod1B_results)\n",
    "        publish_to_rtx( output, input_disease_symbol, input_disease_mondo, std_api_response_json )"
   ]
  }
 ],
 "metadata": {
  "kernelspec": {
   "display_name": "Python 3",
   "language": "python",
   "name": "python3"
  },
  "language_info": {
   "codemirror_mode": {
    "name": "ipython",
    "version": 3
   },
   "file_extension": ".py",
   "mimetype": "text/x-python",
   "name": "python",
   "nbconvert_exporter": "python",
   "pygments_lexer": "ipython3",
   "version": "3.7.1"
  }
 },
 "nbformat": 4,
 "nbformat_minor": 2
}
